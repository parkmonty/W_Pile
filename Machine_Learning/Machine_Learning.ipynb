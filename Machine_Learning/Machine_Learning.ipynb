{
  "nbformat": 4,
  "nbformat_minor": 0,
  "metadata": {
    "colab": {
      "provenance": [],
      "authorship_tag": "ABX9TyM+wgU5Ei7177DsoXpa63Sb",
      "include_colab_link": true
    },
    "kernelspec": {
      "name": "python3",
      "display_name": "Python 3"
    },
    "language_info": {
      "name": "python"
    }
  },
  "cells": [
    {
      "cell_type": "markdown",
      "metadata": {
        "id": "view-in-github",
        "colab_type": "text"
      },
      "source": [
        "<a href=\"https://colab.research.google.com/github/parkmonty/W_Pile/blob/main/Machine_Learning.ipynb\" target=\"_parent\"><img src=\"https://colab.research.google.com/assets/colab-badge.svg\" alt=\"Open In Colab\"/></a>"
      ]
    },
    {
      "cell_type": "markdown",
      "source": [
        "# **머신러닝**"
      ],
      "metadata": {
        "id": "hl1AapUfvK5V"
      }
    },
    {
      "cell_type": "markdown",
      "source": [
        "* 명시적인 프로그램 없이 컴퓨터가 학습하는 능력을 갖추게 하는 연구 분야\n",
        "* 데이터를 통해 다양한 패턴을 감지, 스스로 학습할 수 있는 모델 개발에 초점"
      ],
      "metadata": {
        "id": "ies6TwM5vOsV"
      }
    },
    {
      "cell_type": "markdown",
      "source": [
        "## 머신러닝 분류"
      ],
      "metadata": {
        "id": "ZdehXlCrvf47"
      }
    },
    {
      "cell_type": "markdown",
      "source": [
        "### 지도학습 (Supervised Learning)"
      ],
      "metadata": {
        "id": "VL2MV8cQviwy"
      }
    },
    {
      "cell_type": "markdown",
      "source": [
        "* 주어진 입력으로 부터 출력을 예측하고자 할 때 사용\n",
        "* 입력과 정답 데이터를 사용해서 모델을 학습 -> 새로운 입력데이터에 대해 정확한 출력을 예측하도록 하는 것이 목표\n",
        "* 학습 데이터를 만드는 것은 많은 노력과 자원이 필요, but 높은 성능을 기대할 수 있음"
      ],
      "metadata": {
        "id": "EJbke_wovnPq"
      }
    },
    {
      "cell_type": "markdown",
      "source": [
        "분류와 회귀\n",
        "* 지도 학습 알고리즘은 크게 분류(classification)와 회귀(regression)로 구분\n",
        "* 분류는 입력 데이터를 미리 정의된 여러개의 클래스 중 하나로 예측하는 것\n",
        "* 분류는 클래스의 개수에 따라 이진 분류(binary classification)과 다중 분류(multi-class classification)로 나누어짐\n",
        "* 회귀는 연속적인 숫자를 예측하는 것 (주식 가격, 농작물의 수확량 등)\n",
        "* 연속성을 갖는 다면 회귀 문제라고 할 수 있음"
      ],
      "metadata": {
        "id": "eRPUwKI6wKmV"
      }
    },
    {
      "cell_type": "markdown",
      "source": [
        "지도 학습 알고리즘\n",
        "* 선형 회귀 (Linear Regression)\n",
        "* 로지스틱 회귀 (Logistic Regression) -> 분류 문제\n",
        "* 서포트 벡터 머신 (Support Vector Machine)\n",
        "* k-최근접 이웃 (k-Nearest Neighbors)\n",
        "* 결정 트리 (Decision Tree)\n",
        "* 앙상블 (Ensemble)\n",
        "* 신경망 (Neural Networks)"
      ],
      "metadata": {
        "id": "OARzIQtbwPjS"
      }
    },
    {
      "cell_type": "markdown",
      "source": [
        "### 비지도 학습 (Unsupervised Learning)"
      ],
      "metadata": {
        "id": "qdV_QEnyyT6l"
      }
    },
    {
      "cell_type": "markdown",
      "source": [
        "* 원하는 출력 없이 입력 데이터를 사용\n",
        "* 입력 데이터의 구조나 패턴을 찾는 것이 목표\n",
        "* 미리 정해진 결과 X, 방대한 양의 데이터에서 유용한 통찰력을 얻을 수 있음"
      ],
      "metadata": {
        "id": "4En1JPcRyjD5"
      }
    },
    {
      "cell_type": "markdown",
      "source": [
        "클러스터링, 차원 축소, 연관규칙\n",
        "* 비지도 학습 알고리즌은 클러스터링(Clustering), 차원 축소(Dimensionality Reduction), 연관 규칙(Association Rules)으로 구분\n",
        "* 클러스터링은 공간상에서 서로 가깝고 유사한 데이터를 클러스터로 그룹화\n",
        "* 차원 축소는 고차원의 데이터에 대해서 너무 많은 정보를 잃지 않으면서 데이터를 축소하는 방법\n",
        "* 연관규칙은 데이터에서 특성 간의 연관성이 있는 흥미로운 규칙을 찾는 방법"
      ],
      "metadata": {
        "id": "w-EIGbZvy9kf"
      }
    },
    {
      "cell_type": "markdown",
      "source": [
        "비지도 학습 알고리즘\n",
        "* 클러스터링(Clustering)\n",
        "  - k-Means\n",
        "  - DBSCAN\n",
        "  - 계층 군집 분석(Hierarchical Cluster Analysis)\n",
        "  - 이상치 탐색(Outlier Detection), 특이값 탐지(Novelty Detection)\n",
        "* 차원축소(Dimensionality Reduction)\n",
        "  - 주성분 분석(Principal Component Analysis)\n",
        "  - 커널 PCA(Kernel PCA)\n",
        "  - t-SNE(t-Distributed Stochastic Neighbor Embedding)\n",
        "* 연관 규칙(Association Rule Learning)\n",
        "  - Apriori\n",
        "  - Eclat"
      ],
      "metadata": {
        "id": "42xK-S_70jgC"
      }
    },
    {
      "cell_type": "markdown",
      "source": [
        "### 준지도 학습(Semi-supervised Learning)"
      ],
      "metadata": {
        "id": "TITo9QWP2-Xr"
      }
    },
    {
      "cell_type": "markdown",
      "source": [
        "* 레이블이 있는 것과 없는 것이 혼합된 경우\n",
        "* 일반적으로 일부 데이터에만 레이블이 있음\n",
        "* 준지도 학습 알고리즘은 대부분 지도 학습 알고즘과 비지도 학습 알고리즘의 조합으로 구성"
      ],
      "metadata": {
        "id": "Rzsc5X2V36SJ"
      }
    },
    {
      "cell_type": "markdown",
      "source": [
        "### 강화 학습(Reinforcement Learning)"
      ],
      "metadata": {
        "id": "oU8Jbqop4Rc7"
      }
    },
    {
      "cell_type": "markdown",
      "source": [
        "* 동적 환경과 함께 상호 작용하는 피드백 기반 학습 방법\n",
        "* 에이전트(Agent)가 환경 관찰 -> 행동 실행 -> 보상(reward) 또는 벌점(penality)를 받음\n",
        "* 피드백을 통해 자동으로 학습하고 성능을 향상\n",
        "* 어떤 지도가 없이 일정한 목표를 수행"
      ],
      "metadata": {
        "id": "DsZDdrGq4Y72"
      }
    },
    {
      "cell_type": "markdown",
      "source": [
        "## 온라인 vs. 배치"
      ],
      "metadata": {
        "id": "l9jR66Yf44as"
      }
    },
    {
      "cell_type": "markdown",
      "source": [
        "* 온라인 학습(Online Learning)\n",
        "  - 적은 데이터를 사용해 미니배치(mini-batch) 단위로 점진적으로 학습\n",
        "  - 실시간 시스템이나 메모리가 부족한 경우\n",
        "* 배치 학습(Batch Learning)\n",
        "  - 전체 데이터를 모두 사용해 오프라인에서 학습\n",
        "  - 컴퓨팅 자원이 풍부한 경우 사용"
      ],
      "metadata": {
        "id": "8kq1AKVZ5Nw3"
      }
    },
    {
      "cell_type": "markdown",
      "source": [
        "## 사례 기반 vs. 모델 기반"
      ],
      "metadata": {
        "id": "UTya8Dfz6F4i"
      }
    },
    {
      "cell_type": "markdown",
      "source": [
        "* 사례 기반 학습(Instance-based Learning)\n",
        "  - 훈련 데이터를 학습을 통해 기억\n",
        "  - 예측을 위해 데이터 사이의 유사도 측정\n",
        "  - 새로운 데이터와 학습된 데이터를 비교\n",
        "* 모델 기반 학습(Model-based Learning)\n",
        "  - 훈련 데이터를 사용해 모델을 훈련\n",
        "  - 훈련된 모델을 사용해 새로운 데이터 예측"
      ],
      "metadata": {
        "id": "7dSa9oPr6Qfb"
      }
    },
    {
      "cell_type": "markdown",
      "source": [
        "## 일반화, 과대적합, 과소적합"
      ],
      "metadata": {
        "id": "PTMLLxqu6xOX"
      }
    },
    {
      "cell_type": "markdown",
      "source": [
        "일반화(generalization)\n",
        "\n",
        "* 일반적으로 지도 학습 모델은 학습 데이터로 훈련 시킨 뒤 평가 데이터에서도 정확하게 예측하기 기대함\n",
        "* 훈련된 모델이 처음보는 데이터에 대해서 정확하게 예측 -> 모델이 일반화 되었다고 함\n",
        "* 모델이 항상 일반화 되는 것은 아님\n"
      ],
      "metadata": {
        "id": "6dY_nxMT7EhD"
      }
    },
    {
      "cell_type": "markdown",
      "source": [
        "과대적합(overfitting)\n",
        "* 주어진 훈련 데이터에 비해 복잡한 모델을 사용 -> 훈련 데이터에서만 정확한 성능, 평가 데이터에서는 낮은 성능을 보임\n",
        "* 모델에 주어진 훈련 데이터는 잘 예측하지만 일번적인 특징을 학습하지 못해 평가 데이터에서는 낮은 성능을 보이는 상태를 말함"
      ],
      "metadata": {
        "id": "eX_3FH9R8IVa"
      }
    },
    {
      "cell_type": "markdown",
      "source": [
        "과소적합(underfitting)\n",
        "* 과대적합과 반대로 주어진 훈련 데이터에 비해 너무 간단한 모델을 사용 -> 모델이 데이터의 다양한 정보를 제대로 학습하지 못함\n",
        "* 훈련 데이터와 평가 데이터 모두에서 낮은 성능을 보임"
      ],
      "metadata": {
        "id": "TvniJowg9KgD"
      }
    },
    {
      "cell_type": "markdown",
      "source": [
        "## 모델 복잡도와 데이터셋 크기의 관계"
      ],
      "metadata": {
        "id": "h1z1xCWX-Q7t"
      }
    },
    {
      "cell_type": "markdown",
      "source": [
        "* 데이터의 다양성이 클수록 더 복잡한 모델을 사용하면 좋은 성능을 얻을 수 있음\n",
        "* 일반적으로 더 큰 데이터셋(데이터 수, 특징 수)일수록 다양성이 높기 때문에 더 복잡한 모델을 사용할 수 있음\n",
        "* 하지만, 같은 데이터를 중복하거나 비슷한 데이터를 모으는 것은 다양성 증가에 도움이 되지 않음"
      ],
      "metadata": {
        "id": "BlYnD3iD-bBI"
      }
    },
    {
      "cell_type": "markdown",
      "source": [
        "## 훈련 세트 vs. 테스트 세트 vs. 검증 세트"
      ],
      "metadata": {
        "id": "QmH_WlVi_C8j"
      }
    },
    {
      "cell_type": "markdown",
      "source": [
        "* 머신러닝 모델의 일반화 성능 측정을 위해 훈련 세트, 테스트 세트로 구분\n",
        "* 훈련 세트로 모델을 학습 -> 테스트 세트로 모델의 일반화 성능 측정\n",
        "* 하이퍼파라미터는 알고리즘을 조절하기 위해 사전에 정의하는 파라미터\n",
        "* 테스트 세트를 이용해 여러 모델을 평가하면 테스트 세트에 과대적합됨\n",
        "* 모델 선택을 위해 훈련 세트, 테스트 세트, 검증 세트로 구분"
      ],
      "metadata": {
        "id": "xbaxIPr__YHx"
      }
    },
    {
      "cell_type": "markdown",
      "source": [
        "![image.png](data:image/png;base64,iVBORw0KGgoAAAANSUhEUgAAATYAAACjCAIAAACPAqW6AAAXmklEQVR4Ae2dT0gj2b7Hz/7yGhqECQ63ITKCM2B6phHG+BbeEBfCa65KnnSghW6VkQujjUEmboLQlLleeuQSufAaQwjv+SC9eANxYUM2tosGIQ0usrFpXNi40EVDE1w0AWnO49Q3OZaVf5WkKqkyvxCk6tSpc059f+dzfuf8qsowTh9SgBSwsQLMxm2jppECpAAnRKkTkAK2VoAQtbV5qHGkACFKfYAUsLUChKitzUONIwX0iKZSqQB9SAFSoEMKpFIp3aikRzQWizH6kAKkQIcUiMVihGiHtKdqSQEDChCiBkSiLKRA5xQgRDunPdVMChhQgBA1IBJlIQU6pwAh2jntqWZSwIAChKgBkSgLKdA5BQjRzmlPNZMCBhQgRA2IRFlIgc4pQIh2TnuqmRQwoAAhakAkO2XxeDx+v58xJjfs1Dpqi/kKEKLma9p0iYqiZEufXC4XCATKizo5OeGcM8YymQzn3OPxyDyxWAxnZzKZiufKnLThIAUIURsZK51Oc87zpU8wGCxvXC6XA6LIrEUU0ObzeTzSubi4WH46Ywwnut3uikfrJobDYc55OByum5MymKIAIWqKjOYUUk6doiggbXFxUVEUxlhdRNGUQqGQz+exHQwGU6kUTvd4PChBvh2hKEoqlZLDgdvtTqgfCb/X600kEjI/BoJ0Ot005OaI1TWlEKI2MnU5opzzk5MTxpic39ZFFGhls1k4W0VR4Jk555lMJhgMytcmZLGFQoFzjrGAc15QP5xzl8vl9XplfjAvd2ku3Z6uQ4i2R2dDtQBREFIoFBgTLwa2gqjb7Y7FYqlUCjSiTNSCBmUyGUkmfCkmsR6PJ51O+/1++EzG2OLiIuc8GAxio9os2tB1UqZGFCBEG1HL4ryAZ39/P61+WkcUHnV/fx8LVCCqjTMFg8GTkxMcBcnwqLlcDnFjeGOZR1EUWota3Av0xROiekU6uF9joivnt3KjPDPYwxJRNzH2+/0nJydaRN1ut8vlgpcOBAKccyDKGJN9wuPxAFFFUWLqx+v1EqJt7iHSHHKJQf91oc0muK4O1MF9IRVRH7fbDUdnJFwUDocTiQTnfH9/nzGG8DA2tIgGg0FJptwAfl6vF7PZcDiM/8oRDocRRmKMIU8ikbhuN21ZqQAhaqW6DZYNN6hFFNAihIPwj3SP2vkq6tnf35cDbS6XQyJwlelyVYnS5B0aznk2mwXJyCwDwto8brfb4/EggwwCN3iVlL0xBQjRxvSyNDceGHK5XNpaAoGA1+t1u91A1+v1YqP86SKk+P1+3e2QQCCARL/fj8L9fr8ELBgMulwuv/pBvUH1o2uDzI8Hm3CWNg9tW6QAIWqRsFQsKWCOAoSoOTpSKaSARQoQohYJS8WSAuYoQIiaoyOVQgpYpAAhapGwVCwpYI4ChKg5OlIppIBFChCiFglLxZIC5ihAiJqjI5VCClikACFqkbBULClgjgKEqDk6UimkgEUKEKIWCUvFkgLmKFAf0Ww2ixeR6C8pQAq0XwG8DyhfhBDvP2h3aJsUIAXspgAhajeLNNke+a8S8C4b3gVvsiw6zU4KEKJ2skYLbUkkEninFP9ezO/3t1AYnWojBQhRGxmjlaYkEgn5knc+n8e/VmilQDrXJgoQojYxRKvNIERbVdCu5xOidrVMg+0iRBsUzDHZCVHHmKp2QwnR2vo49ygh6lzb3Wg5IXpDjlu0Q4jeEmMSorfEkGWXQYiWSeLMBELUmXar32pCtL5GJubY39/PWPDZ399fXFzU3nTxeDwW1WVB8x1ZZPmTeib2E21RhKhWDcu38YOfKWs+8r9UFwoFa2qgUosKJBIJ7a/IWdpvCFFL5dUXLv+5u/4A7TtNgbY9v0WItrVrEKJtlduyygqFAiFqmbodLZgQ7aj8plVOiJompd0KIkTtZpHm2kOINqebA84iRB1gJANNJEQNiOSoLLlcDq+eAFGPx4NfJXTURVBjhQK4v8U5x1pU/hisdepQuMg6bW+UnMlkgsEgfjWQ3re+IY3TdlKplDRlG4ZaQrR9HQQ/pE18tk9xy2pKp9OMsTbwSf+7yDIbVim4UChUOULJDlOgbaYkL+qwnkHN7TYFCNFuszhdr8MUIEQdZjBqbrcpUAHRr185fUkBJypQjV4HXUv5JegRVRTlLz+yR+P0JQUcpsADN0ulUrou/vUrZ8wxF/KXH5miKLpL0CMa/ce/Ph0xfsH4OX1JAecocMHepdl//+//6fr316/8SYDxz064kAv26YhF//Ev3SVUQPTjW8ZP6UsKOEyBaog+Glf5dEKX/viWEHWCnWh8bE4BQtRhY2pzZqaznKsAIUqIkgK2VoAQtbV5nDv2U8vNUoAQJURJAVsrQIja2jxmjcRUjnMVIEQJUVLA1goQorY2j3PHfmq5WQoQooQoKWBrBeyI6HljitGjC43ppR3dP74Vz5fJ75f3lYv68p59eFPh0Lt0hURt+bptVCSewSx/1qJiYnm27ksxjuiX99emfJdm9R+nUzX/8t5ATin7uXia73VS/DVuR0K0Uo+XmtbYOGcHr9jzEHP/mT0JsNW/lXSXtJQ2Pr5l/4xoTIL0c/bsKbumupRZ4IcHobVVn4tnvlf/Jr7iybULtc0y2zn742XlUaACzNpiu2DbOKIf3wp5nwTY998Jsx68KhlCZxpVtE9Hqk0vhOzJF2XGhbDaE9WUD2/Yt9+I/O4/i+GgaB1NtuehknE1piFES0ppRDHas8/Fo9jPnqpyXwjePrwRtPBTgWv87yo258V0fiqyFS2qcggjfXwrhuHki9JgrJL/OilySoA/HQmjise+P7OffyyOBQevrut6NC56jMxvtP1NXLLTTjGOqBBNfez+2dPSE/anwi5FVm/a9I+XguSPb4Ut4G8xx4H1+amwRfKFMKIWxSL5n0W6eI5ffUQ++aLYf14nBcDlEy5CtAVEVdJ+CaoSnwtxGRNkfjoSGwevBFefjq7twZgA6XlIfPlnkYefipSffxSTH7F7IagbHy3uaudaKFD4T/V9o39GxJCffCGc6qcj8fd5iBCtYMrGEFWHUYGoOkPxeYU5nj0VOvPTok0ZKw6pQPTglTAEPxdH439nvwTFXxj3j5fikM+rmkztKq+TYleMpLDjqWDy4JVIfJcWdd3wrqXRkBCtYNcGvNC5sIoYKVVE8YrTl/fCDJ+Oioc+vBEb/EKF8LNIHx8VVvz2myKiYpxW3eOX92JwFWR+Lm2U7AQOGVPrUvH+dCRqAefPQ8U2NNDyUsm3+5QmEVX9208/CIU/vBH2gtSwLIwLI2Kxw0+FU+Wqe3z2VJhYkKna+hpR1Uv/8VKYTPST0nDw5b2AUyyFTsVgXVzFaKxDiJqNqLpQ/P47IbrPKwx8A9ELQWBFRDG+jo8KA/MLPaKYhsE/Y0T/JSjyCPhPhQu9nlBprHu78TNyda0gypiQ90lA5UfF76cfhFPlp9dGvIGoujR99lQclfPYG4gi0HAhCoTJvv+uWMUfL8UoQIi2RmPFrl/uRS/E1EVMZQtinoP157UXrYdo0Sd/FnNXOdF9l1ajROpa9KcfBMPwwPKlZPKi1XBtBVHhGAvCGfJzYQsx2SkIRA9eXU+FKiL65X0xdlB0p6Xw3vioGK/hbB+Ni74hgC9VUUT0s76XkhfVK1LN2JXTz8V4KSe6wj2qcyTGBJ9YQMrYAFabH9+qg2VpLfo8JFae/LOYKWFa9e03xXMlolyt5UlA1IWI7utkMfCIGpMvRJkULiq3UaOIHrxSJybqWlTOU8TyUl2LIoAvpjmlpWlxLaruItqExc6jcVHOo3F1xgRETwWfjInh+9tvin3m5x+FrcdHVf7VBe2N+LDqFQjR1hBVY3eyZ0hI5O0ypGj/Ityn+yt3uRoB/vL+hhcV5asDuYAWMXr1Dps2+qfdlu2hjUYRvTZEueYqY9LEn47UJUmpA8j04kbJXhhDi4ZQbVeM1ZfutXx4o5aj7soytYYjRFtFVKtm69twuQjzVr67XXG+TYlVFGgC0daNyNWb3jJW36IdCVF7IcpV90ixHxM4UaHtDKKlqq9nPVVGECOXSYjaDNEWbGnE3t2Wp4OImiU1IUqI3mYFCNHbbF2zRkEqp4MKEKKEKClgawUIUVubp4ODN1VtEwUIUUKUFLC1AoSorc1jk4GcmtFBBQhRQpQUsLUCXYQo/TIa3iGkv05SoHt+GY1+X5R+W9WhCnTL74tyTj/RTQo4VQHdL3PK3Vv1K93yqmiDFCAF7KCA/ieA7dCm29QGRVFOTk7kFfn9frlNG85VoFAoBIPB9rSfELVW53A4rEXU4/FYWx+V3hYFCoVC20ZbQtRakxKi1urbodIJ0Q4Jb0G1hKgFona+SEK08zYwqwWEqFlK2qocQtRW5mipMYRoS/LZ9WRC1K6WabxdhGjjmjngDELUAUYy2ERC1KBQzspGiDrLXrVaS4jWUsexxwhRu5gukUi43W5PCx/GmPa+qMvlaqGw23yqy+XKZDJ2MXy9dhCi9RRq13Hds0HtqrYb60mrH6dcOSFqF0spipLL5ezSmlvdDkK0mnnp6aJqyoh0QrSWOqYeI0SryUmIVlNGpBOitdQx9RghWk1OQrSaMiKdEK2ljqnHCNFqchKilZWJxWIS0UKhkE6nK+ej1JYVSCQSnHOJKHZbLtWqArLZLEL0eNMlnU7n83mrKlPLJUQry5tIJMLhcCwWy2azHo9He+Ok8gmU2qwC2Ww2EAgA0UAgkM1mmy2pHecVCgWPx5PL5YLBYCaTWVxctLpWQrSqwqlUSvyM680bm1Vz04EWFMhms5Da5nzKS/R6vYyxNvDJOSdEpewVNtLpNPnPCrpYkJRVPxYUbEmRhUKhbRNyQtQSE1KhpIBZChCiZilJ5ZAClihAiFoiKxVKCpilACFqlpJUDilgiQJ6RLPZrPL7C/qSAhUUUJTyPmirDlPxgWpFUSpci107eXlMW4+o8vuLg7nfjkNR+pICOgX6mL63cM5jL/8r9dcnupwd2U399cn/vEqVDyIj7E8daU8TlR7M/ab8/kJ3CXrRld9fHIeil9E4fUkBrQJ8c+ff2b/peg8QPfp1TZuzI9tXG8mDud8qIvqf3/TzzZ2OtKrRSo9DUUKUhp4mFeCbOyPsT7ZF9DIar4Ho1UayUVo6kp8QbbJ3dsRadquUEG2DRQhRQrR5BQhRQrT53tMG7agKQrQNfYC8KI0CzStQF9H8+nbtTnwWiR0uicCSLufh0pouRVdO7aMyM61Fm7euFJE2nKtAXUSPQ9H+HhcCM/n1bcaYLkhzuLT2+MEI39xhjEkd+ObO/d575TcRwPPVRnJ3djkyNqErSp6u3SBECdGuVqAuomDvLBK72kjuza8sDPv45s7VRlLid7i0hkTJVX59O7++Pdo3cBaJIfE4FAWN4FnmvIzGrzaSZ5GYzqOiOmQjRLu6g2r7Sndu10X0aiMZGZvYnV3mmzsLw769+ZXLaLy/x/X4wQhjLL++LRFljPHNncOlNcYYjp5FYmeRGHZH+wbALWNsb35ld3Z5a3KGb+6s+h6O9g0gEcPB1OBQ75278ek5UE2IEqJdrUBdRC+jcd1U9iwS25tfAV2HS2s6RKcGhw6X1vjmDrzo4dLacSjKN3f6e1z59e3jUBQuF4ieRWL3e+/xzR1MoeVsWabTfVHn9U6+uSO/NVYyNQ4Z95ZXG0lM6oyf4ricRhC9jMZ779w9DkWnBocgSGRsAq6vHNH7vffOIjGJ6GU0/vjByNTgkM7lAtHDpbVV30MYC04Yf88isdG+ATw81JAXlX2joQePGuotTfSKLoronkVi/T2u0b6B0b6B+733tiZnKop7tZG833tPt7y5jMbj03Px6TmDFOXXt6cGh/p7XJGxifJT8uvbcqFVftRBKUYQvdpIrvoeTg0OYbq7N7+y6nvIN3ciYxPliMJ5SkS3Jmfi03OIHmlnxUD0OBRFqOkyGm8d0cOlNW33qG1ruHTMEQwGrmDWhWFff49rYdhX3sEuo3G5RNf2gS5CFJF9zLsQk6iI6GU0Lvm52kjm17eRDadotcO2No9MWRj2yQUYjK3NJl1KeWnOSjGCKPoxYwyqHi6tjfYN7M2vMMaAqIzo8s2drckZLFmRPz49ByWxi/jwWSQGRK82kr137u7Nr2xNzgB76UUxAW50optf30ZMq2L30FkQjlqOtrq+hF1d4tbkDJbQaPDVRlJbZn59u7/HVe7AuwtR7dLoaiM5NTg02jewO7u8N7/S3+PqvXMXC6H7vfcuo/GtyZnHD0Z679zF+ic+Pbc7u4xJFOZpmJItDPsQ0pBuGSWjKHmfAMPn4wcjl9H4/d57jLHa47QjWDWIaH59e3d2WfZaOU09DkWlPruzy7hkzFYOl9aAdPkuFqi4m3oWicHT4lwUAtKQ0tBEF91DRph3Z5d779zt73FhPQwLTg0OycBVfHrucGlta3LmMhof7RvAhBx235qcQa9YGPbJC4+MTWBSgBkBphJw3ZfROE6XvUh2gC5FFEsCyeSq7yGmGXJEv4zGpaC9d+6eRWLoK2eRWO+du3xzB7vHoShGU92duuNQlDEWGZsAxjiKGMne/MpZJCZnaNISTtwwiKill6bzVLq6GkVU3hnKr2/D0AhoyRDU1uQMhg8srTFvx0xbEi4n3rJ7oFUIUC8M+8C8nEyhL4Fz8qLFAKNEFEuCs0hsYdg32jeAERS30SNjE4g9IoYhEYVt4Ar25lciYxO4W6BdkyDMuDu7zBg7DkW3JmdQeH+PKz49B0Rr9y1dV7Pnrh0Qra1M04hKnB4/GMEoPNo38PjBCMZcyR46AO4koRuAQHQSbeAKd3Fxfxh3iTB3Q8db9T3Mr2/L+bn2orrdi0Jx+EkZfjCOKIKK5YgCV765A/+JyRhu9CHSQF5U2wut224FUcSuYLXLaFzetj36VdwKkl4UEUEsI6XLrYgoRme+uYPT0Xlkr5COWqdGNyI6NTgEL4oghHwCBotPeXtt1fewoheVM9utyRmMtWeRWGRsQnpRrEVhD0Q7ECNBnOMsEsMYXDGmpzOPzXdN96K47WHiVTeHKCY4mAEdh6J78yuIVOXXtxHNwnrnMhqXE13trFj2qN3ZZfQWuNDI2MSq76HsLSgEq3E8kyyDaloFug7R41BUxmm2JmfAyeHSGu4KIOCGcXF3dvno17WrjSRQRPgRi9KrjeTh0hoA3ptfmRoc0iIKfSNjE1ODQzKcuzu7jGyocdX3UAZItPZw1ra5iOK2R3+PS8aWtGpIb6ZNrLvdKKLHoai0C2ZVcukICyI4hFDF7uyyzI8wD3bRPaYGh7DA0S4v49Nz6AaAFp0H3KKnyfLlpXUdovLKoZHclWE3XbrMUG1jb34Fj7lJ8pETIXXtghMp8mi1Ah2UbiKiVxtJ6UPkBu6TQTc8SKjV04hQjSKqK1NrMnSMag3QpeNRx93ZZRnRRclN9IquRlRnj+Z249Nzo30DFR9RaK5AB51lIqIyKIolH3zm/d57CLDh2V2EDBrSp0VEG6pLmxkud2HYJ++xa482tE2ImvAYo26sbcgAjs5sIqJXG8n49Jy8Xcw3dx4/GME9RjyQsDU5gwlLQ4p1CtHaLrehSyBETUC0IcVvU2YTEUXIFKEUhF5wkwNPhuARBblKNK5hBxE13sjaOQlRQrR5BUxEFHE4RHThP0f7BvCQAN7/xFq0dm8uP0qINm/dcjUpxXEKmIgoXijDw30IF0XGJhBLR7AUD7g2KhEhSoh2tQImIoq3FxaGfXCheL48Mjbx+MEI5rdnkdjU4FCj0RdCtKs7aKMj+u3Lby6i5SEWXRxOd2PDiJ6EKCHa1QqYjqgR6hrKQ4h2dQdtqK/cysyEaBvMShFdGmWaV4AQtRei8tkl2iAFoEANRPGfNTsuVI2JLv6RUsdbWLcBhrxoKpXyPfwP+pIC5Qp4vd7yX0ZLp9PlOTuVsr+/X95Cr9fbqfY0UW8qpf+JVP3vi5ZfIaWQAqRABxUgRDsoPlVNCtRXgBCtrxHlIAU6qAAh2kHxqWpSoL4ChGh9jSgHKdBBBQjRDopPVZMC9RX4f7BpnwIOPKo7AAAAAElFTkSuQmCC)"
      ],
      "metadata": {
        "id": "J9ivf__aAP3x"
      }
    },
    {
      "cell_type": "markdown",
      "source": [
        "![image.png](data:image/png;base64,iVBORw0KGgoAAAANSUhEUgAAATgAAACiCAIAAABal0asAAAej0lEQVR4Ae2d32vcxtrH97/w7d71bs/lXrQ3ZguhLCa5MAiaUDkQkuhcpIFEyY3lm9ZE8cUmBVv0otXFqj0g4mAToiagl2DrxYaqxgeycpzoLa+tN90qKRzUFuvIOhT0Yn975qx37c16vdof3kcIezQazYyemc8+M6OZeTJJkqy//uGHrf+mkySQngReVP+e0HECCWSSJFn98dnGG4dOkkB6Elj98dkJaik9mhCo9AvVDQkQqCf8sSFQu1FN09NUgxIzgUqgEmkDIAEClUAdgGo6KHovvXwSqARqh0Hd3tnCmV6tHcKYCVQCtZOgWpXlC5fOX7l++cr1y1ZluY6oiv+80bMuDLus+M9XX66wyyF3EKgEaidBnTcf3Jy6sfpyZXFpIZPJgDSrsmxVlrd3tubNB1euX95444DYiv8c+C0uLTAmrcry6suV2sBDjihen0AlUDsMqiRPouk7o9ydK89K8uSV65cvXDoPdz6fX325ks1mZ5S7uVyu4j8fGx+bUe7CH4HHxsfmzQeSPAlPAnXjjUOgEqidBxVozZVnZ5S7VmUZavbm1A2rsgyM580Hc+VZcDh6ZnRGuQulOjIygltj42MsMIFKoJ6Q0iShCQ8Hp2RBE0KjArYPix/Omw/gD/asyjJuXbh0Hq3ixaWFsfGxufJsLpezKsuLSwvz5gMCtfYXijTqCVmlCQ8HFPK8+SCbzV65fnn0zOiV65e3d7agMMfGx/L5vFVZzuVy8+YDeI6MjECvzpVnx8bHFpcWrly/fHPqBqBFYNZ3ra21Q+gmUAnUA6SdkAEM1a6+XGGAVfzni0sLbLwXo75QpAhc8Z9DfyLpxaUFNjJsVZbZgNMJMzbojxOoBGonQR10Hvo2/wQqgUqgDoAECFQCdQCqad8quq5ljEAlUAnUAZAAgUqgDkA17Zri6tuECFQClUAdAAkQqB0A9Zfffn5R/TudJIH0JPDLbz+fsKYO+eN7Ex7oIAmQBPpcAgRqnxcQZY8ksCcBApXqAUlgACRAoA5AIVEWSQIEKtUBksAASGAPVBr1TW+0sw9j3v3XP1Exf7a/79r5D/fVANDQx1ncA5V2yu/beQIdz9gPW//NvpT838MHu+tr3Tlff2f0MQUDkDUCdQBmC3QQVwJ1AKA8LIsEKoHaDaVKGvUw+o7hR6ASqATqMYDpVVAClUAlUHtF3zHSJVAJVAL1GMD0KugpBHX15Qr2NMLfxpGYxj3sV1+uDMnmRu8cTHrxaJGdzQeE31pLzQPU3q3ro1qWZds2Kr2maUEQ1AJg27bjOMxHVVXmbnQE+wfzFwShWq3islQqWZbFbsHhum6SJKVSqc6/7tI0TRZP3a2eXJ5CUBeXFiR5MpvN3py6MaPcZYZktne2Nt442ztbqy9X5sqztf5z5Vlsb48AYJsFaER9cH2ag/rWWrp3+9bEubMT587eu31rd30t2dxINjcYcrjErfKdaRYAYXC3Njx7sA5UXdcN488PNqIoAlTHccCGYRimaSZJ4nleEASiKCZJEgQBoxfh4/1D13VFURg8mUwGEEZRlMlkdF3Hs+AzCIJCoZAkCcdxQRB4nocHPc9DgCRJoijyPE/TNObDIu+h4xSCCtguXDoP9maUuxcunV9cWrhw6fyFS+dnlLurL1ewC/6FS+dHz4wuLi1go20EGBsf23jjzCh3x8bHsHPv4GLZmPPmoAK8h/dLj5XZZHPjrbUEaKFjmXtkZKR8Z/re7VsvHi3Cc0q4mmxuiBcnJs6dFS9OMD6ZoxFUWZbt/YPjuDAMRVEslUo8z5umaRiGbduqqgr/PnzfLxQKmqbl8/kkSfDXcRxFUSRJ4nmeISQIAi4Nw5AkSdd1x3E4jlMURRRF27az2azneblcTpZljuMsyzJNk+f5UqkkCEKSJLlcTlGUTCbDMGaR99BxmkGFwZibUzew3+dcedaqLI+eGbUqyzenbkjy5Lz5YPXlys2pG9gFf/TM6PbOliRPgurtnS34N1b3wfV5J6i762vlO9MP75eSzY0p4epjZfbFo8WPPnifkfnWWpoSru6ur02cO/vi0aJ4cQKIrnxTLt+ZTjY3Js6dZXwyRx2ohmGIoqjvH8Vi0fM80BVFEVi1LIvjOIABhlmTFeAlSeK6rqqqtm0z5ZwkiSAIiqK4risIgmVZuq6Loqiqqmma2WwW8SdJUiwWkyRxHEfXdbjhqWkalDki6SGZdUkPBagw+nTh0vl58wEzNiHJkzDoJMmTAHJsfAygwobF9s4WNO3gYtmY82OBKl6cKN+ZfqzMlu9Mv7WWVr4pixcnHiuztaDeu30LoD5WZqGHW9So4CFJEkmSGKhhGAJU0zQZP7WgyrLseR5uWZalqqplWbWg8jzv+z7P86IogkNBEGzbrlarhmHEcYxfBPwK1IEKpU2gdm98dXtnC0Bu72xduX4ZoI6Nj0nyJMzDQIvCYAzTqB8WPwSoML6Iji7bTbux0g+iz7FAXfmmjM7qvdu3ynemp4Sr0LFTwtWH90vQqGj0Tpw7+9Za+uiD9+/dvvWX995jipQ56jSqpmmMLkEQgiAQBEGW5WKxCA1pWZaiKGj58jxfrVbz+byqqqyHKUkSfBzHgSdUEBjOZDIYr1JV1XGcYrEoyzJattls1nVdBEMD2zRNjuMkSZJlOY7jbDaLpi/1UbtBLBvFZQ7oz4r/HCfDjF2ykOijVvznh1pJZQ8OoqMVUBldu+trb62l198Z8HnxaJG5G4d831pLj5VZdGtrY4C7DtQ4jlnTjrld160b/vU8LwxDBAjDsJYcDDvhVu1T8GFxsgCsw4kI6wL4vs8CYDCJZa9PHKez6XtyhObKs1euX54rz548qr6K4bigNiLXxOfe7VvixYmVb8qNYepA7ZPaP0DZIFCPVO/4nNNXmJ08M6mCWvctpxZXAvWEPwoE6pGgnpyKPowhVVBryaxzE6gE6nCRdkL4CdQTAtOrx0mjDhfnBGqvSDthugQqgUqT8k8IUTce3wN1/fUPqz8+o3MYJPDs1VO2Z9Lr74yunW+tpW5U59Obxh6odJAESAJ9LoGMpml9nkXKXgclYFmW7/sdjJCi6o4EMlhD1J3EKJWeS6Ajq7dc12WrSXv+RkOSAQJ1SAr6z9fUNI3NlWvvzcMwtG3bdd2+Wlfd3rsM0FME6gAVVgeyenJQTdPEim22/KUD2aIo3iUBAvVdEjpd908Iqm3bQRBEURTuH8Rq12oHgdo1UfdFQicBtVqtOo4TxzEojaIIPn3xYqc9EwTqaS/hg+/XNqhxHKPRC0rxN45j6NiDidBV5yVAoHZepv0cY9ugmqbJWrx1rFIDuAslvgcqa8zUFsCpdx9a7U73W8dxrKpqG6O+juP4vn+oxKIoCoKgcVfOLtTdoUpibz/Ff2/1Nlz/c7nccL3w/tvyPF+7H0IrdT0IAtu2m/yaR1Hkum4b/LeSOoWBBIZ3CqEkSVQJWpEA9gRr3taI49iyrCiKWomQwrQhgSEFNY5jArWV6mKaZnNE2d0oiqiz2opI2wtDoLYnt6F4Cg1aTG84tIMKSqMoQhg0kodCNF1/SQK16yIfnASx1yb2s28+mIQwtm3run7cPvDgyKOXOSVQeyn9Pk8behJ/jxpPwuaanuexwH3+UgOaPQJ1QAuu29luDiotnUu7PAjUtCV8SuInUHtbkMMLKi3EPVbNI1CPJa6OBx5SUGHJq+PSPMUREqi9LdwBADUIAtM0a+2OHEtkYRiyccg4jpkbkeCrQxAEtcZI6sKw5Ia5J0agsmrQE0e/g2rbdiaTMQxDEIT2pijAEBiEqyhK3R5RMJtb+1HB9/1aC9Z4EEnLstyTQuqHRAnU3pZCv4M6MjLCdJ0sy0EQlEoldC8FQeA4DubiS6VSsViEJT9Y76udJZPL5cIwTJIkm83CAC7HcbD2B+uamH8DC7mSJKmqmiSJKIqwSG1ZViaTsW0bkMP0LezPwy59sVhkVut7W5zppU6gpifbVmLud1CBFnuTIAiAriAIYCOfzzuOA+u0sD8NjGu1IixbB0EA87W4Zdu2oiiwxinLsuu6MDivaRriwf5dzCAnLFLDlHWSJLIsW5YFs9ZBECADLJ+nz0Gg9rZM+x3UTOY/OVRVtVqtov3JwMByEEVRcrkcbpVKpWw2C40H4cZxDGPSWI2lqiq/fzDD8qVSybZtPO77vqqqrutyHCeKIizegnCO40zTRCRQsFgkCIv0vS3ItFMnUNOWcPP4/4NB83C9uitJEpAzTbNQKARBgO4iNGoURdCouq5D4xn7R5IkuVyOtZkBEmN+ZGQkSRK0WtH0rdOomqbBXn0QBFCzwBVNXBiuhuV5QRAw05X9cPRKUGmnS6CmLeHm8fc7qEmSKIpSLBbBZxiG6IiGYSiKIs/zWAYpyzLP88BVkiSe55nleby/67q4mySJYRgIIEmS67qO46CPats2z/NoD1erVbgVRXFdF56IQdM0juPQj9V1HT8HLPLm4h7cuwRqb8tuAEDtrYAodUiAQO1tTdgDdfdf/6RzeCTQXoUjUNuTW6ee2gP1ibPw7NXT1s+/ff9lG4+0Hv+zV0//9v2XxwrfxiPDmcQTZ+GX335uo/YQqG0IrYOP7IG6+uOzY9mxXv3x2frrH471yBNnIdXwG2+c05HEs1dPUxVUrSHjY1UjAvVY4up4YAL1GIaM0/4tqPjPCdSOV/HTESGBSqC2VJNJo7YkptQCEagEakuVi0BtSUypBSJQCdSWKheB2pKYUgtEoBKoLVUuArUlMaUWiEAlUFuqXARqS2JKLRCBOuygYmF90PRw949Dt/bFLoTDvKQ+NTYPREygDjWoYRiapum863Bd9yjbMwTqAZ5SuyBQhx1U2CaO3nUw0xV1jiiKHMc5avOa1Ort0EVMoBKozqFt2jogj7qELeOh46brL0ygEqgnAjWKIjKO2gVsCVQCtX1QYRmVRpII1D6iqAvz/rs/1zcMQ8c5Eai1m8h1ob4ObRKkUfvot2CwQI3jmCjt2g8HgUqgHlujYpsowzCwCWvXKuswJ0SgEqhOHMfv+jqzd58ZVsQuU8OMTfffnUDtI1A33jhdXo+KCQ+YeNT8r+M4tm1b+weNHvUG1CfOwrFObMWS6iOURIviPa6g/vb9l3VbsQRB4Ldw1Jrn6X41pRT3NCodJAGSQJ9LgEDt8wKi7JEE9iRAoFI9IAkMgAQI1AEoJMoiSYBApTpAEhgACRCoA1BIlEWSAIFKdYAkMAASIFAHoJAoiyQBApXqAElgACRAoA5AIVEWSQIEKtUBksAASOAAqLDbzXEczHvXZR9b0dV54lIQBJ7nOY6TZfnQAId6BkGgKEocx7Aa7jhOkiSHJn3o4+RJEhgeCRwAtVgsYoWhruuCICRJEgSBbdvYY47nedu2kyTBQopaGWWzWVxKkoTFxI7juK6bJAm2jXVdF5O/seedbdthGAJRy7JEUfR9v1AohGHIdqa0bbtarSJa5AHZYJ61GSA3SeB0S+AAqBzHxXGMF87n80EQ5PN50zQLhUIQBMViUdd1VVVLpZKqqrWqL5fLYQNnQRBs2y6VSoqiSJKkaZpt25lMxjAMQRDE/SOXy6mqWiwWgyCQJEnXdY7jLMvK5XKe5/E8X61WM5mMrusjIyNxHHMch/ClUilJEp7nT3eR0NuRBBolcCSohUIhSRLTNBVFyWazURTJsgytqOu6JElQuYgxl8tJ+4eu63sTiPcxA122bWualiSJIAhxHDuOo6oqeAOo1WpVURRGoCAI1WoVTMqy7LouyPR9H56N70A+JIFTL4F6UPHCrutyHGfbNtSmIAgANQxDjuMcx/F9XxRFJh3W9IXPyMhIFEVBEJimads26BVFMQxDxi3P8wDV87zmoHIch/Y2gcoETo5hk8ABUAuFQnH/QLvXdd18Pi9JUjabNQxDURRZliVJEkVREIRMJsO2zMlkDsSjqirP88Vi0TRNy7IAqiAIABUaleM40O77PqIaGRmxbZvnec/zMCglSZLv+5Ik8TxfKBQw8lSX1rAVGL3vcErgAGCNIsBWOkmSoO+KvxjUYb3ZxqcwChVF0aG3jusJfWtZFgg/7uMUniRwCiTwDlD74Q0Nwzjqi1E/ZI/yQBLoggQGANQuSIGSIAn0uQT2QF1//cPqj8/o7JUEnjgLrJb8/r9/+9V7muq5+69/IrnX3xldO99aS+wdydGGBPZAXf3x2cabY+yaSYE7K4E6UJPf19I7//XLf/3zt59QUf7v4YPd9bXunK+/M9qonfQIkwCB2vtfKAKVVUdyHCUBApVA7YZSJY16FIEt+hOoBCqB2iIsvQxGoBKoBGovCWwxbQK1/0D9w+nhYFKyucHODo4zDUnTt/ksoBaZPDRYX4O6uLQgyZMzyl1JnpwrzzaOtVqV5cWlhVr/ufJsxX9e69P/7rrBJGP+C4D606snzx5/WQvts8df/vTqyebaPDx/9Z4yd12wX72ntT7M3XzU9621dO/2rfKd6fKd6Xu3bx0F6ltraXd97bEye1SARv86ULn9I5vNNpnKIkkS5sCxiqtpGtZOMp8mjmKxCGNWcRzn8/m6kDzP+76PSW+4VbvIBD5YXIn56nWPH3XJcVyxWGz+Xpi3Z1lWEAStT1/va1BXX65YleV8Pr+4tGBVliv+89WXK/hrVZY33jgIUPGfV/znVmV5e2dr3nzALhmxCNy3xNaBek34eA+/P5yZz64B1J9ePdkj7Q/nmvDxn3D+4YDYb7/6PNl375G5/8jm2jyj988H97/34Ntsc1B319dePFq8d/vWvdu3Xjxa3F1fe2stAUvmTjY3Js6dfWstrXxTBpAsAMI0Urq7vlYHKio6VmglSWLbtmmaMCdXKpUMY+9bjm3bcRxjUQdmj7qui+niWNSFqeaGYei6jpXStfxgSWaSJJZlYW2JYRilUgn7E2BFJ9z6/oFFWq7rsgxgI4Rqter7fhzHiqKoqhrHse/7tm0ritKYKDJQLBZZTjRNw1NJkmiaViqVwjDUNA3LPB3H8TwPK0ORGaxRsW0buymwePoa1I03zvbO1ofFDyv+8+2drQuXzo+Njy0uLYyNj0ny5M2pG/Pmg7ny7JXrl3Fr3nxw4dJ5q7KcyWQkeTKXy228cT4sfijJk5lMhnHbb8TWgbq5Nj/z2bXkD2f0zCjg/Parz8fPFZLf18RPP9lcm//2q8+//epz8dNPxs8VjPkvvv3q85nPrgHvC9xHX89NzXx27adXT8bPFb6em8KDmUxm5rNr+Xz+V+9p8++oyebGw/ulh/dLyebGi0eLE+fOTglXy3emHyuzU8LViXNnV74p/+W99x4rsxPnzr54tDgyMnLv9q2PPnh/d33tow/ev3f71l/ee6+R1eagCoIA/Yk1VaIoep4nCEIQBJlMxrZtWZaxLMR13UKhoOu6YRjwlGXZcZzGpRphGOKHQBAEz/Mcx5H312lCu2LZc6lU0nUd9CIGtkwa4Y39w7ZtQRBgchIrrguFgud5uVzu0LYuA1UURShkQRBY/iVJchwHmyVgowWO4zzPy+fzYRjm83nP8ziOw6/VQIJ65fplaEs0hi9cOr+4tABQoVpnlLsA9cKl89s7WyBZkifhXn250m+IIj91oCa/r42fK/z06sn01F+TP5xnj78EqL96TwHq13NTF7iPoEiN+S9+evUE3CLkT6+eQBV/PTeV/OEY8188e/wlwn89N/U/a+XmoO6ur5XvTANU8eLEvdu3Ht4vffTB+yvflCfOnX14v7S7vjYlXN1dXwOoU8LVZHNDvDjxWJl9rMzCfVxQsQQSOkcURWwhIIpiEARQdLZtG4ahqioqMVqPsiyLoghUGhuuWALteR6wCcMQ4XO5HBY/YyE024cAMei6LopiPp93HEfXdcdxDMOwLIsFwyYHoAgLwhhLzMFAzWQy8v7BcRy2XhAEwXVdLK4OggC/NZZlIbeO46A1jtRZhH8aiernmUnbO1ujZ0ahUa9cv7zxxplR7s6VZ1dfrly5fnlxaWFGuXvl+uVDQUWAm1M3tne2xsbHBgbUP5yv56ZGz4yi4cp06a/eU6hNBurm2rwx/wWoBpDffvU5AxWcfz03tbk23zaoK9+U31pL5TvTcDy8X7p3+9ZRoJbvTKNh3CKorOsIJqFFsW+W53l1oKIpWwsq9ipArxUrouv6tLZt53I57FtQKpWwSRDULMdx2J9AFEUWQxAEWPwMHYsuMUBltBeLRbbEGuu06xJNkoQ16ZnKVVUVndIgCHK53KGg8jzvui5+L1RVHTCNuvHGgSLdeONI8uTGGwdN3yvXL4+Nj6HpK8mTAHWuPHtz6sbqyxXAifCSPHnh0vl8Pj8woP6+hoZrsj/8e034WPz0E/HTT549/hJtWqYkrwkfQ4teEz6envrr9NRfN9fmxU8/+farz3/1nk5P/RUPJr+vAdpvv/q8FY3KdONba2ni3Fk0d6FRoUXZaNOLR4uAEyNPU8JV8eIEmsF1rB7a9GVqED03bLuDZjB28wnDEN1Lx3FM09R1vVqtwoftjMfzPHRgkiQcx9UtrsQuQth4oFgsYik1dkTwfV/TtCAICoWCsH8gBmRAkiSsjrYsC5uEFYtFjuNc10VmkiTBqmk012u1H3svx3HwFPqcxWKR53ld16MoKhQK2O3Esiz0dfFeWMvN8/zggbq9s9Vek3V7Z6viP0djePTMaHuRdOGpxqYvho7+HKrF15q6v3WX+0NNB8Izn9qQv6+9czCpDrAml8nmBruLDu2UcBXdWubPHIeCWlu523Ojs8ratz1Zsaxp2qE91TbeKAxD9MxFUcTYEouk3weTTs6JVVlGU/nkUaUUw+GgpjM1v4OgMgiZ48WjxYf3S7WDwOxWSqCiW6soSmP7k1XxwXI4jlMqldBrrc356Qc1Jbo6GO2pAZVh2ehID9Ta2nyK3QRq/81MSkeXomGcqkZt5JP5EKgn/BEhUAlUmut7Qoi68TiBSqASqN0g7YRpEKgEKoF6Qoi68fgeqL/89vOL6t/p7KEEWFH/Wl1L+2R7Jv3DffWz/X13zn+4r9g7kqMNCeyBSgdJgCTQ5xIgUPu8gA7PHpabHH6PfE+jBAjUwStVwzCCIIiiyDAMZlVk8F6DcnwcCRCox5HWccJiDqd98MA8z+NEcyBsEASGYcDOCAzMWpZVt3DxwAN0cVokQKCmVZJY9xwfPBzHaVsHYoVxHMdhzQFLlketYE7r3SjerkuAQE1L5LZtR1FUw1QYRVHboDr7Rx2liDyO42q1ijVcab0MxdtrCRCoaZUANGpHQMUK5mq1iq5pbZxhGAZB4O0fmqa1ra7TkgLF2yEJEKgdEmRDNB3UqJ7nYecewzDqlGocx+imVvcPArWhHE6JB4GaVkGilVur/aIoAnJtJ9mopbH9V9sR0oODIgECNa2SwtY4dd1UbKLXXpJRFDVqaQK1PWEO3FMEalpFFgSB67p1oKKl2l6Sh5J/kgjbywY91RMJEKgpir2xpYqBX2wMfdyETdOs66BGURQEQd2eHceNlsIPhAQI1BSLybKsOrQwS6GNTymu63qeV6efWWM4xXegqPtDAgRqiuWAryaNdGGr9dYTDoKgUTmzmUmtx0MhB1cCBGq6ZXeoUsXwb4vTiXzfbxIJzR9Mt/z6JnYCNd2icF23Wq3WKdUw3Jul5Pu+aZrNv3xiR9nG9nPbTeh035ZiT00CBGpqov13xI2DQPi4irn1tm1bluW6LtvwMoqiarUKf5gnqv0YCzem+LY3KPXvfNH/QZIAgZp6aR3Vw6zF1fd9KE8stvE8DzqzURUzbdxiyzn116MEuiIBArUbYoY1sUNbsLW4YqUNW8XWqEhBaRiGbYwbd+M9KY3UJECgpibagxE3Wf5yKJCHeuLDKVF6ULRDcUWgdq+Y2YLSQxu0h5JZ6wkTukRpGgXWpB8RxzEbWtd1HfamkIcmTzmOA+tSbOjh0GzXGlCH+alDg/1pdvGoe+TfcQkEQWCaZhAEcRy3jmsURZjTS5OQOl4iiFDTNBgahs0427Y1TdN1XVEUGCyHbTVZli3LMk0T4fEIC6yqKuy7eZ4HO+gwhW6apqqqsJIOC26macIMpCzLSEhVVUVRYPNKVVXYKYcR5FKpFEURadSUir5ZtBjRBa5NiAWfGOC1LKv5h5xm6dG9phIAaYZhQA2qqgpD4IqiwNgxMyus67plWaX9AyhalgXbp6ZpGoaB9k4QBJqmmaaJ7XgURYmiSN8/ZFmGg9lcZEbNQammaeBcURRBEIB0tVolUJuWYZo3gatt24zY2m1boihyXRfm6Js3n9LM41DEjeEDTCxBkyeKImCm6zqW5uNLWLVaTZIEH8+wRsK27dpL9sEM3RzsccV2usKHOsMwwL/v+0EQ+L7vui6qgb9/gHbf9z3PwyQ23/cJ1B7XxTiOUU4Hd0GzHcchPntbNh2xenpUO+i4kf8/tOFpcTSNVr4AAAAASUVORK5CYII=)"
      ],
      "metadata": {
        "id": "sgyI976YAQl2"
      }
    }
  ]
}
