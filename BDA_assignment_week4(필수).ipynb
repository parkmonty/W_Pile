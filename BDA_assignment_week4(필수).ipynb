{
  "nbformat": 4,
  "nbformat_minor": 0,
  "metadata": {
    "colab": {
      "provenance": [],
      "authorship_tag": "ABX9TyN/s6bZR8Glb0+2yLdyhCnP",
      "include_colab_link": true
    },
    "kernelspec": {
      "name": "python3",
      "display_name": "Python 3"
    },
    "language_info": {
      "name": "python"
    }
  },
  "cells": [
    {
      "cell_type": "markdown",
      "metadata": {
        "id": "view-in-github",
        "colab_type": "text"
      },
      "source": [
        "<a href=\"https://colab.research.google.com/github/parkmonty/W_Pile/blob/main/BDA_assignment_week4(%ED%95%84%EC%88%98).ipynb\" target=\"_parent\"><img src=\"https://colab.research.google.com/assets/colab-badge.svg\" alt=\"Open In Colab\"/></a>"
      ]
    },
    {
      "cell_type": "markdown",
      "source": [
        "# **필수과제 1**\n",
        "\n",
        "* 리스트컴프리헨션 or 리스트 내포"
      ],
      "metadata": {
        "id": "DVA5uSEdE5Ep"
      }
    },
    {
      "cell_type": "markdown",
      "source": [
        "## 1. 개념정리"
      ],
      "metadata": {
        "id": "C7H-m2DhE-OO"
      }
    },
    {
      "cell_type": "markdown",
      "source": [
        "> 리스트 컴프리헨션이란?\n",
        "\n",
        "* 리스트 컴프리헨션은 직관적으로 리스트를 생성하는 방법\n",
        "* [  ]로 감싸고 내부에 for문과 if문을 사용하여 반복하며 조건에 만족하는 것만 리스트로 생성\n",
        "* 리스트 컴프리헨션을 사용하는 큰 이유는 직관적이고, 여러줄 쓸걸 한줄에 만들어 주며 속도도 더 빠르기 때문"
      ],
      "metadata": {
        "id": "FvCrFoGtFMJL"
      }
    },
    {
      "cell_type": "markdown",
      "source": [
        "> 기초 사용법"
      ],
      "metadata": {
        "id": "oQ5WRrojF_ZL"
      }
    },
    {
      "cell_type": "code",
      "source": [
        "# 0부터 4사이의 정수로 리스트를 생성\n",
        "li = []\n",
        "for i in range(5):\n",
        "  li.append(i)\n",
        "print(li)"
      ],
      "metadata": {
        "colab": {
          "base_uri": "https://localhost:8080/"
        },
        "id": "qISPp8ALGNwo",
        "outputId": "7695f354-83c6-403b-8488-ec91a21d8853"
      },
      "execution_count": 3,
      "outputs": [
        {
          "output_type": "stream",
          "name": "stdout",
          "text": [
            "[0, 1, 2, 3, 4]\n"
          ]
        }
      ]
    },
    {
      "cell_type": "code",
      "source": [
        "# 리스트 컴프리헨션 사용하여 생성\n",
        "# 코드를 한줄로 처리가 가능\n",
        "[i for i in range(5)]"
      ],
      "metadata": {
        "colab": {
          "base_uri": "https://localhost:8080/"
        },
        "id": "IJ_YifLNGZR9",
        "outputId": "617edb1a-09e9-4a96-a565-9adef794e871"
      },
      "execution_count": 4,
      "outputs": [
        {
          "output_type": "execute_result",
          "data": {
            "text/plain": [
              "[0, 1, 2, 3, 4]"
            ]
          },
          "metadata": {},
          "execution_count": 4
        }
      ]
    },
    {
      "cell_type": "code",
      "source": [
        "# 다음의 방법이 더 효율적인 것 같음\n",
        "# 리스트 컴프리헨션을 사용하는 이유는 대괄호 내에 수식이나 함수 적용뿐만 아니라, if else 문으로 조건을 자유롭게 줄 수 있다.\n",
        "list(range(5))"
      ],
      "metadata": {
        "colab": {
          "base_uri": "https://localhost:8080/"
        },
        "id": "vLsh49gjGjDh",
        "outputId": "4974c327-2ce4-482f-ab7e-1f45d8b0a474"
      },
      "execution_count": 6,
      "outputs": [
        {
          "output_type": "execute_result",
          "data": {
            "text/plain": [
              "[0, 1, 2, 3, 4]"
            ]
          },
          "metadata": {},
          "execution_count": 6
        }
      ]
    },
    {
      "cell_type": "markdown",
      "source": [
        "> 응용"
      ],
      "metadata": {
        "id": "rxi0zqKXHMDR"
      }
    },
    {
      "cell_type": "markdown",
      "source": [
        "* 수식이나 함수 적용"
      ],
      "metadata": {
        "id": "us6yXZ84HOKx"
      }
    },
    {
      "cell_type": "code",
      "source": [
        "# 수식 적용\n",
        "# 0부터 4까지 반복하며 10을 곱해, 0부터 40까지 출력할 수 있음\n",
        "[i * 10 for i in range(5)]"
      ],
      "metadata": {
        "colab": {
          "base_uri": "https://localhost:8080/"
        },
        "id": "6RTUvj8iHDIN",
        "outputId": "8ae38d3a-f612-4a46-93ba-62b5e568afba"
      },
      "execution_count": 8,
      "outputs": [
        {
          "output_type": "execute_result",
          "data": {
            "text/plain": [
              "[0, 10, 20, 30, 40]"
            ]
          },
          "metadata": {},
          "execution_count": 8
        }
      ]
    },
    {
      "cell_type": "code",
      "source": [
        "# 함수 적용\n",
        "# test 함수는 x를 받아 문자열로 변환 후에 ab를 추가해서 반환\n",
        "# 0부터 4까지 반복하며 test 함수에 넣고 반환된 값을 리스트로 생성\n",
        "def test(x):\n",
        "  x = str(x) + 'ab'\n",
        "  return x\n",
        "\n",
        "[test(i) for i in range(5)]"
      ],
      "metadata": {
        "colab": {
          "base_uri": "https://localhost:8080/"
        },
        "id": "8P6wcmEjHeGi",
        "outputId": "02612828-aeab-4122-97a8-83e479312f2b"
      },
      "execution_count": 10,
      "outputs": [
        {
          "output_type": "execute_result",
          "data": {
            "text/plain": [
              "['0ab', '1ab', '2ab', '3ab', '4ab']"
            ]
          },
          "metadata": {},
          "execution_count": 10
        }
      ]
    },
    {
      "cell_type": "markdown",
      "source": [
        "* 조건문 사용\n",
        "\n",
        "  * 조건문은 리스트 컴프리헨션에서 왼쪽에 쓸 수도 있고, 오른쪽에 쓸 수 도 있다.\n",
        "  * if문만 사용할 때는 오른쪽에, if else문을 사용할 때는 왼쪽에 씁니다."
      ],
      "metadata": {
        "id": "M_8-oXgAIL8t"
      }
    },
    {
      "cell_type": "code",
      "source": [
        "# 오른쪽에 if문 사용\n",
        "# 0부터 4까지 반복하며 i가 2로 나누어 떨어질 때라는 조건을 충족하는 값만 리스트로 생성\n",
        "[i for i in range(5) if i % 2 == 0]"
      ],
      "metadata": {
        "colab": {
          "base_uri": "https://localhost:8080/"
        },
        "id": "uRzHFqzbHz9c",
        "outputId": "d6af708c-fc32-4e9c-acee-e784e9e76676"
      },
      "execution_count": 11,
      "outputs": [
        {
          "output_type": "execute_result",
          "data": {
            "text/plain": [
              "[0, 2, 4]"
            ]
          },
          "metadata": {},
          "execution_count": 11
        }
      ]
    },
    {
      "cell_type": "code",
      "source": [
        "# 오른쪽에 if문을 여러 개 사용할 수 있다.\n",
        "[i for i in range(5) if i % 2 == 0 if i % 4 == 0]"
      ],
      "metadata": {
        "colab": {
          "base_uri": "https://localhost:8080/"
        },
        "id": "BCMwAP9dI1mL",
        "outputId": "4de8768e-8a11-495f-c627-5971ba6e7bd3"
      },
      "execution_count": 13,
      "outputs": [
        {
          "output_type": "execute_result",
          "data": {
            "text/plain": [
              "[0, 4]"
            ]
          },
          "metadata": {},
          "execution_count": 13
        }
      ]
    },
    {
      "cell_type": "code",
      "source": [
        "# 왼쪽에 if문 사용 (else 같이 사용)\n",
        "# 왼쪽에 if문을 사용할 때는 반드시 else와 함께 사용해야 한다\n",
        "# 0부터 4까지 반복하며 2로 나누어 떨어지면 i 값을 아니면 'odd'값을 반환해서 리스트를 생성\n",
        "[i if i % 2 == 0 else 'odd' for i in range(5)]"
      ],
      "metadata": {
        "colab": {
          "base_uri": "https://localhost:8080/"
        },
        "id": "yjJcvaF6JTYT",
        "outputId": "b40d424f-37ba-4eec-cd99-b82b5e40a2d8"
      },
      "execution_count": 15,
      "outputs": [
        {
          "output_type": "execute_result",
          "data": {
            "text/plain": [
              "[0, 'odd', 2, 'odd', 4]"
            ]
          },
          "metadata": {},
          "execution_count": 15
        }
      ]
    },
    {
      "cell_type": "code",
      "source": [
        "# if else문은 여러 개를 사용할 수 있음\n",
        "# 여러 개를 사용하면 elif와 같은 효과를 주게된다.\n",
        "# if i % 2 == 0 : 2로 나누어 떨어지면 i값 반환\n",
        "# else 'odd-1' if i == 1 : 2로 나누어 떨어지지 않고 i가 1이면 'odd-1'을 반환\n",
        "# else 'odd-3' : 위의 조건이 모두 성립하지 않으면 'odd-3'을 반환\n",
        "[i if i % 2 == 0 else 'odd-1' if i == 1 else 'odd-3' for i in range(5)]"
      ],
      "metadata": {
        "colab": {
          "base_uri": "https://localhost:8080/"
        },
        "id": "CMRvsTYrJrSi",
        "outputId": "f4ce5b3d-9144-4550-ced7-aab2bc266d0e"
      },
      "execution_count": 17,
      "outputs": [
        {
          "output_type": "execute_result",
          "data": {
            "text/plain": [
              "[0, 'odd-1', 2, 'odd-3', 4]"
            ]
          },
          "metadata": {},
          "execution_count": 17
        }
      ]
    },
    {
      "cell_type": "markdown",
      "source": [
        "* for문 2개 사용\n",
        "  * 리스트 컴프리헨션을 이용하면 for문을 2개 사용함으로써 중첩 for문의 효과를 줄 수 있음"
      ],
      "metadata": {
        "id": "jHjnQveILKPU"
      }
    },
    {
      "cell_type": "code",
      "source": [
        "# i가 0일때 j는 0부터 2까지 반복하며 i가 1일때 j는 0부터 2까지 반복한다.\n",
        "[(i, j) for i in range(2) for j in range(3)]"
      ],
      "metadata": {
        "colab": {
          "base_uri": "https://localhost:8080/"
        },
        "id": "5DkzPhY2Kry-",
        "outputId": "db29af99-ed5c-4904-b7d1-f9964c19903f"
      },
      "execution_count": 18,
      "outputs": [
        {
          "output_type": "execute_result",
          "data": {
            "text/plain": [
              "[(0, 0), (0, 1), (0, 2), (1, 0), (1, 1), (1, 2)]"
            ]
          },
          "metadata": {},
          "execution_count": 18
        }
      ]
    },
    {
      "cell_type": "code",
      "source": [
        "# 위의 코드를 풀어서 작성\n",
        "li = []\n",
        "for i in range(2):\n",
        "  for j in range(3):\n",
        "    li.append((i, j))\n",
        "\n",
        "print(li)"
      ],
      "metadata": {
        "colab": {
          "base_uri": "https://localhost:8080/"
        },
        "id": "0IC8-gcvLjX3",
        "outputId": "0f6efbf9-f39e-48f8-8957-8f332a08cd1a"
      },
      "execution_count": 19,
      "outputs": [
        {
          "output_type": "stream",
          "name": "stdout",
          "text": [
            "[(0, 0), (0, 1), (0, 2), (1, 0), (1, 1), (1, 2)]\n"
          ]
        }
      ]
    },
    {
      "cell_type": "markdown",
      "source": [
        "> 집합 컴프리헨션"
      ],
      "metadata": {
        "id": "po1L7gDkMovh"
      }
    },
    {
      "cell_type": "markdown",
      "source": [
        "* 리스트 컴프리헨션은 대괄호로 둘러싸고 안에 코드를 입력한다\n",
        "* 하지만 대괄호 대신에 { }로 둘러싸게 되면 집합 컴프리헨션이 된다."
      ],
      "metadata": {
        "id": "cmS6MzV5MUbS"
      }
    },
    {
      "cell_type": "code",
      "source": [
        "{i for i in range(5)}"
      ],
      "metadata": {
        "colab": {
          "base_uri": "https://localhost:8080/"
        },
        "id": "xs53BH5JMlTi",
        "outputId": "1608a904-0375-4575-ae37-cbc21b99501a"
      },
      "execution_count": 20,
      "outputs": [
        {
          "output_type": "execute_result",
          "data": {
            "text/plain": [
              "{0, 1, 2, 3, 4}"
            ]
          },
          "metadata": {},
          "execution_count": 20
        }
      ]
    },
    {
      "cell_type": "markdown",
      "source": [
        "> 딕셔너리 컴프리헨션"
      ],
      "metadata": {
        "id": "D1YQjaHyNELO"
      }
    },
    {
      "cell_type": "markdown",
      "source": [
        "* 딕셔너리의 형식에 맞게 키와 값을 콜론을 사용하면 딕셔리 컴프리헨션이 된다."
      ],
      "metadata": {
        "id": "WNA_4d7VMy1l"
      }
    },
    {
      "cell_type": "code",
      "source": [
        "{i : i for i in range(5)}"
      ],
      "metadata": {
        "colab": {
          "base_uri": "https://localhost:8080/"
        },
        "id": "WLwU9tl6MwbT",
        "outputId": "2cff2b7d-dbdb-4d3e-d9e7-0b406c3dc3f1"
      },
      "execution_count": 22,
      "outputs": [
        {
          "output_type": "execute_result",
          "data": {
            "text/plain": [
              "{0: 0, 1: 1, 2: 2, 3: 3, 4: 4}"
            ]
          },
          "metadata": {},
          "execution_count": 22
        }
      ]
    },
    {
      "cell_type": "markdown",
      "source": [
        "## 2. 데이터프레임 적용"
      ],
      "metadata": {
        "id": "0WJM83CiN5Y_"
      }
    },
    {
      "cell_type": "code",
      "source": [
        "import pandas as pd"
      ],
      "metadata": {
        "id": "7rtwqjUHOKF4"
      },
      "execution_count": 26,
      "outputs": []
    },
    {
      "cell_type": "code",
      "source": [
        "df = pd.read_csv('mpg.csv')\n",
        "df"
      ],
      "metadata": {
        "colab": {
          "base_uri": "https://localhost:8080/",
          "height": 424
        },
        "id": "i3zNmlY-OgGh",
        "outputId": "6097edd8-92e0-4541-dfaa-b15227d332c9"
      },
      "execution_count": 28,
      "outputs": [
        {
          "output_type": "execute_result",
          "data": {
            "text/plain": [
              "    manufacturer   model  displ  year  cyl       trans drv  cty  hwy fl  \\\n",
              "0           audi      a4    1.8  1999    4    auto(l5)   f   18   29  p   \n",
              "1           audi      a4    1.8  1999    4  manual(m5)   f   21   29  p   \n",
              "2           audi      a4    2.0  2008    4  manual(m6)   f   20   31  p   \n",
              "3           audi      a4    2.0  2008    4    auto(av)   f   21   30  p   \n",
              "4           audi      a4    2.8  1999    6    auto(l5)   f   16   26  p   \n",
              "..           ...     ...    ...   ...  ...         ...  ..  ...  ... ..   \n",
              "229   volkswagen  passat    2.0  2008    4    auto(s6)   f   19   28  p   \n",
              "230   volkswagen  passat    2.0  2008    4  manual(m6)   f   21   29  p   \n",
              "231   volkswagen  passat    2.8  1999    6    auto(l5)   f   16   26  p   \n",
              "232   volkswagen  passat    2.8  1999    6  manual(m5)   f   18   26  p   \n",
              "233   volkswagen  passat    3.6  2008    6    auto(s6)   f   17   26  p   \n",
              "\n",
              "    category  \n",
              "0    compact  \n",
              "1    compact  \n",
              "2    compact  \n",
              "3    compact  \n",
              "4    compact  \n",
              "..       ...  \n",
              "229  midsize  \n",
              "230  midsize  \n",
              "231  midsize  \n",
              "232  midsize  \n",
              "233  midsize  \n",
              "\n",
              "[234 rows x 11 columns]"
            ],
            "text/html": [
              "\n",
              "  <div id=\"df-77ad0b70-4d3b-4b6b-b729-2bd3e3bed744\" class=\"colab-df-container\">\n",
              "    <div>\n",
              "<style scoped>\n",
              "    .dataframe tbody tr th:only-of-type {\n",
              "        vertical-align: middle;\n",
              "    }\n",
              "\n",
              "    .dataframe tbody tr th {\n",
              "        vertical-align: top;\n",
              "    }\n",
              "\n",
              "    .dataframe thead th {\n",
              "        text-align: right;\n",
              "    }\n",
              "</style>\n",
              "<table border=\"1\" class=\"dataframe\">\n",
              "  <thead>\n",
              "    <tr style=\"text-align: right;\">\n",
              "      <th></th>\n",
              "      <th>manufacturer</th>\n",
              "      <th>model</th>\n",
              "      <th>displ</th>\n",
              "      <th>year</th>\n",
              "      <th>cyl</th>\n",
              "      <th>trans</th>\n",
              "      <th>drv</th>\n",
              "      <th>cty</th>\n",
              "      <th>hwy</th>\n",
              "      <th>fl</th>\n",
              "      <th>category</th>\n",
              "    </tr>\n",
              "  </thead>\n",
              "  <tbody>\n",
              "    <tr>\n",
              "      <th>0</th>\n",
              "      <td>audi</td>\n",
              "      <td>a4</td>\n",
              "      <td>1.8</td>\n",
              "      <td>1999</td>\n",
              "      <td>4</td>\n",
              "      <td>auto(l5)</td>\n",
              "      <td>f</td>\n",
              "      <td>18</td>\n",
              "      <td>29</td>\n",
              "      <td>p</td>\n",
              "      <td>compact</td>\n",
              "    </tr>\n",
              "    <tr>\n",
              "      <th>1</th>\n",
              "      <td>audi</td>\n",
              "      <td>a4</td>\n",
              "      <td>1.8</td>\n",
              "      <td>1999</td>\n",
              "      <td>4</td>\n",
              "      <td>manual(m5)</td>\n",
              "      <td>f</td>\n",
              "      <td>21</td>\n",
              "      <td>29</td>\n",
              "      <td>p</td>\n",
              "      <td>compact</td>\n",
              "    </tr>\n",
              "    <tr>\n",
              "      <th>2</th>\n",
              "      <td>audi</td>\n",
              "      <td>a4</td>\n",
              "      <td>2.0</td>\n",
              "      <td>2008</td>\n",
              "      <td>4</td>\n",
              "      <td>manual(m6)</td>\n",
              "      <td>f</td>\n",
              "      <td>20</td>\n",
              "      <td>31</td>\n",
              "      <td>p</td>\n",
              "      <td>compact</td>\n",
              "    </tr>\n",
              "    <tr>\n",
              "      <th>3</th>\n",
              "      <td>audi</td>\n",
              "      <td>a4</td>\n",
              "      <td>2.0</td>\n",
              "      <td>2008</td>\n",
              "      <td>4</td>\n",
              "      <td>auto(av)</td>\n",
              "      <td>f</td>\n",
              "      <td>21</td>\n",
              "      <td>30</td>\n",
              "      <td>p</td>\n",
              "      <td>compact</td>\n",
              "    </tr>\n",
              "    <tr>\n",
              "      <th>4</th>\n",
              "      <td>audi</td>\n",
              "      <td>a4</td>\n",
              "      <td>2.8</td>\n",
              "      <td>1999</td>\n",
              "      <td>6</td>\n",
              "      <td>auto(l5)</td>\n",
              "      <td>f</td>\n",
              "      <td>16</td>\n",
              "      <td>26</td>\n",
              "      <td>p</td>\n",
              "      <td>compact</td>\n",
              "    </tr>\n",
              "    <tr>\n",
              "      <th>...</th>\n",
              "      <td>...</td>\n",
              "      <td>...</td>\n",
              "      <td>...</td>\n",
              "      <td>...</td>\n",
              "      <td>...</td>\n",
              "      <td>...</td>\n",
              "      <td>...</td>\n",
              "      <td>...</td>\n",
              "      <td>...</td>\n",
              "      <td>...</td>\n",
              "      <td>...</td>\n",
              "    </tr>\n",
              "    <tr>\n",
              "      <th>229</th>\n",
              "      <td>volkswagen</td>\n",
              "      <td>passat</td>\n",
              "      <td>2.0</td>\n",
              "      <td>2008</td>\n",
              "      <td>4</td>\n",
              "      <td>auto(s6)</td>\n",
              "      <td>f</td>\n",
              "      <td>19</td>\n",
              "      <td>28</td>\n",
              "      <td>p</td>\n",
              "      <td>midsize</td>\n",
              "    </tr>\n",
              "    <tr>\n",
              "      <th>230</th>\n",
              "      <td>volkswagen</td>\n",
              "      <td>passat</td>\n",
              "      <td>2.0</td>\n",
              "      <td>2008</td>\n",
              "      <td>4</td>\n",
              "      <td>manual(m6)</td>\n",
              "      <td>f</td>\n",
              "      <td>21</td>\n",
              "      <td>29</td>\n",
              "      <td>p</td>\n",
              "      <td>midsize</td>\n",
              "    </tr>\n",
              "    <tr>\n",
              "      <th>231</th>\n",
              "      <td>volkswagen</td>\n",
              "      <td>passat</td>\n",
              "      <td>2.8</td>\n",
              "      <td>1999</td>\n",
              "      <td>6</td>\n",
              "      <td>auto(l5)</td>\n",
              "      <td>f</td>\n",
              "      <td>16</td>\n",
              "      <td>26</td>\n",
              "      <td>p</td>\n",
              "      <td>midsize</td>\n",
              "    </tr>\n",
              "    <tr>\n",
              "      <th>232</th>\n",
              "      <td>volkswagen</td>\n",
              "      <td>passat</td>\n",
              "      <td>2.8</td>\n",
              "      <td>1999</td>\n",
              "      <td>6</td>\n",
              "      <td>manual(m5)</td>\n",
              "      <td>f</td>\n",
              "      <td>18</td>\n",
              "      <td>26</td>\n",
              "      <td>p</td>\n",
              "      <td>midsize</td>\n",
              "    </tr>\n",
              "    <tr>\n",
              "      <th>233</th>\n",
              "      <td>volkswagen</td>\n",
              "      <td>passat</td>\n",
              "      <td>3.6</td>\n",
              "      <td>2008</td>\n",
              "      <td>6</td>\n",
              "      <td>auto(s6)</td>\n",
              "      <td>f</td>\n",
              "      <td>17</td>\n",
              "      <td>26</td>\n",
              "      <td>p</td>\n",
              "      <td>midsize</td>\n",
              "    </tr>\n",
              "  </tbody>\n",
              "</table>\n",
              "<p>234 rows × 11 columns</p>\n",
              "</div>\n",
              "    <div class=\"colab-df-buttons\">\n",
              "\n",
              "  <div class=\"colab-df-container\">\n",
              "    <button class=\"colab-df-convert\" onclick=\"convertToInteractive('df-77ad0b70-4d3b-4b6b-b729-2bd3e3bed744')\"\n",
              "            title=\"Convert this dataframe to an interactive table.\"\n",
              "            style=\"display:none;\">\n",
              "\n",
              "  <svg xmlns=\"http://www.w3.org/2000/svg\" height=\"24px\" viewBox=\"0 -960 960 960\">\n",
              "    <path d=\"M120-120v-720h720v720H120Zm60-500h600v-160H180v160Zm220 220h160v-160H400v160Zm0 220h160v-160H400v160ZM180-400h160v-160H180v160Zm440 0h160v-160H620v160ZM180-180h160v-160H180v160Zm440 0h160v-160H620v160Z\"/>\n",
              "  </svg>\n",
              "    </button>\n",
              "\n",
              "  <style>\n",
              "    .colab-df-container {\n",
              "      display:flex;\n",
              "      gap: 12px;\n",
              "    }\n",
              "\n",
              "    .colab-df-convert {\n",
              "      background-color: #E8F0FE;\n",
              "      border: none;\n",
              "      border-radius: 50%;\n",
              "      cursor: pointer;\n",
              "      display: none;\n",
              "      fill: #1967D2;\n",
              "      height: 32px;\n",
              "      padding: 0 0 0 0;\n",
              "      width: 32px;\n",
              "    }\n",
              "\n",
              "    .colab-df-convert:hover {\n",
              "      background-color: #E2EBFA;\n",
              "      box-shadow: 0px 1px 2px rgba(60, 64, 67, 0.3), 0px 1px 3px 1px rgba(60, 64, 67, 0.15);\n",
              "      fill: #174EA6;\n",
              "    }\n",
              "\n",
              "    .colab-df-buttons div {\n",
              "      margin-bottom: 4px;\n",
              "    }\n",
              "\n",
              "    [theme=dark] .colab-df-convert {\n",
              "      background-color: #3B4455;\n",
              "      fill: #D2E3FC;\n",
              "    }\n",
              "\n",
              "    [theme=dark] .colab-df-convert:hover {\n",
              "      background-color: #434B5C;\n",
              "      box-shadow: 0px 1px 3px 1px rgba(0, 0, 0, 0.15);\n",
              "      filter: drop-shadow(0px 1px 2px rgba(0, 0, 0, 0.3));\n",
              "      fill: #FFFFFF;\n",
              "    }\n",
              "  </style>\n",
              "\n",
              "    <script>\n",
              "      const buttonEl =\n",
              "        document.querySelector('#df-77ad0b70-4d3b-4b6b-b729-2bd3e3bed744 button.colab-df-convert');\n",
              "      buttonEl.style.display =\n",
              "        google.colab.kernel.accessAllowed ? 'block' : 'none';\n",
              "\n",
              "      async function convertToInteractive(key) {\n",
              "        const element = document.querySelector('#df-77ad0b70-4d3b-4b6b-b729-2bd3e3bed744');\n",
              "        const dataTable =\n",
              "          await google.colab.kernel.invokeFunction('convertToInteractive',\n",
              "                                                    [key], {});\n",
              "        if (!dataTable) return;\n",
              "\n",
              "        const docLinkHtml = 'Like what you see? Visit the ' +\n",
              "          '<a target=\"_blank\" href=https://colab.research.google.com/notebooks/data_table.ipynb>data table notebook</a>'\n",
              "          + ' to learn more about interactive tables.';\n",
              "        element.innerHTML = '';\n",
              "        dataTable['output_type'] = 'display_data';\n",
              "        await google.colab.output.renderOutput(dataTable, element);\n",
              "        const docLink = document.createElement('div');\n",
              "        docLink.innerHTML = docLinkHtml;\n",
              "        element.appendChild(docLink);\n",
              "      }\n",
              "    </script>\n",
              "  </div>\n",
              "\n",
              "\n",
              "<div id=\"df-ce6b788e-19c6-449d-80d4-489cc49b37e0\">\n",
              "  <button class=\"colab-df-quickchart\" onclick=\"quickchart('df-ce6b788e-19c6-449d-80d4-489cc49b37e0')\"\n",
              "            title=\"Suggest charts.\"\n",
              "            style=\"display:none;\">\n",
              "\n",
              "<svg xmlns=\"http://www.w3.org/2000/svg\" height=\"24px\"viewBox=\"0 0 24 24\"\n",
              "     width=\"24px\">\n",
              "    <g>\n",
              "        <path d=\"M19 3H5c-1.1 0-2 .9-2 2v14c0 1.1.9 2 2 2h14c1.1 0 2-.9 2-2V5c0-1.1-.9-2-2-2zM9 17H7v-7h2v7zm4 0h-2V7h2v10zm4 0h-2v-4h2v4z\"/>\n",
              "    </g>\n",
              "</svg>\n",
              "  </button>\n",
              "\n",
              "<style>\n",
              "  .colab-df-quickchart {\n",
              "      --bg-color: #E8F0FE;\n",
              "      --fill-color: #1967D2;\n",
              "      --hover-bg-color: #E2EBFA;\n",
              "      --hover-fill-color: #174EA6;\n",
              "      --disabled-fill-color: #AAA;\n",
              "      --disabled-bg-color: #DDD;\n",
              "  }\n",
              "\n",
              "  [theme=dark] .colab-df-quickchart {\n",
              "      --bg-color: #3B4455;\n",
              "      --fill-color: #D2E3FC;\n",
              "      --hover-bg-color: #434B5C;\n",
              "      --hover-fill-color: #FFFFFF;\n",
              "      --disabled-bg-color: #3B4455;\n",
              "      --disabled-fill-color: #666;\n",
              "  }\n",
              "\n",
              "  .colab-df-quickchart {\n",
              "    background-color: var(--bg-color);\n",
              "    border: none;\n",
              "    border-radius: 50%;\n",
              "    cursor: pointer;\n",
              "    display: none;\n",
              "    fill: var(--fill-color);\n",
              "    height: 32px;\n",
              "    padding: 0;\n",
              "    width: 32px;\n",
              "  }\n",
              "\n",
              "  .colab-df-quickchart:hover {\n",
              "    background-color: var(--hover-bg-color);\n",
              "    box-shadow: 0 1px 2px rgba(60, 64, 67, 0.3), 0 1px 3px 1px rgba(60, 64, 67, 0.15);\n",
              "    fill: var(--button-hover-fill-color);\n",
              "  }\n",
              "\n",
              "  .colab-df-quickchart-complete:disabled,\n",
              "  .colab-df-quickchart-complete:disabled:hover {\n",
              "    background-color: var(--disabled-bg-color);\n",
              "    fill: var(--disabled-fill-color);\n",
              "    box-shadow: none;\n",
              "  }\n",
              "\n",
              "  .colab-df-spinner {\n",
              "    border: 2px solid var(--fill-color);\n",
              "    border-color: transparent;\n",
              "    border-bottom-color: var(--fill-color);\n",
              "    animation:\n",
              "      spin 1s steps(1) infinite;\n",
              "  }\n",
              "\n",
              "  @keyframes spin {\n",
              "    0% {\n",
              "      border-color: transparent;\n",
              "      border-bottom-color: var(--fill-color);\n",
              "      border-left-color: var(--fill-color);\n",
              "    }\n",
              "    20% {\n",
              "      border-color: transparent;\n",
              "      border-left-color: var(--fill-color);\n",
              "      border-top-color: var(--fill-color);\n",
              "    }\n",
              "    30% {\n",
              "      border-color: transparent;\n",
              "      border-left-color: var(--fill-color);\n",
              "      border-top-color: var(--fill-color);\n",
              "      border-right-color: var(--fill-color);\n",
              "    }\n",
              "    40% {\n",
              "      border-color: transparent;\n",
              "      border-right-color: var(--fill-color);\n",
              "      border-top-color: var(--fill-color);\n",
              "    }\n",
              "    60% {\n",
              "      border-color: transparent;\n",
              "      border-right-color: var(--fill-color);\n",
              "    }\n",
              "    80% {\n",
              "      border-color: transparent;\n",
              "      border-right-color: var(--fill-color);\n",
              "      border-bottom-color: var(--fill-color);\n",
              "    }\n",
              "    90% {\n",
              "      border-color: transparent;\n",
              "      border-bottom-color: var(--fill-color);\n",
              "    }\n",
              "  }\n",
              "</style>\n",
              "\n",
              "  <script>\n",
              "    async function quickchart(key) {\n",
              "      const quickchartButtonEl =\n",
              "        document.querySelector('#' + key + ' button');\n",
              "      quickchartButtonEl.disabled = true;  // To prevent multiple clicks.\n",
              "      quickchartButtonEl.classList.add('colab-df-spinner');\n",
              "      try {\n",
              "        const charts = await google.colab.kernel.invokeFunction(\n",
              "            'suggestCharts', [key], {});\n",
              "      } catch (error) {\n",
              "        console.error('Error during call to suggestCharts:', error);\n",
              "      }\n",
              "      quickchartButtonEl.classList.remove('colab-df-spinner');\n",
              "      quickchartButtonEl.classList.add('colab-df-quickchart-complete');\n",
              "    }\n",
              "    (() => {\n",
              "      let quickchartButtonEl =\n",
              "        document.querySelector('#df-ce6b788e-19c6-449d-80d4-489cc49b37e0 button');\n",
              "      quickchartButtonEl.style.display =\n",
              "        google.colab.kernel.accessAllowed ? 'block' : 'none';\n",
              "    })();\n",
              "  </script>\n",
              "</div>\n",
              "    </div>\n",
              "  </div>\n"
            ]
          },
          "metadata": {},
          "execution_count": 28
        }
      ]
    },
    {
      "cell_type": "code",
      "source": [
        "[(i, j) for i, j in enumerate(df['manufacturer'])]"
      ],
      "metadata": {
        "id": "WRcmzl3wQU2B"
      },
      "execution_count": null,
      "outputs": []
    },
    {
      "cell_type": "code",
      "source": [
        "[i for i in df['year'] if i > 2000]"
      ],
      "metadata": {
        "id": "x3Y-ekeiOy2j"
      },
      "execution_count": null,
      "outputs": []
    },
    {
      "cell_type": "code",
      "source": [
        "[i if i > 3.0 else 'under-3.0 & up-2.0' if i > 2.0 else 'under-2.0'for i in df['displ']]"
      ],
      "metadata": {
        "id": "8f9gm9XDPTMt"
      },
      "execution_count": null,
      "outputs": []
    },
    {
      "cell_type": "markdown",
      "source": [
        "# **필수과제2**\n",
        "\n",
        "* 중첩루프 정리하기"
      ],
      "metadata": {
        "id": "XMmsXwn5N09q"
      }
    },
    {
      "cell_type": "markdown",
      "source": [
        "## 1. 개념정리"
      ],
      "metadata": {
        "id": "2MLg1Q5PQ2UV"
      }
    },
    {
      "cell_type": "markdown",
      "source": [
        "> 중첩루프 란?\n",
        "\n",
        "* 반복문 여러 개가 겹쳐 있는 구조를 말함\n",
        "* 보통 두 개의 반복문ㅣ 겹쳐 있는 '이중 루프'와 세 개의 반복문이 겹쳐 있는 '삼중 루프'를 가장 많이 사용함"
      ],
      "metadata": {
        "id": "UF9wixpJQ6Am"
      }
    },
    {
      "cell_type": "markdown",
      "source": [
        "> 2차원 데이터의 표현"
      ],
      "metadata": {
        "id": "toEOzbDuRw0s"
      }
    },
    {
      "cell_type": "code",
      "source": [
        "# i는 층에 해당하는 변수로 1부터 4까지 반복\n",
        "# j는 호수에 해당하는 변수로 i의 값에 각각 합쳐서 101, 102, 103, 104, 201 ... 으로 나오게 된다.\n",
        "for i in ['1', '2', '3', '4']:\n",
        "  for j in ['01', '02', '03', '04']:\n",
        "    print(f\"현재 {i}층 {i + j}호에 신문 배달\")"
      ],
      "metadata": {
        "colab": {
          "base_uri": "https://localhost:8080/"
        },
        "id": "Ks27pq80SAG1",
        "outputId": "3929fcd7-46be-479f-f37d-0da570d3752e"
      },
      "execution_count": 37,
      "outputs": [
        {
          "output_type": "stream",
          "name": "stdout",
          "text": [
            "현재 1층 101호에 신문 배달\n",
            "현재 1층 102호에 신문 배달\n",
            "현재 1층 103호에 신문 배달\n",
            "현재 1층 104호에 신문 배달\n",
            "현재 2층 201호에 신문 배달\n",
            "현재 2층 202호에 신문 배달\n",
            "현재 2층 203호에 신문 배달\n",
            "현재 2층 204호에 신문 배달\n",
            "현재 3층 301호에 신문 배달\n",
            "현재 3층 302호에 신문 배달\n",
            "현재 3층 303호에 신문 배달\n",
            "현재 3층 304호에 신문 배달\n",
            "현재 4층 401호에 신문 배달\n",
            "현재 4층 402호에 신문 배달\n",
            "현재 4층 403호에 신문 배달\n",
            "현재 4층 404호에 신문 배달\n"
          ]
        }
      ]
    },
    {
      "cell_type": "code",
      "source": [
        "# 2차원 배열을 이중 루프로 출력\n",
        "# i는 row를 값으로 받는다\n",
        "# j는 i가 받은 해당 row의 인덱스 0번 부터 마지막 까지 받는다.\n",
        "apart = [[101, 102, 103, 104], [201, 202, 203, 204], [301, 302, 303, 304], [401, 402, 403, 404]]\n",
        "for i in apart:\n",
        "  for j in i:\n",
        "    print(f\"{j}호에 신문 배달\")"
      ],
      "metadata": {
        "colab": {
          "base_uri": "https://localhost:8080/"
        },
        "id": "spe1MpbmSSrz",
        "outputId": "25ef8bd8-62ae-4bdd-a91c-e93dd146035a"
      },
      "execution_count": 38,
      "outputs": [
        {
          "output_type": "stream",
          "name": "stdout",
          "text": [
            "101호에 신문 배달\n",
            "102호에 신문 배달\n",
            "103호에 신문 배달\n",
            "104호에 신문 배달\n",
            "201호에 신문 배달\n",
            "202호에 신문 배달\n",
            "203호에 신문 배달\n",
            "204호에 신문 배달\n",
            "301호에 신문 배달\n",
            "302호에 신문 배달\n",
            "303호에 신문 배달\n",
            "304호에 신문 배달\n",
            "401호에 신문 배달\n",
            "402호에 신문 배달\n",
            "403호에 신문 배달\n",
            "404호에 신문 배달\n"
          ]
        }
      ]
    },
    {
      "cell_type": "markdown",
      "source": [
        "> 3차원 데이터의 표현"
      ],
      "metadata": {
        "id": "uPrCnashUiut"
      }
    },
    {
      "cell_type": "code",
      "source": [
        "# 위의 2차원 데이터와 같은 구조로 진행\n",
        "# i는 층의 값을 받음\n",
        "# k는 십의 자리 숫자를 받음\n",
        "# j는 일의 자리 숫자를 받음\n",
        "# i가 1번 증가할 때 k가 리스트의 값을 한바퀴 반복하며 k가 1번 증가할 때 j가 리스트의 값을 한바퀴 반복하게 된다.\n",
        "for i in ['1', '2', '3', '4']:\n",
        "  for k in ['0', '1']:\n",
        "    for j in ['0', '1', '2', '3', '4', '5', '6', '7', '8', '9']:\n",
        "      print(f\"현재 {i}층 {i + k + j}호에 신문 배달\")"
      ],
      "metadata": {
        "colab": {
          "base_uri": "https://localhost:8080/"
        },
        "id": "o7un1pW7Td_e",
        "outputId": "3b9a4fe8-ed44-45e3-e595-3be6b976f510"
      },
      "execution_count": 39,
      "outputs": [
        {
          "output_type": "stream",
          "name": "stdout",
          "text": [
            "현재 1층 100호에 신문 배달\n",
            "현재 1층 101호에 신문 배달\n",
            "현재 1층 102호에 신문 배달\n",
            "현재 1층 103호에 신문 배달\n",
            "현재 1층 104호에 신문 배달\n",
            "현재 1층 105호에 신문 배달\n",
            "현재 1층 106호에 신문 배달\n",
            "현재 1층 107호에 신문 배달\n",
            "현재 1층 108호에 신문 배달\n",
            "현재 1층 109호에 신문 배달\n",
            "현재 1층 110호에 신문 배달\n",
            "현재 1층 111호에 신문 배달\n",
            "현재 1층 112호에 신문 배달\n",
            "현재 1층 113호에 신문 배달\n",
            "현재 1층 114호에 신문 배달\n",
            "현재 1층 115호에 신문 배달\n",
            "현재 1층 116호에 신문 배달\n",
            "현재 1층 117호에 신문 배달\n",
            "현재 1층 118호에 신문 배달\n",
            "현재 1층 119호에 신문 배달\n",
            "현재 2층 200호에 신문 배달\n",
            "현재 2층 201호에 신문 배달\n",
            "현재 2층 202호에 신문 배달\n",
            "현재 2층 203호에 신문 배달\n",
            "현재 2층 204호에 신문 배달\n",
            "현재 2층 205호에 신문 배달\n",
            "현재 2층 206호에 신문 배달\n",
            "현재 2층 207호에 신문 배달\n",
            "현재 2층 208호에 신문 배달\n",
            "현재 2층 209호에 신문 배달\n",
            "현재 2층 210호에 신문 배달\n",
            "현재 2층 211호에 신문 배달\n",
            "현재 2층 212호에 신문 배달\n",
            "현재 2층 213호에 신문 배달\n",
            "현재 2층 214호에 신문 배달\n",
            "현재 2층 215호에 신문 배달\n",
            "현재 2층 216호에 신문 배달\n",
            "현재 2층 217호에 신문 배달\n",
            "현재 2층 218호에 신문 배달\n",
            "현재 2층 219호에 신문 배달\n",
            "현재 3층 300호에 신문 배달\n",
            "현재 3층 301호에 신문 배달\n",
            "현재 3층 302호에 신문 배달\n",
            "현재 3층 303호에 신문 배달\n",
            "현재 3층 304호에 신문 배달\n",
            "현재 3층 305호에 신문 배달\n",
            "현재 3층 306호에 신문 배달\n",
            "현재 3층 307호에 신문 배달\n",
            "현재 3층 308호에 신문 배달\n",
            "현재 3층 309호에 신문 배달\n",
            "현재 3층 310호에 신문 배달\n",
            "현재 3층 311호에 신문 배달\n",
            "현재 3층 312호에 신문 배달\n",
            "현재 3층 313호에 신문 배달\n",
            "현재 3층 314호에 신문 배달\n",
            "현재 3층 315호에 신문 배달\n",
            "현재 3층 316호에 신문 배달\n",
            "현재 3층 317호에 신문 배달\n",
            "현재 3층 318호에 신문 배달\n",
            "현재 3층 319호에 신문 배달\n",
            "현재 4층 400호에 신문 배달\n",
            "현재 4층 401호에 신문 배달\n",
            "현재 4층 402호에 신문 배달\n",
            "현재 4층 403호에 신문 배달\n",
            "현재 4층 404호에 신문 배달\n",
            "현재 4층 405호에 신문 배달\n",
            "현재 4층 406호에 신문 배달\n",
            "현재 4층 407호에 신문 배달\n",
            "현재 4층 408호에 신문 배달\n",
            "현재 4층 409호에 신문 배달\n",
            "현재 4층 410호에 신문 배달\n",
            "현재 4층 411호에 신문 배달\n",
            "현재 4층 412호에 신문 배달\n",
            "현재 4층 413호에 신문 배달\n",
            "현재 4층 414호에 신문 배달\n",
            "현재 4층 415호에 신문 배달\n",
            "현재 4층 416호에 신문 배달\n",
            "현재 4층 417호에 신문 배달\n",
            "현재 4층 418호에 신문 배달\n",
            "현재 4층 419호에 신문 배달\n"
          ]
        }
      ]
    },
    {
      "cell_type": "markdown",
      "source": [
        "> 4차원 데이터의 표현"
      ],
      "metadata": {
        "id": "c5tK188PVqWi"
      }
    },
    {
      "cell_type": "code",
      "source": [
        "# i값이 1 증가 하면 j는 range의 값을 한바퀴 돌아야 한다.\n",
        "# j값이 1 증가 하면 k는 range의 값을 한바퀴 돌아야 한다.\n",
        "# k값이 1 증가 하면 h는 range의 값을 한바퀴 돌아야 한다.\n",
        "# 즉, h는 3 * 3 * 3 = 27 번을 돌게 된다.\n",
        "for i in range(3):\n",
        "  for j in range(3):\n",
        "    for k in range(3):\n",
        "      for h in range(3):\n",
        "        print((i, j, k , h))"
      ],
      "metadata": {
        "colab": {
          "base_uri": "https://localhost:8080/"
        },
        "id": "lcFbltppVEfI",
        "outputId": "073cc67a-2b77-4bbd-c88c-569244fcd912"
      },
      "execution_count": 45,
      "outputs": [
        {
          "output_type": "stream",
          "name": "stdout",
          "text": [
            "(0, 0, 0, 0)\n",
            "(0, 0, 0, 1)\n",
            "(0, 0, 0, 2)\n",
            "(0, 0, 1, 0)\n",
            "(0, 0, 1, 1)\n",
            "(0, 0, 1, 2)\n",
            "(0, 0, 2, 0)\n",
            "(0, 0, 2, 1)\n",
            "(0, 0, 2, 2)\n",
            "(0, 1, 0, 0)\n",
            "(0, 1, 0, 1)\n",
            "(0, 1, 0, 2)\n",
            "(0, 1, 1, 0)\n",
            "(0, 1, 1, 1)\n",
            "(0, 1, 1, 2)\n",
            "(0, 1, 2, 0)\n",
            "(0, 1, 2, 1)\n",
            "(0, 1, 2, 2)\n",
            "(0, 2, 0, 0)\n",
            "(0, 2, 0, 1)\n",
            "(0, 2, 0, 2)\n",
            "(0, 2, 1, 0)\n",
            "(0, 2, 1, 1)\n",
            "(0, 2, 1, 2)\n",
            "(0, 2, 2, 0)\n",
            "(0, 2, 2, 1)\n",
            "(0, 2, 2, 2)\n",
            "(1, 0, 0, 0)\n",
            "(1, 0, 0, 1)\n",
            "(1, 0, 0, 2)\n",
            "(1, 0, 1, 0)\n",
            "(1, 0, 1, 1)\n",
            "(1, 0, 1, 2)\n",
            "(1, 0, 2, 0)\n",
            "(1, 0, 2, 1)\n",
            "(1, 0, 2, 2)\n",
            "(1, 1, 0, 0)\n",
            "(1, 1, 0, 1)\n",
            "(1, 1, 0, 2)\n",
            "(1, 1, 1, 0)\n",
            "(1, 1, 1, 1)\n",
            "(1, 1, 1, 2)\n",
            "(1, 1, 2, 0)\n",
            "(1, 1, 2, 1)\n",
            "(1, 1, 2, 2)\n",
            "(1, 2, 0, 0)\n",
            "(1, 2, 0, 1)\n",
            "(1, 2, 0, 2)\n",
            "(1, 2, 1, 0)\n",
            "(1, 2, 1, 1)\n",
            "(1, 2, 1, 2)\n",
            "(1, 2, 2, 0)\n",
            "(1, 2, 2, 1)\n",
            "(1, 2, 2, 2)\n",
            "(2, 0, 0, 0)\n",
            "(2, 0, 0, 1)\n",
            "(2, 0, 0, 2)\n",
            "(2, 0, 1, 0)\n",
            "(2, 0, 1, 1)\n",
            "(2, 0, 1, 2)\n",
            "(2, 0, 2, 0)\n",
            "(2, 0, 2, 1)\n",
            "(2, 0, 2, 2)\n",
            "(2, 1, 0, 0)\n",
            "(2, 1, 0, 1)\n",
            "(2, 1, 0, 2)\n",
            "(2, 1, 1, 0)\n",
            "(2, 1, 1, 1)\n",
            "(2, 1, 1, 2)\n",
            "(2, 1, 2, 0)\n",
            "(2, 1, 2, 1)\n",
            "(2, 1, 2, 2)\n",
            "(2, 2, 0, 0)\n",
            "(2, 2, 0, 1)\n",
            "(2, 2, 0, 2)\n",
            "(2, 2, 1, 0)\n",
            "(2, 2, 1, 1)\n",
            "(2, 2, 1, 2)\n",
            "(2, 2, 2, 0)\n",
            "(2, 2, 2, 1)\n",
            "(2, 2, 2, 2)\n"
          ]
        }
      ]
    },
    {
      "cell_type": "markdown",
      "source": [
        "# **필수과제3**"
      ],
      "metadata": {
        "id": "XNR59BaqYLYd"
      }
    },
    {
      "cell_type": "markdown",
      "source": [
        "* mpg 데이터의 조건문을 2개 또는 3개 이상 필터해서 값을 출력\n",
        "* 총 반복문은 5개 이상으로 제작"
      ],
      "metadata": {
        "id": "Eh3ORPHScgVe"
      }
    },
    {
      "cell_type": "code",
      "source": [
        "df"
      ],
      "metadata": {
        "colab": {
          "base_uri": "https://localhost:8080/",
          "height": 424
        },
        "id": "6S4cg6Hwct4s",
        "outputId": "e71f72f5-3404-425b-e50d-e18e5e1810ec"
      },
      "execution_count": 46,
      "outputs": [
        {
          "output_type": "execute_result",
          "data": {
            "text/plain": [
              "    manufacturer   model  displ  year  cyl       trans drv  cty  hwy fl  \\\n",
              "0           audi      a4    1.8  1999    4    auto(l5)   f   18   29  p   \n",
              "1           audi      a4    1.8  1999    4  manual(m5)   f   21   29  p   \n",
              "2           audi      a4    2.0  2008    4  manual(m6)   f   20   31  p   \n",
              "3           audi      a4    2.0  2008    4    auto(av)   f   21   30  p   \n",
              "4           audi      a4    2.8  1999    6    auto(l5)   f   16   26  p   \n",
              "..           ...     ...    ...   ...  ...         ...  ..  ...  ... ..   \n",
              "229   volkswagen  passat    2.0  2008    4    auto(s6)   f   19   28  p   \n",
              "230   volkswagen  passat    2.0  2008    4  manual(m6)   f   21   29  p   \n",
              "231   volkswagen  passat    2.8  1999    6    auto(l5)   f   16   26  p   \n",
              "232   volkswagen  passat    2.8  1999    6  manual(m5)   f   18   26  p   \n",
              "233   volkswagen  passat    3.6  2008    6    auto(s6)   f   17   26  p   \n",
              "\n",
              "    category  \n",
              "0    compact  \n",
              "1    compact  \n",
              "2    compact  \n",
              "3    compact  \n",
              "4    compact  \n",
              "..       ...  \n",
              "229  midsize  \n",
              "230  midsize  \n",
              "231  midsize  \n",
              "232  midsize  \n",
              "233  midsize  \n",
              "\n",
              "[234 rows x 11 columns]"
            ],
            "text/html": [
              "\n",
              "  <div id=\"df-5c302408-f93c-48d6-a68f-70b894759d19\" class=\"colab-df-container\">\n",
              "    <div>\n",
              "<style scoped>\n",
              "    .dataframe tbody tr th:only-of-type {\n",
              "        vertical-align: middle;\n",
              "    }\n",
              "\n",
              "    .dataframe tbody tr th {\n",
              "        vertical-align: top;\n",
              "    }\n",
              "\n",
              "    .dataframe thead th {\n",
              "        text-align: right;\n",
              "    }\n",
              "</style>\n",
              "<table border=\"1\" class=\"dataframe\">\n",
              "  <thead>\n",
              "    <tr style=\"text-align: right;\">\n",
              "      <th></th>\n",
              "      <th>manufacturer</th>\n",
              "      <th>model</th>\n",
              "      <th>displ</th>\n",
              "      <th>year</th>\n",
              "      <th>cyl</th>\n",
              "      <th>trans</th>\n",
              "      <th>drv</th>\n",
              "      <th>cty</th>\n",
              "      <th>hwy</th>\n",
              "      <th>fl</th>\n",
              "      <th>category</th>\n",
              "    </tr>\n",
              "  </thead>\n",
              "  <tbody>\n",
              "    <tr>\n",
              "      <th>0</th>\n",
              "      <td>audi</td>\n",
              "      <td>a4</td>\n",
              "      <td>1.8</td>\n",
              "      <td>1999</td>\n",
              "      <td>4</td>\n",
              "      <td>auto(l5)</td>\n",
              "      <td>f</td>\n",
              "      <td>18</td>\n",
              "      <td>29</td>\n",
              "      <td>p</td>\n",
              "      <td>compact</td>\n",
              "    </tr>\n",
              "    <tr>\n",
              "      <th>1</th>\n",
              "      <td>audi</td>\n",
              "      <td>a4</td>\n",
              "      <td>1.8</td>\n",
              "      <td>1999</td>\n",
              "      <td>4</td>\n",
              "      <td>manual(m5)</td>\n",
              "      <td>f</td>\n",
              "      <td>21</td>\n",
              "      <td>29</td>\n",
              "      <td>p</td>\n",
              "      <td>compact</td>\n",
              "    </tr>\n",
              "    <tr>\n",
              "      <th>2</th>\n",
              "      <td>audi</td>\n",
              "      <td>a4</td>\n",
              "      <td>2.0</td>\n",
              "      <td>2008</td>\n",
              "      <td>4</td>\n",
              "      <td>manual(m6)</td>\n",
              "      <td>f</td>\n",
              "      <td>20</td>\n",
              "      <td>31</td>\n",
              "      <td>p</td>\n",
              "      <td>compact</td>\n",
              "    </tr>\n",
              "    <tr>\n",
              "      <th>3</th>\n",
              "      <td>audi</td>\n",
              "      <td>a4</td>\n",
              "      <td>2.0</td>\n",
              "      <td>2008</td>\n",
              "      <td>4</td>\n",
              "      <td>auto(av)</td>\n",
              "      <td>f</td>\n",
              "      <td>21</td>\n",
              "      <td>30</td>\n",
              "      <td>p</td>\n",
              "      <td>compact</td>\n",
              "    </tr>\n",
              "    <tr>\n",
              "      <th>4</th>\n",
              "      <td>audi</td>\n",
              "      <td>a4</td>\n",
              "      <td>2.8</td>\n",
              "      <td>1999</td>\n",
              "      <td>6</td>\n",
              "      <td>auto(l5)</td>\n",
              "      <td>f</td>\n",
              "      <td>16</td>\n",
              "      <td>26</td>\n",
              "      <td>p</td>\n",
              "      <td>compact</td>\n",
              "    </tr>\n",
              "    <tr>\n",
              "      <th>...</th>\n",
              "      <td>...</td>\n",
              "      <td>...</td>\n",
              "      <td>...</td>\n",
              "      <td>...</td>\n",
              "      <td>...</td>\n",
              "      <td>...</td>\n",
              "      <td>...</td>\n",
              "      <td>...</td>\n",
              "      <td>...</td>\n",
              "      <td>...</td>\n",
              "      <td>...</td>\n",
              "    </tr>\n",
              "    <tr>\n",
              "      <th>229</th>\n",
              "      <td>volkswagen</td>\n",
              "      <td>passat</td>\n",
              "      <td>2.0</td>\n",
              "      <td>2008</td>\n",
              "      <td>4</td>\n",
              "      <td>auto(s6)</td>\n",
              "      <td>f</td>\n",
              "      <td>19</td>\n",
              "      <td>28</td>\n",
              "      <td>p</td>\n",
              "      <td>midsize</td>\n",
              "    </tr>\n",
              "    <tr>\n",
              "      <th>230</th>\n",
              "      <td>volkswagen</td>\n",
              "      <td>passat</td>\n",
              "      <td>2.0</td>\n",
              "      <td>2008</td>\n",
              "      <td>4</td>\n",
              "      <td>manual(m6)</td>\n",
              "      <td>f</td>\n",
              "      <td>21</td>\n",
              "      <td>29</td>\n",
              "      <td>p</td>\n",
              "      <td>midsize</td>\n",
              "    </tr>\n",
              "    <tr>\n",
              "      <th>231</th>\n",
              "      <td>volkswagen</td>\n",
              "      <td>passat</td>\n",
              "      <td>2.8</td>\n",
              "      <td>1999</td>\n",
              "      <td>6</td>\n",
              "      <td>auto(l5)</td>\n",
              "      <td>f</td>\n",
              "      <td>16</td>\n",
              "      <td>26</td>\n",
              "      <td>p</td>\n",
              "      <td>midsize</td>\n",
              "    </tr>\n",
              "    <tr>\n",
              "      <th>232</th>\n",
              "      <td>volkswagen</td>\n",
              "      <td>passat</td>\n",
              "      <td>2.8</td>\n",
              "      <td>1999</td>\n",
              "      <td>6</td>\n",
              "      <td>manual(m5)</td>\n",
              "      <td>f</td>\n",
              "      <td>18</td>\n",
              "      <td>26</td>\n",
              "      <td>p</td>\n",
              "      <td>midsize</td>\n",
              "    </tr>\n",
              "    <tr>\n",
              "      <th>233</th>\n",
              "      <td>volkswagen</td>\n",
              "      <td>passat</td>\n",
              "      <td>3.6</td>\n",
              "      <td>2008</td>\n",
              "      <td>6</td>\n",
              "      <td>auto(s6)</td>\n",
              "      <td>f</td>\n",
              "      <td>17</td>\n",
              "      <td>26</td>\n",
              "      <td>p</td>\n",
              "      <td>midsize</td>\n",
              "    </tr>\n",
              "  </tbody>\n",
              "</table>\n",
              "<p>234 rows × 11 columns</p>\n",
              "</div>\n",
              "    <div class=\"colab-df-buttons\">\n",
              "\n",
              "  <div class=\"colab-df-container\">\n",
              "    <button class=\"colab-df-convert\" onclick=\"convertToInteractive('df-5c302408-f93c-48d6-a68f-70b894759d19')\"\n",
              "            title=\"Convert this dataframe to an interactive table.\"\n",
              "            style=\"display:none;\">\n",
              "\n",
              "  <svg xmlns=\"http://www.w3.org/2000/svg\" height=\"24px\" viewBox=\"0 -960 960 960\">\n",
              "    <path d=\"M120-120v-720h720v720H120Zm60-500h600v-160H180v160Zm220 220h160v-160H400v160Zm0 220h160v-160H400v160ZM180-400h160v-160H180v160Zm440 0h160v-160H620v160ZM180-180h160v-160H180v160Zm440 0h160v-160H620v160Z\"/>\n",
              "  </svg>\n",
              "    </button>\n",
              "\n",
              "  <style>\n",
              "    .colab-df-container {\n",
              "      display:flex;\n",
              "      gap: 12px;\n",
              "    }\n",
              "\n",
              "    .colab-df-convert {\n",
              "      background-color: #E8F0FE;\n",
              "      border: none;\n",
              "      border-radius: 50%;\n",
              "      cursor: pointer;\n",
              "      display: none;\n",
              "      fill: #1967D2;\n",
              "      height: 32px;\n",
              "      padding: 0 0 0 0;\n",
              "      width: 32px;\n",
              "    }\n",
              "\n",
              "    .colab-df-convert:hover {\n",
              "      background-color: #E2EBFA;\n",
              "      box-shadow: 0px 1px 2px rgba(60, 64, 67, 0.3), 0px 1px 3px 1px rgba(60, 64, 67, 0.15);\n",
              "      fill: #174EA6;\n",
              "    }\n",
              "\n",
              "    .colab-df-buttons div {\n",
              "      margin-bottom: 4px;\n",
              "    }\n",
              "\n",
              "    [theme=dark] .colab-df-convert {\n",
              "      background-color: #3B4455;\n",
              "      fill: #D2E3FC;\n",
              "    }\n",
              "\n",
              "    [theme=dark] .colab-df-convert:hover {\n",
              "      background-color: #434B5C;\n",
              "      box-shadow: 0px 1px 3px 1px rgba(0, 0, 0, 0.15);\n",
              "      filter: drop-shadow(0px 1px 2px rgba(0, 0, 0, 0.3));\n",
              "      fill: #FFFFFF;\n",
              "    }\n",
              "  </style>\n",
              "\n",
              "    <script>\n",
              "      const buttonEl =\n",
              "        document.querySelector('#df-5c302408-f93c-48d6-a68f-70b894759d19 button.colab-df-convert');\n",
              "      buttonEl.style.display =\n",
              "        google.colab.kernel.accessAllowed ? 'block' : 'none';\n",
              "\n",
              "      async function convertToInteractive(key) {\n",
              "        const element = document.querySelector('#df-5c302408-f93c-48d6-a68f-70b894759d19');\n",
              "        const dataTable =\n",
              "          await google.colab.kernel.invokeFunction('convertToInteractive',\n",
              "                                                    [key], {});\n",
              "        if (!dataTable) return;\n",
              "\n",
              "        const docLinkHtml = 'Like what you see? Visit the ' +\n",
              "          '<a target=\"_blank\" href=https://colab.research.google.com/notebooks/data_table.ipynb>data table notebook</a>'\n",
              "          + ' to learn more about interactive tables.';\n",
              "        element.innerHTML = '';\n",
              "        dataTable['output_type'] = 'display_data';\n",
              "        await google.colab.output.renderOutput(dataTable, element);\n",
              "        const docLink = document.createElement('div');\n",
              "        docLink.innerHTML = docLinkHtml;\n",
              "        element.appendChild(docLink);\n",
              "      }\n",
              "    </script>\n",
              "  </div>\n",
              "\n",
              "\n",
              "<div id=\"df-73dca9a4-f051-4211-87c4-064407d45ac9\">\n",
              "  <button class=\"colab-df-quickchart\" onclick=\"quickchart('df-73dca9a4-f051-4211-87c4-064407d45ac9')\"\n",
              "            title=\"Suggest charts.\"\n",
              "            style=\"display:none;\">\n",
              "\n",
              "<svg xmlns=\"http://www.w3.org/2000/svg\" height=\"24px\"viewBox=\"0 0 24 24\"\n",
              "     width=\"24px\">\n",
              "    <g>\n",
              "        <path d=\"M19 3H5c-1.1 0-2 .9-2 2v14c0 1.1.9 2 2 2h14c1.1 0 2-.9 2-2V5c0-1.1-.9-2-2-2zM9 17H7v-7h2v7zm4 0h-2V7h2v10zm4 0h-2v-4h2v4z\"/>\n",
              "    </g>\n",
              "</svg>\n",
              "  </button>\n",
              "\n",
              "<style>\n",
              "  .colab-df-quickchart {\n",
              "      --bg-color: #E8F0FE;\n",
              "      --fill-color: #1967D2;\n",
              "      --hover-bg-color: #E2EBFA;\n",
              "      --hover-fill-color: #174EA6;\n",
              "      --disabled-fill-color: #AAA;\n",
              "      --disabled-bg-color: #DDD;\n",
              "  }\n",
              "\n",
              "  [theme=dark] .colab-df-quickchart {\n",
              "      --bg-color: #3B4455;\n",
              "      --fill-color: #D2E3FC;\n",
              "      --hover-bg-color: #434B5C;\n",
              "      --hover-fill-color: #FFFFFF;\n",
              "      --disabled-bg-color: #3B4455;\n",
              "      --disabled-fill-color: #666;\n",
              "  }\n",
              "\n",
              "  .colab-df-quickchart {\n",
              "    background-color: var(--bg-color);\n",
              "    border: none;\n",
              "    border-radius: 50%;\n",
              "    cursor: pointer;\n",
              "    display: none;\n",
              "    fill: var(--fill-color);\n",
              "    height: 32px;\n",
              "    padding: 0;\n",
              "    width: 32px;\n",
              "  }\n",
              "\n",
              "  .colab-df-quickchart:hover {\n",
              "    background-color: var(--hover-bg-color);\n",
              "    box-shadow: 0 1px 2px rgba(60, 64, 67, 0.3), 0 1px 3px 1px rgba(60, 64, 67, 0.15);\n",
              "    fill: var(--button-hover-fill-color);\n",
              "  }\n",
              "\n",
              "  .colab-df-quickchart-complete:disabled,\n",
              "  .colab-df-quickchart-complete:disabled:hover {\n",
              "    background-color: var(--disabled-bg-color);\n",
              "    fill: var(--disabled-fill-color);\n",
              "    box-shadow: none;\n",
              "  }\n",
              "\n",
              "  .colab-df-spinner {\n",
              "    border: 2px solid var(--fill-color);\n",
              "    border-color: transparent;\n",
              "    border-bottom-color: var(--fill-color);\n",
              "    animation:\n",
              "      spin 1s steps(1) infinite;\n",
              "  }\n",
              "\n",
              "  @keyframes spin {\n",
              "    0% {\n",
              "      border-color: transparent;\n",
              "      border-bottom-color: var(--fill-color);\n",
              "      border-left-color: var(--fill-color);\n",
              "    }\n",
              "    20% {\n",
              "      border-color: transparent;\n",
              "      border-left-color: var(--fill-color);\n",
              "      border-top-color: var(--fill-color);\n",
              "    }\n",
              "    30% {\n",
              "      border-color: transparent;\n",
              "      border-left-color: var(--fill-color);\n",
              "      border-top-color: var(--fill-color);\n",
              "      border-right-color: var(--fill-color);\n",
              "    }\n",
              "    40% {\n",
              "      border-color: transparent;\n",
              "      border-right-color: var(--fill-color);\n",
              "      border-top-color: var(--fill-color);\n",
              "    }\n",
              "    60% {\n",
              "      border-color: transparent;\n",
              "      border-right-color: var(--fill-color);\n",
              "    }\n",
              "    80% {\n",
              "      border-color: transparent;\n",
              "      border-right-color: var(--fill-color);\n",
              "      border-bottom-color: var(--fill-color);\n",
              "    }\n",
              "    90% {\n",
              "      border-color: transparent;\n",
              "      border-bottom-color: var(--fill-color);\n",
              "    }\n",
              "  }\n",
              "</style>\n",
              "\n",
              "  <script>\n",
              "    async function quickchart(key) {\n",
              "      const quickchartButtonEl =\n",
              "        document.querySelector('#' + key + ' button');\n",
              "      quickchartButtonEl.disabled = true;  // To prevent multiple clicks.\n",
              "      quickchartButtonEl.classList.add('colab-df-spinner');\n",
              "      try {\n",
              "        const charts = await google.colab.kernel.invokeFunction(\n",
              "            'suggestCharts', [key], {});\n",
              "      } catch (error) {\n",
              "        console.error('Error during call to suggestCharts:', error);\n",
              "      }\n",
              "      quickchartButtonEl.classList.remove('colab-df-spinner');\n",
              "      quickchartButtonEl.classList.add('colab-df-quickchart-complete');\n",
              "    }\n",
              "    (() => {\n",
              "      let quickchartButtonEl =\n",
              "        document.querySelector('#df-73dca9a4-f051-4211-87c4-064407d45ac9 button');\n",
              "      quickchartButtonEl.style.display =\n",
              "        google.colab.kernel.accessAllowed ? 'block' : 'none';\n",
              "    })();\n",
              "  </script>\n",
              "</div>\n",
              "    </div>\n",
              "  </div>\n"
            ]
          },
          "metadata": {},
          "execution_count": 46
        }
      ]
    },
    {
      "cell_type": "code",
      "source": [
        "for i, j, k, l in zip(df.manufacturer, df.year, df.cty, df.hwy):\n",
        "  if i == 'toyota' and j > 2000 and (k + l) / 2 > 25:\n",
        "    print(i, j, k, l)"
      ],
      "metadata": {
        "colab": {
          "base_uri": "https://localhost:8080/"
        },
        "id": "SdUJbmaWc0Ch",
        "outputId": "c984ac97-5748-4b8f-98c3-39a6fb2de3ed"
      },
      "execution_count": 52,
      "outputs": [
        {
          "output_type": "stream",
          "name": "stdout",
          "text": [
            "toyota 2008 21 31\n",
            "toyota 2008 21 31\n",
            "toyota 2008 21 31\n",
            "toyota 2008 22 31\n",
            "toyota 2008 28 37\n",
            "toyota 2008 26 35\n"
          ]
        }
      ]
    },
    {
      "cell_type": "code",
      "source": [
        "for i, j, k, l, h in zip(df.manufacturer, df.category, df.cty, df.hwy, df.cyl):\n",
        "  if i == 'toyota' and j == 'compact' and (k + l) / 2 > 25 and h < 5:\n",
        "    print(i, j, k, l, h)"
      ],
      "metadata": {
        "colab": {
          "base_uri": "https://localhost:8080/"
        },
        "id": "fW6MBLtqc77E",
        "outputId": "5d7d406e-ce8b-4087-cf22-4e42977449ff"
      },
      "execution_count": 54,
      "outputs": [
        {
          "output_type": "stream",
          "name": "stdout",
          "text": [
            "toyota compact 21 31 4\n",
            "toyota compact 22 31 4\n",
            "toyota compact 24 30 4\n",
            "toyota compact 24 33 4\n",
            "toyota compact 26 35 4\n",
            "toyota compact 28 37 4\n",
            "toyota compact 26 35 4\n"
          ]
        }
      ]
    },
    {
      "cell_type": "code",
      "source": [
        "for i, j, k, l in zip(df.manufacturer, df.year, df.displ, df.category):\n",
        "  if i == 'volkswagen' and k > 2.3 and l != 'midsize':\n",
        "    print(i, j, k, l)"
      ],
      "metadata": {
        "colab": {
          "base_uri": "https://localhost:8080/"
        },
        "id": "s2i6oosJeJgl",
        "outputId": "7332a29d-d6ed-4b94-d46f-a58b06cfc1d8"
      },
      "execution_count": 58,
      "outputs": [
        {
          "output_type": "stream",
          "name": "stdout",
          "text": [
            "volkswagen 1999 2.8 compact\n",
            "volkswagen 2008 2.5 compact\n",
            "volkswagen 2008 2.5 compact\n",
            "volkswagen 1999 2.8 compact\n",
            "volkswagen 1999 2.8 compact\n",
            "volkswagen 2008 2.5 subcompact\n",
            "volkswagen 2008 2.5 subcompact\n"
          ]
        }
      ]
    },
    {
      "cell_type": "code",
      "source": [
        "for i, j, k, l in zip(df.model, df.trans, df.cty, df.hwy):\n",
        "  if i == 'a4' and 'auto' not in j and (k + l) / 2 > 25:\n",
        "    print(i, j, k, l)"
      ],
      "metadata": {
        "colab": {
          "base_uri": "https://localhost:8080/"
        },
        "id": "B122EPp7eTkC",
        "outputId": "4ff31907-348f-4ab0-d935-0180078755e1"
      },
      "execution_count": 62,
      "outputs": [
        {
          "output_type": "stream",
          "name": "stdout",
          "text": [
            "a4 manual(m6) 20 31\n"
          ]
        }
      ]
    },
    {
      "cell_type": "code",
      "source": [
        "for i, j, k, l in zip(df.year, df.model, df.fl, df.category):\n",
        "  if i > 2000 and j != 'a4' and k == 'e' and l != 'compact':\n",
        "    print(i, j, k, l)"
      ],
      "metadata": {
        "colab": {
          "base_uri": "https://localhost:8080/"
        },
        "id": "ZnCVVptjeUAz",
        "outputId": "291e3f45-4f3c-4334-ef37-9b1b396facc1"
      },
      "execution_count": 67,
      "outputs": [
        {
          "output_type": "stream",
          "name": "stdout",
          "text": [
            "2008 c1500 suburban 2wd e suv\n",
            "2008 k1500 tahoe 4wd e suv\n",
            "2008 caravan 2wd e minivan\n",
            "2008 dakota pickup 4wd e pickup\n",
            "2008 durango 4wd e suv\n",
            "2008 ram 1500 pickup 4wd e pickup\n",
            "2008 ram 1500 pickup 4wd e pickup\n",
            "2008 grand cherokee 4wd e suv\n"
          ]
        }
      ]
    }
  ]
}