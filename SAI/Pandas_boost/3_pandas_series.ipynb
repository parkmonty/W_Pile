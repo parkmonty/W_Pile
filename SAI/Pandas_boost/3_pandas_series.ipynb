{
  "cells": [
    {
      "cell_type": "markdown",
      "metadata": {
        "id": "view-in-github",
        "colab_type": "text"
      },
      "source": [
        "<a href=\"https://colab.research.google.com/github/parkmonty/W_Pile/blob/main/3_pandas_series.ipynb\" target=\"_parent\"><img src=\"https://colab.research.google.com/assets/colab-badge.svg\" alt=\"Open In Colab\"/></a>"
      ]
    },
    {
      "cell_type": "code",
      "execution_count": null,
      "metadata": {
        "ExecuteTime": {
          "end_time": "2018-02-06T11:56:21.149835Z",
          "start_time": "2018-02-06T11:56:20.727978Z"
        },
        "collapsed": true,
        "id": "H8IY4Kzk5AX5"
      },
      "outputs": [],
      "source": [
        "from pandas import Series, DataFrame\n",
        "import pandas as pd\n",
        "import numpy as np"
      ]
    },
    {
      "cell_type": "code",
      "execution_count": null,
      "metadata": {
        "ExecuteTime": {
          "end_time": "2017-09-26T03:14:38.856292Z",
          "start_time": "2017-09-26T03:14:38.846311Z"
        },
        "id": "KvHfmh8U5AX6",
        "outputId": "be9f443c-3c5e-4334-ee50-737321ec9665"
      },
      "outputs": [
        {
          "data": {
            "text/plain": [
              "0    1\n",
              "1    2\n",
              "2    3\n",
              "3    4\n",
              "4    5\n",
              "dtype: int64"
            ]
          },
          "execution_count": 5,
          "metadata": {},
          "output_type": "execute_result"
        }
      ],
      "source": [
        "\n",
        "list_data = [1,2,3,4,5]\n",
        "example_obj = Series(data = list_data)\n",
        "example_obj"
      ]
    },
    {
      "cell_type": "code",
      "execution_count": null,
      "metadata": {
        "ExecuteTime": {
          "end_time": "2017-09-26T03:14:39.117062Z",
          "start_time": "2017-09-26T03:14:39.111183Z"
        },
        "id": "GVNadBrf5AX7",
        "outputId": "e034754b-c469-4aa3-b49d-02feca405e14"
      },
      "outputs": [
        {
          "data": {
            "text/plain": [
              "a    1\n",
              "b    2\n",
              "c    3\n",
              "d    4\n",
              "e    5\n",
              "dtype: int64"
            ]
          },
          "execution_count": 6,
          "metadata": {},
          "output_type": "execute_result"
        }
      ],
      "source": [
        "list_data = [1,2,3,4,5]\n",
        "list_name = [\"a\",\"b\",\"c\",\"d\",\"e\"]\n",
        "example_obj = Series(data = list_data, index=list_name)\n",
        "example_obj"
      ]
    },
    {
      "cell_type": "code",
      "execution_count": null,
      "metadata": {
        "ExecuteTime": {
          "end_time": "2017-09-26T03:14:39.584501Z",
          "start_time": "2017-09-26T03:14:39.580825Z"
        },
        "id": "B09cVV-h5AX7",
        "outputId": "916ef42e-22a9-4162-b02b-3f5d1c8d6a33"
      },
      "outputs": [
        {
          "data": {
            "text/plain": [
              "Index(['a', 'b', 'c', 'd', 'e'], dtype='object')"
            ]
          },
          "execution_count": 7,
          "metadata": {},
          "output_type": "execute_result"
        }
      ],
      "source": [
        "example_obj.index"
      ]
    },
    {
      "cell_type": "code",
      "execution_count": null,
      "metadata": {
        "ExecuteTime": {
          "end_time": "2017-09-26T03:14:40.126399Z",
          "start_time": "2017-09-26T03:14:40.122873Z"
        },
        "id": "d2hIvKKO5AX8",
        "outputId": "673dcee1-cc3c-42ba-f6f4-9ca4f34d5d9d"
      },
      "outputs": [
        {
          "data": {
            "text/plain": [
              "array([1, 2, 3, 4, 5])"
            ]
          },
          "execution_count": 8,
          "metadata": {},
          "output_type": "execute_result"
        }
      ],
      "source": [
        "example_obj.values"
      ]
    },
    {
      "cell_type": "code",
      "execution_count": null,
      "metadata": {
        "ExecuteTime": {
          "end_time": "2017-09-26T03:14:40.552190Z",
          "start_time": "2017-09-26T03:14:40.548895Z"
        },
        "id": "wamh_PHZ5AX8",
        "outputId": "60824735-563f-46c6-f1e3-050633bc557c"
      },
      "outputs": [
        {
          "data": {
            "text/plain": [
              "numpy.ndarray"
            ]
          },
          "execution_count": 9,
          "metadata": {},
          "output_type": "execute_result"
        }
      ],
      "source": [
        "type(example_obj.values)"
      ]
    },
    {
      "cell_type": "code",
      "execution_count": null,
      "metadata": {
        "ExecuteTime": {
          "end_time": "2017-09-26T03:14:41.333329Z",
          "start_time": "2017-09-26T03:14:41.324716Z"
        },
        "id": "2fsJ-YIl5AX9",
        "outputId": "99d71d2b-54f0-41f1-8282-548506f2e54e"
      },
      "outputs": [
        {
          "data": {
            "text/plain": [
              "a    1.0\n",
              "b    2.0\n",
              "c    3.0\n",
              "d    4.0\n",
              "e    5.0\n",
              "Name: example_data, dtype: float32"
            ]
          },
          "execution_count": 10,
          "metadata": {},
          "output_type": "execute_result"
        }
      ],
      "source": [
        "dict_data = {\"a\":1, \"b\":2, \"c\":3, \"d\":4, \"e\":5}\n",
        "example_obj = Series(dict_data, dtype=np.float32, name=\"example_data\")\n",
        "example_obj"
      ]
    },
    {
      "cell_type": "code",
      "execution_count": null,
      "metadata": {
        "ExecuteTime": {
          "end_time": "2017-09-26T03:14:44.416076Z",
          "start_time": "2017-09-26T03:14:44.412257Z"
        },
        "id": "y-2_Ouci5AX9",
        "outputId": "3ce92e5a-9543-4d02-d7b8-1a3036fc4687"
      },
      "outputs": [
        {
          "data": {
            "text/plain": [
              "1.0"
            ]
          },
          "execution_count": 11,
          "metadata": {},
          "output_type": "execute_result"
        }
      ],
      "source": [
        "example_obj[\"a\"]"
      ]
    },
    {
      "cell_type": "code",
      "execution_count": null,
      "metadata": {
        "ExecuteTime": {
          "end_time": "2017-09-26T03:14:44.881290Z",
          "start_time": "2017-09-26T03:14:44.876461Z"
        },
        "id": "zDIiGBC45AX9",
        "outputId": "6d4b2cec-bcb4-4dc1-82b2-bab8400efcd3"
      },
      "outputs": [
        {
          "data": {
            "text/plain": [
              "a    3.2\n",
              "b    2.0\n",
              "c    3.0\n",
              "d    4.0\n",
              "e    5.0\n",
              "Name: example_data, dtype: float32"
            ]
          },
          "execution_count": 12,
          "metadata": {},
          "output_type": "execute_result"
        }
      ],
      "source": [
        "example_obj[\"a\"] = 3.2\n",
        "example_obj"
      ]
    },
    {
      "cell_type": "code",
      "execution_count": null,
      "metadata": {
        "ExecuteTime": {
          "end_time": "2017-09-26T03:14:46.747484Z",
          "start_time": "2017-09-26T03:14:46.740069Z"
        },
        "id": "d1xKBzl65AX-",
        "outputId": "7baecb8a-a42e-421d-ea41-1fbdc3e30296"
      },
      "outputs": [
        {
          "data": {
            "text/plain": [
              "a    3.2\n",
              "c    3.0\n",
              "d    4.0\n",
              "e    5.0\n",
              "Name: example_data, dtype: float32"
            ]
          },
          "execution_count": 13,
          "metadata": {},
          "output_type": "execute_result"
        }
      ],
      "source": [
        "example_obj[example_obj > 2]"
      ]
    },
    {
      "cell_type": "code",
      "execution_count": null,
      "metadata": {
        "id": "lV-K2uYu5AX-",
        "outputId": "5a49123c-c589-483d-a29e-ee1ae3de7e97"
      },
      "outputs": [
        {
          "data": {
            "text/plain": [
              "a     6.4\n",
              "b     4.0\n",
              "c     6.0\n",
              "d     8.0\n",
              "e    10.0\n",
              "Name: example_data, dtype: float32"
            ]
          },
          "execution_count": 14,
          "metadata": {},
          "output_type": "execute_result"
        }
      ],
      "source": [
        "example_obj * 2"
      ]
    },
    {
      "cell_type": "code",
      "execution_count": null,
      "metadata": {
        "collapsed": true,
        "id": "URjSt6Tn5AX_"
      },
      "outputs": [],
      "source": [
        "np.exp(example_obj) #np.abs , np.log"
      ]
    },
    {
      "cell_type": "code",
      "execution_count": null,
      "metadata": {
        "collapsed": true,
        "id": "WitHwPd65AX_"
      },
      "outputs": [],
      "source": [
        "\"b\" in example_obj"
      ]
    },
    {
      "cell_type": "code",
      "execution_count": null,
      "metadata": {
        "ExecuteTime": {
          "end_time": "2017-09-26T03:23:32.635691Z",
          "start_time": "2017-09-26T03:23:32.631275Z"
        },
        "collapsed": true,
        "id": "K4HBx52E5AX_"
      },
      "outputs": [],
      "source": [
        "example_obj.to_dict()"
      ]
    },
    {
      "cell_type": "code",
      "execution_count": null,
      "metadata": {
        "ExecuteTime": {
          "end_time": "2017-09-26T03:23:35.827703Z",
          "start_time": "2017-09-26T03:23:35.821599Z"
        },
        "collapsed": true,
        "id": "vVfb5zx85AYA"
      },
      "outputs": [],
      "source": [
        "example_obj.values"
      ]
    },
    {
      "cell_type": "code",
      "execution_count": null,
      "metadata": {
        "ExecuteTime": {
          "end_time": "2017-09-26T03:23:43.409765Z",
          "start_time": "2017-09-26T03:23:43.406064Z"
        },
        "collapsed": true,
        "id": "GypDATgu5AYA"
      },
      "outputs": [],
      "source": [
        "example_obj.index"
      ]
    },
    {
      "cell_type": "code",
      "execution_count": null,
      "metadata": {
        "ExecuteTime": {
          "end_time": "2017-09-26T03:27:26.580069Z",
          "start_time": "2017-09-26T03:27:26.574864Z"
        },
        "collapsed": true,
        "id": "ACoqv3Xt5AYA"
      },
      "outputs": [],
      "source": [
        "example_obj.name = \"number\"\n",
        "example_obj.index.name = \"alphabet\"\n",
        "example_obj"
      ]
    },
    {
      "cell_type": "code",
      "execution_count": null,
      "metadata": {
        "collapsed": true,
        "id": "DCVmNppW5AYA"
      },
      "outputs": [],
      "source": [
        "dict_data_1 = {\"a\":1, \"b\":2, \"c\":3, \"d\":4, \"e\":5}\n",
        "indexes = [\"a\",\"b\",\"c\",\"d\",\"e\",\"f\",\"g\",\"h\"]\n",
        "series_obj_1 = Series(dict_data_1, index=indexes)\n",
        "series_obj_1"
      ]
    }
  ],
  "metadata": {
    "anaconda-cloud": {},
    "kernelspec": {
      "display_name": "Python 3",
      "language": "python",
      "name": "python3"
    },
    "language_info": {
      "codemirror_mode": {
        "name": "ipython",
        "version": 3
      },
      "file_extension": ".py",
      "mimetype": "text/x-python",
      "name": "python",
      "nbconvert_exporter": "python",
      "pygments_lexer": "ipython3",
      "version": "3.6.2"
    },
    "nav_menu": {},
    "toc": {
      "navigate_menu": true,
      "number_sections": true,
      "sideBar": true,
      "threshold": 6,
      "toc_cell": false,
      "toc_section_display": "block",
      "toc_window_display": false
    },
    "colab": {
      "provenance": [],
      "include_colab_link": true
    }
  },
  "nbformat": 4,
  "nbformat_minor": 0
}
