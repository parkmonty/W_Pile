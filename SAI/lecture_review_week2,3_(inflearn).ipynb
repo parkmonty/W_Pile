{
  "nbformat": 4,
  "nbformat_minor": 0,
  "metadata": {
    "colab": {
      "provenance": [],
      "collapsed_sections": [
        "euWTb_GPoKUE",
        "FtFNFWZOo43P",
        "jcq8NoAPq6gb",
        "YopxRQmPs0lz",
        "LZX0CL7gupG9",
        "bDA_LE2SwT7j",
        "i2evfVYz0MIn",
        "9B7vGw4P1B-O",
        "WYzB1DEb1MEF",
        "SmcYp4ZX3sN2",
        "obdQVxYn4rqv",
        "gNUlWXYI5wHQ",
        "RoVGvTtc58vv",
        "oqUbIzTm7ofT",
        "JRCU-XH9AGXj",
        "A2fvPItkCr8Y",
        "4uTdowwlDuST",
        "kGOy2ZZrEvAh",
        "HI9b9Zrap-yq",
        "tlu4yjOSqGMw",
        "_78HyWGj1tWz",
        "RxcFfGwI2xz0",
        "jgV3ljlE25k1",
        "IXnSKN2V4Mts",
        "FYMeJqlW494I",
        "3DY3NQ9w6_MS",
        "NGiBzVXBxPoZ",
        "-mFc4TQ6xY22",
        "5_wzPmW2zeTQ",
        "FmmMI6gW1c3s",
        "TV7FkI023lYc",
        "jsu4zBNd3qil"
      ],
      "authorship_tag": "ABX9TyP2V2Jnag/GbBrQT8l/GTbS",
      "include_colab_link": true
    },
    "kernelspec": {
      "name": "python3",
      "display_name": "Python 3"
    },
    "language_info": {
      "name": "python"
    }
  },
  "cells": [
    {
      "cell_type": "markdown",
      "metadata": {
        "id": "view-in-github",
        "colab_type": "text"
      },
      "source": [
        "<a href=\"https://colab.research.google.com/github/parkmonty/W_Pile/blob/main/lecture_review_week2%2C3_(inflearn).ipynb\" target=\"_parent\"><img src=\"https://colab.research.google.com/assets/colab-badge.svg\" alt=\"Open In Colab\"/></a>"
      ]
    },
    {
      "cell_type": "code",
      "source": [
        "import numpy as np"
      ],
      "metadata": {
        "id": "o3Nv6jyZoo9P"
      },
      "execution_count": 2,
      "outputs": []
    },
    {
      "cell_type": "code",
      "source": [
        "import matplotlib.pyplot as plt"
      ],
      "metadata": {
        "id": "F2jCtJb7wlCy"
      },
      "execution_count": 31,
      "outputs": []
    },
    {
      "cell_type": "markdown",
      "source": [
        "# **Section 1. N차원 배열 생성**"
      ],
      "metadata": {
        "id": "euWTb_GPoKUE"
      }
    },
    {
      "cell_type": "markdown",
      "source": [
        "## 1-1. N차원 배열(ndarray) 생성하기"
      ],
      "metadata": {
        "id": "FtFNFWZOo43P"
      }
    },
    {
      "cell_type": "code",
      "execution_count": 3,
      "metadata": {
        "colab": {
          "base_uri": "https://localhost:8080/"
        },
        "id": "fiGC7KU6oD-z",
        "outputId": "09f40a70-cbbd-4fcd-e60d-d615016e2691"
      },
      "outputs": [
        {
          "output_type": "stream",
          "name": "stdout",
          "text": [
            "[1 2 3]\n",
            "[[1 2 3]\n",
            " [4 5 6]]\n"
          ]
        }
      ],
      "source": [
        "# 1차원 배열\n",
        "arr = np.array([1, 2, 3])\n",
        "print(arr)\n",
        "\n",
        "# 2차원 배열\n",
        "arr = np.array([[1, 2, 3], [4, 5, 6]])\n",
        "print(arr)"
      ]
    },
    {
      "cell_type": "code",
      "source": [
        "print(type([1, 2, 3]))\n",
        "print(type(arr))"
      ],
      "metadata": {
        "colab": {
          "base_uri": "https://localhost:8080/"
        },
        "id": "i6MgIx5Mpb1K",
        "outputId": "d62c2c75-fbeb-4f5c-9bd7-e3214c2dfb4a"
      },
      "execution_count": 4,
      "outputs": [
        {
          "output_type": "stream",
          "name": "stdout",
          "text": [
            "<class 'list'>\n",
            "<class 'numpy.ndarray'>\n"
          ]
        }
      ]
    },
    {
      "cell_type": "code",
      "source": [
        "tp1 = (4, 5, 6)\n",
        "arr = np.array(tp1)\n",
        "print(arr)\n",
        "\n",
        "lst = [1, 2, 3]\n",
        "arr = np.array(lst)\n",
        "print(arr)\n",
        "\n",
        "lst2 = [[1, 2, 3], [4, 5, 6]]\n",
        "arr = np.array(lst2)\n",
        "print(arr)"
      ],
      "metadata": {
        "colab": {
          "base_uri": "https://localhost:8080/"
        },
        "id": "wBmdyXUVpmSa",
        "outputId": "8c7419fe-e17e-4c9c-f35f-97ea33abc93e"
      },
      "execution_count": 5,
      "outputs": [
        {
          "output_type": "stream",
          "name": "stdout",
          "text": [
            "[4 5 6]\n",
            "[1 2 3]\n",
            "[[1 2 3]\n",
            " [4 5 6]]\n"
          ]
        }
      ]
    },
    {
      "cell_type": "code",
      "source": [
        "# shape\n",
        "arr1 = np.array([1, 2, 3])\n",
        "arr2 = np.array([[1, 2, 3], [4, 5, 6]])\n",
        "\n",
        "print(arr1.shape, arr2.shape)\n",
        "\n",
        "# ndim\n",
        "print(arr1.ndim, arr2.ndim)\n",
        "\n",
        "# size\n",
        "print(arr1.size, arr2.size)"
      ],
      "metadata": {
        "colab": {
          "base_uri": "https://localhost:8080/"
        },
        "id": "CS9MWcb3qOqt",
        "outputId": "3847e177-a045-4811-beb9-a9c718ae83a3"
      },
      "execution_count": 6,
      "outputs": [
        {
          "output_type": "stream",
          "name": "stdout",
          "text": [
            "(3,) (2, 3)\n",
            "1 2\n",
            "3 6\n"
          ]
        }
      ]
    },
    {
      "cell_type": "markdown",
      "source": [
        "## 1-2. N차원 배열의 데이터 타입"
      ],
      "metadata": {
        "id": "jcq8NoAPq6gb"
      }
    },
    {
      "cell_type": "code",
      "source": [
        "arr = np.array([1.1, 2.2, 3.3], dtype = np.int64)\n",
        "print(arr, arr.dtype)\n",
        "\n",
        "arr = np.array([0, 1, 1], dtype = np.bool_)\n",
        "print(arr, arr.dtype)"
      ],
      "metadata": {
        "colab": {
          "base_uri": "https://localhost:8080/"
        },
        "id": "o5qhQprSq_qa",
        "outputId": "c43e70a2-3ce2-4a29-cc64-48079dd08e98"
      },
      "execution_count": 7,
      "outputs": [
        {
          "output_type": "stream",
          "name": "stdout",
          "text": [
            "[1 2 3] int64\n",
            "[False  True  True] bool\n"
          ]
        }
      ]
    },
    {
      "cell_type": "code",
      "source": [
        "arr = np.array([0, 1, 2, 3])\n",
        "print(arr, arr.dtype)\n",
        "\n",
        "arr = arr.astype(np.float32)\n",
        "print(arr, arr.dtype)"
      ],
      "metadata": {
        "colab": {
          "base_uri": "https://localhost:8080/"
        },
        "id": "nQPXbTZUr2k_",
        "outputId": "8f8a59fe-4dc1-43aa-c02a-552d7cb3cfbe"
      },
      "execution_count": 8,
      "outputs": [
        {
          "output_type": "stream",
          "name": "stdout",
          "text": [
            "[0 1 2 3] int64\n",
            "[0. 1. 2. 3.] float32\n"
          ]
        }
      ]
    },
    {
      "cell_type": "code",
      "source": [
        "# 데이터 타입이 혼재하는 경우\n",
        "# 숫자와 문자를 혼재해서 사용할 수 없다.\n",
        "# ex) [1, \"2\"] -> 가능 / [1, \"하\"] -> 불가능\n",
        "\n",
        "arr = np.array([1, 2, 3.4, \"64\"], dtype = np.int64)\n",
        "print(arr, arr.dtype)"
      ],
      "metadata": {
        "colab": {
          "base_uri": "https://localhost:8080/"
        },
        "id": "iKU_cwSKsJGh",
        "outputId": "8ff458cd-ef6c-4daf-a85e-215bfe59a4ca"
      },
      "execution_count": 9,
      "outputs": [
        {
          "output_type": "stream",
          "name": "stdout",
          "text": [
            "[ 1  2  3 64] int64\n"
          ]
        }
      ]
    },
    {
      "cell_type": "markdown",
      "source": [
        "## 1-3. 정해진 형식의 N차원 배열 생성하기"
      ],
      "metadata": {
        "id": "YopxRQmPs0lz"
      }
    },
    {
      "cell_type": "code",
      "source": [
        "# np.zeros()\n",
        "arr = np.zeros([2, 2])\n",
        "print(arr)\n",
        "\n",
        "# np.ones()\n",
        "arr = np.ones([3, 5])\n",
        "print(arr)\n",
        "\n",
        "# np.full()\n",
        "arr = np.full((2, 3), 5)\n",
        "print(arr)\n",
        "\n",
        "# np.eye()\n",
        "# eye(3) -> 3 X 3 행렬\n",
        "# eye(3, 4) -> 기본 k = 0, 3 X 4 행\n",
        "arr = np.eye(3, 4, k = 1)\n",
        "print(arr)"
      ],
      "metadata": {
        "colab": {
          "base_uri": "https://localhost:8080/"
        },
        "id": "s7jhkqVuszz3",
        "outputId": "781f90cb-1538-4717-90dd-3be91ed9b622"
      },
      "execution_count": 10,
      "outputs": [
        {
          "output_type": "stream",
          "name": "stdout",
          "text": [
            "[[0. 0.]\n",
            " [0. 0.]]\n",
            "[[1. 1. 1. 1. 1.]\n",
            " [1. 1. 1. 1. 1.]\n",
            " [1. 1. 1. 1. 1.]]\n",
            "[[5 5 5]\n",
            " [5 5 5]]\n",
            "[[0. 1. 0. 0.]\n",
            " [0. 0. 1. 0.]\n",
            " [0. 0. 0. 1.]]\n"
          ]
        }
      ]
    },
    {
      "cell_type": "code",
      "source": [
        "arr = np.array([[1, 2, 3], [4, 5, 6]])\n",
        "\n",
        "# np.zeros_like()\n",
        "arr_z = np.zeros_like(arr)\n",
        "print(arr_z)\n",
        "\n",
        "# np.ones_like()\n",
        "arr_o = np.ones_like(arr)\n",
        "print(arr_o)\n",
        "\n",
        "# np.full_like()\n",
        "arr_f = np.full_like(arr, 9)\n",
        "print(arr_f)"
      ],
      "metadata": {
        "colab": {
          "base_uri": "https://localhost:8080/"
        },
        "id": "eA1uJRuZt5FI",
        "outputId": "5e1d77db-6cf4-463a-9905-1120e315e6f2"
      },
      "execution_count": 11,
      "outputs": [
        {
          "output_type": "stream",
          "name": "stdout",
          "text": [
            "[[0 0 0]\n",
            " [0 0 0]]\n",
            "[[1 1 1]\n",
            " [1 1 1]]\n",
            "[[9 9 9]\n",
            " [9 9 9]]\n"
          ]
        }
      ]
    },
    {
      "cell_type": "markdown",
      "source": [
        "## 1-4. 특정 범위의 값을 가지는 N차원 배열 생성하기"
      ],
      "metadata": {
        "id": "LZX0CL7gupG9"
      }
    },
    {
      "cell_type": "code",
      "source": [
        "lst = list(range(0, 9, 2))\n",
        "print(lst)"
      ],
      "metadata": {
        "colab": {
          "base_uri": "https://localhost:8080/"
        },
        "id": "A9Pvyxy9uvJ7",
        "outputId": "8ef279a4-b356-4e2d-978f-31417f67d78f"
      },
      "execution_count": 12,
      "outputs": [
        {
          "output_type": "stream",
          "name": "stdout",
          "text": [
            "[0, 2, 4, 6, 8]\n"
          ]
        }
      ]
    },
    {
      "cell_type": "code",
      "source": [
        "arr = np.arange(9)\n",
        "print(arr)\n",
        "arr = np.arange(3, 12)\n",
        "print(arr)\n",
        "arr = np.arange(3, 13, 3)\n",
        "print(arr)\n",
        "arr = np.arange(stop = 9, step = 2, start = 0) # (0, 9, 2)\n",
        "print(arr)"
      ],
      "metadata": {
        "colab": {
          "base_uri": "https://localhost:8080/"
        },
        "id": "Fj5NOEaDu9B1",
        "outputId": "94856c0d-af6c-4e80-f97f-a4d2be3d4963"
      },
      "execution_count": 13,
      "outputs": [
        {
          "output_type": "stream",
          "name": "stdout",
          "text": [
            "[0 1 2 3 4 5 6 7 8]\n",
            "[ 3  4  5  6  7  8  9 10 11]\n",
            "[ 3  6  9 12]\n",
            "[0 2 4 6 8]\n"
          ]
        }
      ]
    },
    {
      "cell_type": "code",
      "source": [
        "# np.linspace()\n",
        "# 특징 : stop 값 까지 출\n",
        "\n",
        "arr = np.linspace(0, 100, 11)\n",
        "print(arr)"
      ],
      "metadata": {
        "colab": {
          "base_uri": "https://localhost:8080/"
        },
        "id": "NGOBEo5WvkBL",
        "outputId": "ffb3182b-5016-409c-888a-123f22d6a6ac"
      },
      "execution_count": 14,
      "outputs": [
        {
          "output_type": "stream",
          "name": "stdout",
          "text": [
            "[  0.  10.  20.  30.  40.  50.  60.  70.  80.  90. 100.]\n"
          ]
        }
      ]
    },
    {
      "cell_type": "code",
      "source": [
        "# np.logspace()\n",
        "\n",
        "arr = np.linspace(1, 10, 10)\n",
        "print(arr, end = \"\\n\\n\")\n",
        "\n",
        "arr = np.logspace(1, 10, 10, base = 2)\n",
        "print(arr)\n",
        "\n",
        "arr = np.logspace(1, 10, 10)\n",
        "print(arr)"
      ],
      "metadata": {
        "colab": {
          "base_uri": "https://localhost:8080/"
        },
        "id": "TnSHPK7dv4gl",
        "outputId": "eb296606-59d8-438a-e9da-9e751298f48d"
      },
      "execution_count": 15,
      "outputs": [
        {
          "output_type": "stream",
          "name": "stdout",
          "text": [
            "[ 1.  2.  3.  4.  5.  6.  7.  8.  9. 10.]\n",
            "\n",
            "[   2.    4.    8.   16.   32.   64.  128.  256.  512. 1024.]\n",
            "[1.e+01 1.e+02 1.e+03 1.e+04 1.e+05 1.e+06 1.e+07 1.e+08 1.e+09 1.e+10]\n"
          ]
        }
      ]
    },
    {
      "cell_type": "markdown",
      "source": [
        "## 1-5. 난수로 이루어진 N차원 배열 생성하기"
      ],
      "metadata": {
        "id": "bDA_LE2SwT7j"
      }
    },
    {
      "cell_type": "code",
      "source": [
        "# np.random.normal(평균, 표준편차, 개수)\n",
        "# 정규분포의 확률을 유도해 추출\n",
        "\n",
        "arr = np.random.normal(0, 1, (2, 3))\n",
        "print(arr)"
      ],
      "metadata": {
        "colab": {
          "base_uri": "https://localhost:8080/"
        },
        "id": "CcLi7PCJwZVW",
        "outputId": "12e11535-e9a4-4cad-aa4a-00074f9b9847"
      },
      "execution_count": 16,
      "outputs": [
        {
          "output_type": "stream",
          "name": "stdout",
          "text": [
            "[[ 0.4657553  -0.56222518  1.25103872]\n",
            " [ 1.41734284  0.37801608  0.03093088]]\n"
          ]
        }
      ]
    },
    {
      "cell_type": "code",
      "source": [
        "arr = np.random.normal(0, 1, 1000000)\n",
        "plt.hist(arr, bins = 100) # bins -> 몇개의 구간으로 난수를 구분\n",
        "plt.show()"
      ],
      "metadata": {
        "colab": {
          "base_uri": "https://localhost:8080/",
          "height": 435
        },
        "id": "F3OHpUcfxHPl",
        "outputId": "9adaf912-9574-4c67-f5e0-e8a1bee7e2bc"
      },
      "execution_count": 17,
      "outputs": [
        {
          "output_type": "display_data",
          "data": {
            "text/plain": [
              "<Figure size 640x480 with 1 Axes>"
            ],
            "image/png": "[encoded data removed]"
          },
          "metadata": {}
        }
      ]
    },
    {
      "cell_type": "code",
      "source": [
        "# np.random.rand()\n",
        "# 0 ~ 1 값을 균등한 비율로 추출하는 함수\n",
        "\n",
        "arr = np.random.rand(1000)\n",
        "plt.hist(arr, bins = 100)\n",
        "plt.show()"
      ],
      "metadata": {
        "colab": {
          "base_uri": "https://localhost:8080/",
          "height": 430
        },
        "id": "PtbFTp2rxnPU",
        "outputId": "ea2d93bd-9515-451f-b55f-c7478eec790b"
      },
      "execution_count": 18,
      "outputs": [
        {
          "output_type": "display_data",
          "data": {
            "text/plain": [
              "<Figure size 640x480 with 1 Axes>"
            ],
            "image/png": "[encoded data removed]"
          },
          "metadata": {}
        }
      ]
    },
    {
      "cell_type": "code",
      "source": [
        "# np.random.randn()\n",
        "# 평균 0, 표준편차 1 값을 가지는 정규분포의 표본을 추출\n",
        "\n",
        "arr = np.random.randn(1000)\n",
        "plt.hist(arr, bins = 100)\n",
        "plt.show()"
      ],
      "metadata": {
        "colab": {
          "base_uri": "https://localhost:8080/",
          "height": 430
        },
        "id": "7Mejwxmfx794",
        "outputId": "365e6c37-ec14-434c-cade-a13d53f1a2e0"
      },
      "execution_count": 19,
      "outputs": [
        {
          "output_type": "display_data",
          "data": {
            "text/plain": [
              "<Figure size 640x480 with 1 Axes>"
            ],
            "image/png": "[encoded data removed]"
          },
          "metadata": {}
        }
      ]
    },
    {
      "cell_type": "code",
      "source": [
        "# np.random.randint()\n",
        "# 무작위 정수만 출력\n",
        "# 하나의 parameter만 입력 -> 0부터 해당 parameter 사이의 숫자 반환\n",
        "\n",
        "arr = np.random.randint(low = 1, high = 5, size = (3, 4))\n",
        "print(arr)"
      ],
      "metadata": {
        "colab": {
          "base_uri": "https://localhost:8080/"
        },
        "id": "bl4EviclzJ_n",
        "outputId": "9f9f282e-c874-45f7-b990-fd4c226cdc75"
      },
      "execution_count": 20,
      "outputs": [
        {
          "output_type": "stream",
          "name": "stdout",
          "text": [
            "[[3 2 3 3]\n",
            " [2 4 2 1]\n",
            " [3 1 3 4]]\n"
          ]
        }
      ]
    },
    {
      "cell_type": "code",
      "source": [
        "arr = np.random.randint(100, 200, 1000)\n",
        "plt.hist(arr, bins = 100)\n",
        "plt.show()"
      ],
      "metadata": {
        "colab": {
          "base_uri": "https://localhost:8080/",
          "height": 430
        },
        "id": "Ufn_ifJtz34o",
        "outputId": "b7334350-2bff-4258-b219-d7d9f550f9d1"
      },
      "execution_count": 21,
      "outputs": [
        {
          "output_type": "display_data",
          "data": {
            "text/plain": [
              "<Figure size 640x480 with 1 Axes>"
            ],
            "image/png": "[encoded data removed]"
          },
          "metadata": {}
        }
      ]
    },
    {
      "cell_type": "code",
      "source": [
        "# rand(), randn(), randint()"
      ],
      "metadata": {
        "id": "3CrbchJ50DIl"
      },
      "execution_count": 22,
      "outputs": []
    },
    {
      "cell_type": "markdown",
      "source": [
        "## 1-6. 시드(Seed)값을 통한 난수 생성 제어"
      ],
      "metadata": {
        "id": "i2evfVYz0MIn"
      }
    },
    {
      "cell_type": "code",
      "source": [
        "arr = np.random.rand(10)\n",
        "print(\"난수 발생1 \\n\", arr)\n",
        "\n",
        "arr = np.random.rand(10)\n",
        "print(\"난수 발생2 \\n\", arr)"
      ],
      "metadata": {
        "colab": {
          "base_uri": "https://localhost:8080/"
        },
        "id": "WsoPyrW50SDy",
        "outputId": "499b852e-6273-4110-eec5-854fa259af00"
      },
      "execution_count": 23,
      "outputs": [
        {
          "output_type": "stream",
          "name": "stdout",
          "text": [
            "난수 발생1 \n",
            " [0.09521919 0.83173472 0.26255013 0.58739727 0.74630166 0.20900475\n",
            " 0.96870561 0.90305356 0.06886628 0.51609673]\n",
            "난수 발생2 \n",
            " [0.95653951 0.72794356 0.34152121 0.6393847  0.1881921  0.79499048\n",
            " 0.3910094  0.26810804 0.39371887 0.39154435]\n"
          ]
        }
      ]
    },
    {
      "cell_type": "code",
      "source": [
        "np.random.seed(10)\n",
        "arr = np.random.rand(10)\n",
        "print(\"난수 발생1 \\n\", arr)\n",
        "\n",
        "np.random.seed(10)\n",
        "arr = np.random.rand(10)\n",
        "print(\"난수 발생2 \\n\", arr)"
      ],
      "metadata": {
        "colab": {
          "base_uri": "https://localhost:8080/"
        },
        "id": "KEqYFLrG0vmh",
        "outputId": "0dc3e6bd-4b3a-4dab-ce11-46abe30c6ca5"
      },
      "execution_count": 24,
      "outputs": [
        {
          "output_type": "stream",
          "name": "stdout",
          "text": [
            "난수 발생1 \n",
            " [0.77132064 0.02075195 0.63364823 0.74880388 0.49850701 0.22479665\n",
            " 0.19806286 0.76053071 0.16911084 0.08833981]\n",
            "난수 발생2 \n",
            " [0.77132064 0.02075195 0.63364823 0.74880388 0.49850701 0.22479665\n",
            " 0.19806286 0.76053071 0.16911084 0.08833981]\n"
          ]
        }
      ]
    },
    {
      "cell_type": "markdown",
      "source": [
        "# **Section 2. N차원 배열의 인덱싱**"
      ],
      "metadata": {
        "id": "9B7vGw4P1B-O"
      }
    },
    {
      "cell_type": "markdown",
      "source": [
        "## 2-1. 배열의 index 접근하기"
      ],
      "metadata": {
        "id": "WYzB1DEb1MEF"
      }
    },
    {
      "cell_type": "code",
      "source": [
        "# 1차원 배열\n",
        "arr = np.array([0, 1, 2, 3, 4, 5, 6, 7, 8, 9])\n",
        "arr = np.arange(10)\n",
        "print(arr)\n",
        "print(arr[3])\n",
        "print(arr[1])\n",
        "print(arr[-1])"
      ],
      "metadata": {
        "colab": {
          "base_uri": "https://localhost:8080/"
        },
        "id": "O5VVuD-u1Lbk",
        "outputId": "fdd4d1a6-e949-4854-d5c4-83cff937e974"
      },
      "execution_count": 25,
      "outputs": [
        {
          "output_type": "stream",
          "name": "stdout",
          "text": [
            "[0 1 2 3 4 5 6 7 8 9]\n",
            "3\n",
            "1\n",
            "9\n"
          ]
        }
      ]
    },
    {
      "cell_type": "code",
      "source": [
        "# 2차원 배열\n",
        "arr = np.array([[1, 2, 3, 4],\n",
        "                [5, 6, 7, 8],\n",
        "                [9, 10, 11, 12]])\n",
        "print(arr, arr.shape, arr.ndim)\n",
        "print(arr[0, 3])"
      ],
      "metadata": {
        "colab": {
          "base_uri": "https://localhost:8080/"
        },
        "id": "dHWwS_Lp12hw",
        "outputId": "40be33b0-ded0-4699-a019-da51d798dde2"
      },
      "execution_count": 26,
      "outputs": [
        {
          "output_type": "stream",
          "name": "stdout",
          "text": [
            "[[ 1  2  3  4]\n",
            " [ 5  6  7  8]\n",
            " [ 9 10 11 12]] (3, 4) 2\n",
            "4\n"
          ]
        }
      ]
    },
    {
      "cell_type": "code",
      "source": [
        "arr = np.arange(10)\n",
        "print(arr[3:8])\n",
        "print(arr[3:])\n",
        "print(arr[:7])\n",
        "print(arr[:-1])"
      ],
      "metadata": {
        "colab": {
          "base_uri": "https://localhost:8080/"
        },
        "id": "YIePWluh2v-S",
        "outputId": "6722d020-8782-4618-87a3-30c6241d1b3f"
      },
      "execution_count": 27,
      "outputs": [
        {
          "output_type": "stream",
          "name": "stdout",
          "text": [
            "[3 4 5 6 7]\n",
            "[3 4 5 6 7 8 9]\n",
            "[0 1 2 3 4 5 6]\n",
            "[0 1 2 3 4 5 6 7 8]\n"
          ]
        }
      ]
    },
    {
      "cell_type": "code",
      "source": [
        "arr = np.array([[1, 2, 3, 4],\n",
        "                [5, 6, 7, 8],\n",
        "                [9, 10, 11, 12]])\n",
        "\n",
        "print(arr[0, :])\n",
        "print(arr[:, 1])"
      ],
      "metadata": {
        "colab": {
          "base_uri": "https://localhost:8080/"
        },
        "id": "s_7_3wvf3ClW",
        "outputId": "b2d975a5-a435-447d-9065-0936524e2219"
      },
      "execution_count": 28,
      "outputs": [
        {
          "output_type": "stream",
          "name": "stdout",
          "text": [
            "[1 2 3 4]\n",
            "[ 2  6 10]\n"
          ]
        }
      ]
    },
    {
      "cell_type": "code",
      "source": [
        "print(arr[:3, :])\n",
        "print(arr[:2, 2:])"
      ],
      "metadata": {
        "colab": {
          "base_uri": "https://localhost:8080/"
        },
        "id": "OxD3WFFJ3PAa",
        "outputId": "b14b1d95-749f-4769-9f16-3000363b9f0e"
      },
      "execution_count": 29,
      "outputs": [
        {
          "output_type": "stream",
          "name": "stdout",
          "text": [
            "[[ 1  2  3  4]\n",
            " [ 5  6  7  8]\n",
            " [ 9 10 11 12]]\n",
            "[[3 4]\n",
            " [7 8]]\n"
          ]
        }
      ]
    },
    {
      "cell_type": "markdown",
      "source": [
        "## 2-2. Fancy 인덱싱"
      ],
      "metadata": {
        "id": "SmcYp4ZX3sN2"
      }
    },
    {
      "cell_type": "code",
      "source": [
        "# 1차원 배열\n",
        "arr = np.array([5, 10, 15, 20, 25,30])\n",
        "print(arr[[0, 2, 4]])"
      ],
      "metadata": {
        "colab": {
          "base_uri": "https://localhost:8080/"
        },
        "id": "wt2M4c2R3vtM",
        "outputId": "12d9d08b-5438-485c-dd9c-7926fbba25d7"
      },
      "execution_count": 30,
      "outputs": [
        {
          "output_type": "stream",
          "name": "stdout",
          "text": [
            "[ 5 15 25]\n"
          ]
        }
      ]
    },
    {
      "cell_type": "code",
      "source": [
        "# 2차원 배열\n",
        "arr = np.array([[5, 10, 15, 20],\n",
        "                [25, 30, 35, 40],\n",
        "                [45, 50, 55, 60]])\n",
        "print(arr[[0, 2], 2:])\n",
        "print(arr[1:, [2, 3]])"
      ],
      "metadata": {
        "colab": {
          "base_uri": "https://localhost:8080/"
        },
        "id": "mlxkJfrJ4ESf",
        "outputId": "c6681e5c-bf23-42b8-fac8-cbb585fd123d"
      },
      "execution_count": 31,
      "outputs": [
        {
          "output_type": "stream",
          "name": "stdout",
          "text": [
            "[[15 20]\n",
            " [55 60]]\n",
            "[[35 40]\n",
            " [55 60]]\n"
          ]
        }
      ]
    },
    {
      "cell_type": "markdown",
      "source": [
        "## 2-3. Boolean 인덱싱"
      ],
      "metadata": {
        "id": "obdQVxYn4rqv"
      }
    },
    {
      "cell_type": "code",
      "source": [
        "arr = np.array([1, 2, 3, 4])\n",
        "print(arr[[True, False, True, True]])\n",
        "\n",
        "arr = np.array([[1, 2, 3, 4],\n",
        "                [5, 6, 7, 8]])\n",
        "print(arr[[True, False], True])"
      ],
      "metadata": {
        "colab": {
          "base_uri": "https://localhost:8080/"
        },
        "id": "jl5phTuY4vuY",
        "outputId": "39d2fb91-f8a8-4d67-eb42-7ffa4bed4c77"
      },
      "execution_count": 32,
      "outputs": [
        {
          "output_type": "stream",
          "name": "stdout",
          "text": [
            "[1 3 4]\n",
            "[[1 2 3 4]]\n"
          ]
        }
      ]
    },
    {
      "cell_type": "code",
      "source": [
        "arr = np.array([[1, 2, 3, 4],\n",
        "                [5, 6, 7, 8]])\n",
        "print(arr[arr > 4])\n",
        "print(arr[arr <= 2])"
      ],
      "metadata": {
        "colab": {
          "base_uri": "https://localhost:8080/"
        },
        "id": "wc3KyPMv4b8y",
        "outputId": "c9d1da76-2aa2-4812-827a-6c0031ad9e49"
      },
      "execution_count": 33,
      "outputs": [
        {
          "output_type": "stream",
          "name": "stdout",
          "text": [
            "[5 6 7 8]\n",
            "[1 2]\n"
          ]
        }
      ]
    },
    {
      "cell_type": "markdown",
      "source": [
        "# **Section 3. N차원 배열 연산법**"
      ],
      "metadata": {
        "id": "gNUlWXYI5wHQ"
      }
    },
    {
      "cell_type": "markdown",
      "source": [
        "## 3-1. 배열의 연산1:사칙연산/제곱/제곱근/몫/나머지"
      ],
      "metadata": {
        "id": "RoVGvTtc58vv"
      }
    },
    {
      "cell_type": "code",
      "source": [
        "arr1 = np.array([[1, 2, 3],\n",
        "                 [4, 5, 6],\n",
        "                 [7, 8, 9]])\n",
        "arr2 = np.array([[2, 2, 2],\n",
        "                 [2, 2, 2],\n",
        "                 [2, 2, 2]])\n",
        "print(arr1)\n",
        "print(arr2)"
      ],
      "metadata": {
        "colab": {
          "base_uri": "https://localhost:8080/"
        },
        "id": "ORDQb4Pt6DN2",
        "outputId": "1ff0f43e-55c0-471a-924c-c63f1f2aad8c"
      },
      "execution_count": 34,
      "outputs": [
        {
          "output_type": "stream",
          "name": "stdout",
          "text": [
            "[[1 2 3]\n",
            " [4 5 6]\n",
            " [7 8 9]]\n",
            "[[2 2 2]\n",
            " [2 2 2]\n",
            " [2 2 2]]\n"
          ]
        }
      ]
    },
    {
      "cell_type": "code",
      "source": [
        "# 덧셈\n",
        "print(arr1 + arr2)\n",
        "print(np.add(arr1, arr2))"
      ],
      "metadata": {
        "colab": {
          "base_uri": "https://localhost:8080/"
        },
        "id": "QEPxqqbb6et7",
        "outputId": "6945972d-426c-45df-b34f-1d391be69ff7"
      },
      "execution_count": 35,
      "outputs": [
        {
          "output_type": "stream",
          "name": "stdout",
          "text": [
            "[[ 3  4  5]\n",
            " [ 6  7  8]\n",
            " [ 9 10 11]]\n",
            "[[ 3  4  5]\n",
            " [ 6  7  8]\n",
            " [ 9 10 11]]\n"
          ]
        }
      ]
    },
    {
      "cell_type": "code",
      "source": [
        "# 뺄셈\n",
        "print(arr1 - arr2)\n",
        "print(np.subtract(arr1, arr2))"
      ],
      "metadata": {
        "colab": {
          "base_uri": "https://localhost:8080/"
        },
        "id": "z0iJ0p1w6oCl",
        "outputId": "b75d4339-2150-47c2-e9a1-4d21bf70f039"
      },
      "execution_count": 36,
      "outputs": [
        {
          "output_type": "stream",
          "name": "stdout",
          "text": [
            "[[-1  0  1]\n",
            " [ 2  3  4]\n",
            " [ 5  6  7]]\n",
            "[[-1  0  1]\n",
            " [ 2  3  4]\n",
            " [ 5  6  7]]\n"
          ]
        }
      ]
    },
    {
      "cell_type": "code",
      "source": [
        "# 곱셈\n",
        "print(arr1 * arr2)\n",
        "print(np.multiply(arr1, arr2))"
      ],
      "metadata": {
        "colab": {
          "base_uri": "https://localhost:8080/"
        },
        "id": "4lw2Q4L76xGP",
        "outputId": "e51f139c-56f7-4ea7-8b02-4733df96d7c1"
      },
      "execution_count": 37,
      "outputs": [
        {
          "output_type": "stream",
          "name": "stdout",
          "text": [
            "[[ 2  4  6]\n",
            " [ 8 10 12]\n",
            " [14 16 18]]\n",
            "[[ 2  4  6]\n",
            " [ 8 10 12]\n",
            " [14 16 18]]\n"
          ]
        }
      ]
    },
    {
      "cell_type": "code",
      "source": [
        "# 나눗셈\n",
        "print(arr1 / arr2)\n",
        "print(np.divide(arr1, arr2))"
      ],
      "metadata": {
        "colab": {
          "base_uri": "https://localhost:8080/"
        },
        "id": "Yz5Ihr1f68gE",
        "outputId": "caf64c25-c8f0-41fa-f767-68baf1d08ec0"
      },
      "execution_count": 38,
      "outputs": [
        {
          "output_type": "stream",
          "name": "stdout",
          "text": [
            "[[0.5 1.  1.5]\n",
            " [2.  2.5 3. ]\n",
            " [3.5 4.  4.5]]\n",
            "[[0.5 1.  1.5]\n",
            " [2.  2.5 3. ]\n",
            " [3.5 4.  4.5]]\n"
          ]
        }
      ]
    },
    {
      "cell_type": "code",
      "source": [
        "# 제곱\n",
        "arr1 = np.array([[1, 2, 3],\n",
        "                 [4, 5, 6],\n",
        "                 [7, 8, 9]])\n",
        "arr2 = np.array([[2, 2, 2],\n",
        "                 [2, 2, 2],\n",
        "                 [2, 2, 2]])\n",
        "\n",
        "print(arr1 ** 5)\n",
        "print(np.square(arr1))\n",
        "\n",
        "# 제곱근\n",
        "print(np.sqrt(arr1))"
      ],
      "metadata": {
        "colab": {
          "base_uri": "https://localhost:8080/"
        },
        "id": "MXNE4KOe7FT-",
        "outputId": "bb906317-abd3-4e8b-918c-e9cd976d45dd"
      },
      "execution_count": 39,
      "outputs": [
        {
          "output_type": "stream",
          "name": "stdout",
          "text": [
            "[[    1    32   243]\n",
            " [ 1024  3125  7776]\n",
            " [16807 32768 59049]]\n",
            "[[ 1  4  9]\n",
            " [16 25 36]\n",
            " [49 64 81]]\n",
            "[[1.         1.41421356 1.73205081]\n",
            " [2.         2.23606798 2.44948974]\n",
            " [2.64575131 2.82842712 3.        ]]\n"
          ]
        }
      ]
    },
    {
      "cell_type": "code",
      "source": [
        "# 몫\n",
        "print(arr1 // 2)\n",
        "\n",
        "# 나머지\n",
        "print(arr1 % 2)"
      ],
      "metadata": {
        "colab": {
          "base_uri": "https://localhost:8080/"
        },
        "id": "FTwjWaEE7XqB",
        "outputId": "06611f5d-4b5e-4d3f-945f-605f50f40f96"
      },
      "execution_count": 40,
      "outputs": [
        {
          "output_type": "stream",
          "name": "stdout",
          "text": [
            "[[0 1 1]\n",
            " [2 2 3]\n",
            " [3 4 4]]\n",
            "[[1 0 1]\n",
            " [0 1 0]\n",
            " [1 0 1]]\n"
          ]
        }
      ]
    },
    {
      "cell_type": "markdown",
      "source": [
        "## 3-2. 배열의 연산2:내적(dot product)/절댓값/올림/내림/반올림/버림"
      ],
      "metadata": {
        "id": "oqUbIzTm7ofT"
      }
    },
    {
      "cell_type": "code",
      "source": [
        "# 1차원 행렬\n",
        "arr1 = np.array([2, 3, 4])\n",
        "arr2 = np.array([1, 2, 3])\n",
        "\n",
        "print(np.dot(arr1, arr2))\n"
      ],
      "metadata": {
        "colab": {
          "base_uri": "https://localhost:8080/"
        },
        "id": "YmzAZFtz70vF",
        "outputId": "aba8118e-abaa-48aa-e0a0-8661878a2a00"
      },
      "execution_count": 41,
      "outputs": [
        {
          "output_type": "stream",
          "name": "stdout",
          "text": [
            "20\n"
          ]
        }
      ]
    },
    {
      "cell_type": "code",
      "source": [
        "# 2차원 행렬\n",
        "'''\n",
        "[[a, b]   [[e, f]      [[ae + bg, af + bh]\n",
        " [c, d]]   [g, h]]  =>  [ce + dg, cf + dh]]\n",
        "'''\n",
        "\n",
        "arr1 = np.array([[1, 2],\n",
        "                 [4, 5]])\n",
        "arr2 = np.array([[1, 2],\n",
        "                 [0, 3]])\n",
        "print(np.dot(arr1, arr2))"
      ],
      "metadata": {
        "colab": {
          "base_uri": "https://localhost:8080/"
        },
        "id": "fwAYhCtL8Qse",
        "outputId": "c359da42-6a91-4f3a-a796-3980737fb2cc"
      },
      "execution_count": 42,
      "outputs": [
        {
          "output_type": "stream",
          "name": "stdout",
          "text": [
            "[[ 1  8]\n",
            " [ 4 23]]\n"
          ]
        }
      ]
    },
    {
      "cell_type": "code",
      "source": [
        "# 절댓값\n",
        "arr1 = np.array([[1, -2],\n",
        "                 [-4, 5]])\n",
        "print(np.abs(arr1))"
      ],
      "metadata": {
        "colab": {
          "base_uri": "https://localhost:8080/"
        },
        "id": "VoEDZyfF9bVo",
        "outputId": "be900f0c-a84d-41eb-f6dd-60948d244879"
      },
      "execution_count": 43,
      "outputs": [
        {
          "output_type": "stream",
          "name": "stdout",
          "text": [
            "[[1 2]\n",
            " [4 5]]\n"
          ]
        }
      ]
    },
    {
      "cell_type": "code",
      "source": [
        "# 올림\n",
        "arr1 = np.array([[1.932, -2.339],\n",
        "                 [-4.145, 5.206]])\n",
        "print(np.ceil(arr1))\n",
        "\n",
        "# 내림\n",
        "print(np.floor(arr1))\n",
        "\n",
        "# 반올림\n",
        "print(np.round(arr1))\n",
        "\n",
        "# 버림\n",
        "print(np.trunc(arr1))"
      ],
      "metadata": {
        "colab": {
          "base_uri": "https://localhost:8080/"
        },
        "id": "7hc_PQ_v9rEC",
        "outputId": "0d0a8cb8-faa6-4451-945f-62792b3183c7"
      },
      "execution_count": 44,
      "outputs": [
        {
          "output_type": "stream",
          "name": "stdout",
          "text": [
            "[[ 2. -2.]\n",
            " [-4.  6.]]\n",
            "[[ 1. -3.]\n",
            " [-5.  5.]]\n",
            "[[ 2. -2.]\n",
            " [-4.  5.]]\n",
            "[[ 1. -2.]\n",
            " [-4.  5.]]\n"
          ]
        }
      ]
    },
    {
      "cell_type": "markdown",
      "source": [
        "## 3-3. 배열의 연산3:min/max/sum/mean/std/cumsum/median"
      ],
      "metadata": {
        "id": "JRCU-XH9AGXj"
      }
    },
    {
      "cell_type": "code",
      "source": [
        "arr = np.array([[1, 2, 3],\n",
        "                [0, 1, 4]])"
      ],
      "metadata": {
        "id": "BEr179EJATWS"
      },
      "execution_count": 45,
      "outputs": []
    },
    {
      "cell_type": "code",
      "source": [
        "# min()\n",
        "print(np.min(arr))\n",
        "print(arr.min())\n",
        "print(arr.min(axis = 0))\n",
        "print(arr.min(axis = 1))"
      ],
      "metadata": {
        "colab": {
          "base_uri": "https://localhost:8080/"
        },
        "id": "ZavNk7VRAdON",
        "outputId": "643d9b2e-036e-4525-8451-9e1b95930bdd"
      },
      "execution_count": 46,
      "outputs": [
        {
          "output_type": "stream",
          "name": "stdout",
          "text": [
            "0\n",
            "0\n",
            "[0 1 3]\n",
            "[1 0]\n"
          ]
        }
      ]
    },
    {
      "cell_type": "code",
      "source": [
        "# max()\n",
        "print(np.max(arr))\n",
        "print(arr.max())\n",
        "print(arr.max(axis = 0))\n",
        "print(arr.max(axis = 1))"
      ],
      "metadata": {
        "colab": {
          "base_uri": "https://localhost:8080/"
        },
        "id": "cL2RcCgvAzpW",
        "outputId": "ef078524-d8c6-4889-9bc3-f1eedcf0e91f"
      },
      "execution_count": 47,
      "outputs": [
        {
          "output_type": "stream",
          "name": "stdout",
          "text": [
            "4\n",
            "4\n",
            "[1 2 4]\n",
            "[3 4]\n"
          ]
        }
      ]
    },
    {
      "cell_type": "code",
      "source": [
        "# sum()\n",
        "print(np.sum(arr))\n",
        "print(arr.sum(axis = 0))\n",
        "print(arr.sum(axis = 1))\n",
        "\n",
        "# mean()\n",
        "print(np.mean(arr))\n",
        "print(arr.mean(axis = 0))"
      ],
      "metadata": {
        "colab": {
          "base_uri": "https://localhost:8080/"
        },
        "id": "Q7xar1AFA59x",
        "outputId": "bcfe8ea3-c83a-47e1-fea1-485997c1941a"
      },
      "execution_count": 48,
      "outputs": [
        {
          "output_type": "stream",
          "name": "stdout",
          "text": [
            "11\n",
            "[1 3 7]\n",
            "[6 5]\n",
            "1.8333333333333333\n",
            "[0.5 1.5 3.5]\n"
          ]
        }
      ]
    },
    {
      "cell_type": "code",
      "source": [
        "# std()\n",
        "print(np.std(arr))\n",
        "print(arr.std(axis = 1))\n",
        "\n",
        "# cumsum()\n",
        "print(np.cumsum(arr))\n",
        "print(arr.cumsum())\n",
        "print(arr.cumsum(axis = 0))"
      ],
      "metadata": {
        "colab": {
          "base_uri": "https://localhost:8080/"
        },
        "id": "Wy_93q1hBJbm",
        "outputId": "410a1483-3cfd-46ce-9e38-a53a70694402"
      },
      "execution_count": 49,
      "outputs": [
        {
          "output_type": "stream",
          "name": "stdout",
          "text": [
            "1.343709624716425\n",
            "[0.81649658 1.69967317]\n",
            "[ 1  3  6  6  7 11]\n",
            "[ 1  3  6  6  7 11]\n",
            "[[1 2 3]\n",
            " [1 3 7]]\n"
          ]
        }
      ]
    },
    {
      "cell_type": "code",
      "source": [
        "arr = np.array([[1, 2, 3],\n",
        "                [0, 1, 4],\n",
        "                [1, 5, 2]])"
      ],
      "metadata": {
        "id": "WAVJs6c4CdNy"
      },
      "execution_count": 50,
      "outputs": []
    },
    {
      "cell_type": "code",
      "source": [
        "# median()\n",
        "print(np.median(arr))\n",
        "print(np.median(arr, axis = 1))\n"
      ],
      "metadata": {
        "colab": {
          "base_uri": "https://localhost:8080/"
        },
        "id": "UkLdY--XB8tW",
        "outputId": "d6e3de60-2162-4ccd-abc0-b8fa8811fce5"
      },
      "execution_count": 51,
      "outputs": [
        {
          "output_type": "stream",
          "name": "stdout",
          "text": [
            "2.0\n",
            "[2. 1. 2.]\n"
          ]
        }
      ]
    },
    {
      "cell_type": "markdown",
      "source": [
        "## 3-4. 배열의 연산4:비교 연산/삼각 함수"
      ],
      "metadata": {
        "id": "A2fvPItkCr8Y"
      }
    },
    {
      "cell_type": "code",
      "source": [
        "# 비교 연산\n",
        "arr1 = np.array([[1, 2, 3],\n",
        "                 [4, 5, 6]])\n",
        "arr2 = np.array([[1, 0, 3],\n",
        "                 [4, -2, 9]])\n",
        "print(arr1 == arr2)\n",
        "print(arr1 >= arr2)\n",
        "print(np.array_equal(arr1, arr2))"
      ],
      "metadata": {
        "colab": {
          "base_uri": "https://localhost:8080/"
        },
        "id": "kK8UR77AC0RO",
        "outputId": "8f964c02-8e17-45aa-c9c0-c828172c7aa4"
      },
      "execution_count": 52,
      "outputs": [
        {
          "output_type": "stream",
          "name": "stdout",
          "text": [
            "[[ True False  True]\n",
            " [ True False False]]\n",
            "[[ True  True  True]\n",
            " [ True  True False]]\n",
            "False\n"
          ]
        }
      ]
    },
    {
      "cell_type": "code",
      "source": [
        "# 삼각 함수\n",
        "arr = np.array([[1, 2, 3],\n",
        "                [4, 5, 6]])\n",
        "\n",
        "# sin()\n",
        "print(np.sin(arr))\n",
        "# cos()\n",
        "print(np.cos(arr))\n",
        "# tan()\n",
        "print(np.tan(arr))\n",
        "# pi\n",
        "print(np.pi)"
      ],
      "metadata": {
        "colab": {
          "base_uri": "https://localhost:8080/"
        },
        "id": "E5aMEpgfDRVv",
        "outputId": "815fd400-0296-4bdb-ca00-fe1225ec8d02"
      },
      "execution_count": 53,
      "outputs": [
        {
          "output_type": "stream",
          "name": "stdout",
          "text": [
            "[[ 0.84147098  0.90929743  0.14112001]\n",
            " [-0.7568025  -0.95892427 -0.2794155 ]]\n",
            "[[ 0.54030231 -0.41614684 -0.9899925 ]\n",
            " [-0.65364362  0.28366219  0.96017029]]\n",
            "[[ 1.55740772 -2.18503986 -0.14254654]\n",
            " [ 1.15782128 -3.38051501 -0.29100619]]\n",
            "3.141592653589793\n"
          ]
        }
      ]
    },
    {
      "cell_type": "markdown",
      "source": [
        "## 3-5. 브로드캐스팅(Broadcasting)"
      ],
      "metadata": {
        "id": "4uTdowwlDuST"
      }
    },
    {
      "cell_type": "code",
      "source": [
        "arr1 = np.array([[0, 0, 0],\n",
        "                 [1, 1, 1],\n",
        "                 [2, 2, 2]])\n",
        "arr2 = np.array([[5, 6, 7]])\n",
        "\n",
        "print(arr1 + arr2)\n",
        "\n",
        "arr1 = np.array([1, 1, 1])\n",
        "arr2 = np.array([[0],\n",
        "                 [1],\n",
        "                 [2]])\n",
        "\n",
        "print(arr1 + arr2)"
      ],
      "metadata": {
        "colab": {
          "base_uri": "https://localhost:8080/"
        },
        "id": "pRPaAGsiD1T1",
        "outputId": "6c3d92f1-b994-45de-c7b0-3d37072e85a3"
      },
      "execution_count": 54,
      "outputs": [
        {
          "output_type": "stream",
          "name": "stdout",
          "text": [
            "[[5 6 7]\n",
            " [6 7 8]\n",
            " [7 8 9]]\n",
            "[[1 1 1]\n",
            " [2 2 2]\n",
            " [3 3 3]]\n"
          ]
        }
      ]
    },
    {
      "cell_type": "markdown",
      "source": [
        "## 3-6. 백터 연산의 장점"
      ],
      "metadata": {
        "id": "kGOy2ZZrEvAh"
      }
    },
    {
      "cell_type": "code",
      "source": [
        "import time"
      ],
      "metadata": {
        "id": "3mZXFwg8E0Lm"
      },
      "execution_count": 55,
      "outputs": []
    },
    {
      "cell_type": "code",
      "source": [
        "arr = np.arange(99999999)"
      ],
      "metadata": {
        "id": "WHmDYERSE30G"
      },
      "execution_count": 56,
      "outputs": []
    },
    {
      "cell_type": "code",
      "source": [
        "# for\n",
        "sum = 0;\n",
        "before = time.time()\n",
        "for i in arr:\n",
        "  sum += i\n",
        "after = time.time()\n",
        "print(sum, after - before, '')"
      ],
      "metadata": {
        "colab": {
          "base_uri": "https://localhost:8080/"
        },
        "id": "PXqZgy84FGks",
        "outputId": "4d6b00ce-35af-4005-b8a4-74bac769235d"
      },
      "execution_count": 57,
      "outputs": [
        {
          "output_type": "stream",
          "name": "stdout",
          "text": [
            "4999999850000001 28.225353717803955 \n"
          ]
        }
      ]
    },
    {
      "cell_type": "code",
      "source": [
        "# 벡터 연산\n",
        "before = time.time()\n",
        "sum = np.sum(arr)\n",
        "after = time.time()\n",
        "print(sum, after - before, '초')"
      ],
      "metadata": {
        "colab": {
          "base_uri": "https://localhost:8080/"
        },
        "id": "8jTOWAH0GQcI",
        "outputId": "061be409-cf9b-473d-aeaf-c78255ddf112"
      },
      "execution_count": 58,
      "outputs": [
        {
          "output_type": "stream",
          "name": "stdout",
          "text": [
            "4999999850000001 0.09358572959899902 초\n"
          ]
        }
      ]
    },
    {
      "cell_type": "code",
      "source": [
        "arr1 = np.arange(99999999)\n",
        "arr2 = np.arange(99999999)"
      ],
      "metadata": {
        "id": "UNEQhVZmGqEG"
      },
      "execution_count": 59,
      "outputs": []
    },
    {
      "cell_type": "code",
      "source": [
        "# for\n",
        "sum = 0\n",
        "before = time.time()\n",
        "for i, j in zip(arr1, arr2):\n",
        "  sum += i * j\n",
        "after = time.time()\n",
        "print(sum, after - before, '초')"
      ],
      "metadata": {
        "colab": {
          "base_uri": "https://localhost:8080/"
        },
        "id": "iLomEIBoGvUq",
        "outputId": "85a05170-74a1-4782-e8e9-788322d624f2"
      },
      "execution_count": 60,
      "outputs": [
        {
          "output_type": "stream",
          "name": "stderr",
          "text": [
            "<ipython-input-60-d20e5a77b8d6>:5: RuntimeWarning: overflow encountered in long_scalars\n",
            "  sum += i * j\n"
          ]
        },
        {
          "output_type": "stream",
          "name": "stdout",
          "text": [
            "652921401952298879 34.38548803329468 초\n"
          ]
        }
      ]
    },
    {
      "cell_type": "code",
      "source": [
        "# 벡터 연산\n",
        "before = time.time()\n",
        "sum = np.dot(arr1, arr2)\n",
        "after = time.time()\n",
        "print(sum, after - before, '초')"
      ],
      "metadata": {
        "colab": {
          "base_uri": "https://localhost:8080/"
        },
        "id": "uKOYg3rSHTKr",
        "outputId": "8eeb8d97-b7d4-4699-c5a3-81e7507efa50"
      },
      "execution_count": 61,
      "outputs": [
        {
          "output_type": "stream",
          "name": "stdout",
          "text": [
            "652921401952298879 0.15730524063110352 초\n"
          ]
        }
      ]
    },
    {
      "cell_type": "markdown",
      "source": [
        "# **Section 4. N차원 배열 정렬**"
      ],
      "metadata": {
        "id": "HI9b9Zrap-yq"
      }
    },
    {
      "cell_type": "markdown",
      "source": [
        "## 4-1. 1차원 배열의 정렬"
      ],
      "metadata": {
        "id": "tlu4yjOSqGMw"
      }
    },
    {
      "cell_type": "code",
      "source": [
        "arr = np.random.randint(10, size = 10)\n",
        "print(arr)"
      ],
      "metadata": {
        "id": "GyOpgcbsqFJM",
        "colab": {
          "base_uri": "https://localhost:8080/"
        },
        "outputId": "e074568d-c17c-4b19-9995-0ecc02676e79"
      },
      "execution_count": 62,
      "outputs": [
        {
          "output_type": "stream",
          "name": "stdout",
          "text": [
            "[4 3 0 4 6 8 1 8 4 1]\n"
          ]
        }
      ]
    },
    {
      "cell_type": "code",
      "source": [
        "print(np.sort(arr))\n",
        "print(np.sort(arr)[::-1])"
      ],
      "metadata": {
        "colab": {
          "base_uri": "https://localhost:8080/"
        },
        "id": "fC3OHALv1SLQ",
        "outputId": "d6b4f4b6-2dd5-446c-c6be-65ee719f6bdb"
      },
      "execution_count": 63,
      "outputs": [
        {
          "output_type": "stream",
          "name": "stdout",
          "text": [
            "[0 1 1 3 4 4 4 6 8 8]\n",
            "[8 8 6 4 4 4 3 1 1 0]\n"
          ]
        }
      ]
    },
    {
      "cell_type": "code",
      "source": [
        "print(arr)\n",
        "arr = np.sort(arr)\n",
        "print(arr)\n",
        "arr.sort()\n",
        "print(arr)"
      ],
      "metadata": {
        "colab": {
          "base_uri": "https://localhost:8080/"
        },
        "id": "_6lzijaE1WRw",
        "outputId": "49750380-7960-4d08-a5ba-7ed9e314c0e0"
      },
      "execution_count": 64,
      "outputs": [
        {
          "output_type": "stream",
          "name": "stdout",
          "text": [
            "[4 3 0 4 6 8 1 8 4 1]\n",
            "[0 1 1 3 4 4 4 6 8 8]\n",
            "[0 1 1 3 4 4 4 6 8 8]\n"
          ]
        }
      ]
    },
    {
      "cell_type": "markdown",
      "source": [
        "## 4-2. 2차원 배열의 정렬"
      ],
      "metadata": {
        "id": "_78HyWGj1tWz"
      }
    },
    {
      "cell_type": "code",
      "source": [
        "arr = np.random.randint(15, size = (3,4))\n",
        "print(arr)"
      ],
      "metadata": {
        "colab": {
          "base_uri": "https://localhost:8080/"
        },
        "id": "zhZW6mju1oQ6",
        "outputId": "c80ed1d2-3c70-444f-e43c-0712a024f227"
      },
      "execution_count": 65,
      "outputs": [
        {
          "output_type": "stream",
          "name": "stdout",
          "text": [
            "[[ 3  6 13  5]\n",
            " [13  3  9 14]\n",
            " [13 12  6 14]]\n"
          ]
        }
      ]
    },
    {
      "cell_type": "code",
      "source": [
        "print(np.sort(arr, axis = 0))\n",
        "print(np.sort(arr, axis = 1))\n",
        "print(np.sort(arr))\n",
        "print(np.sort(arr, axis = None))"
      ],
      "metadata": {
        "colab": {
          "base_uri": "https://localhost:8080/"
        },
        "id": "heNaBJi418hl",
        "outputId": "0baac934-d63d-47f0-eda9-1c9d4f27df3e"
      },
      "execution_count": 66,
      "outputs": [
        {
          "output_type": "stream",
          "name": "stdout",
          "text": [
            "[[ 3  3  6  5]\n",
            " [13  6  9 14]\n",
            " [13 12 13 14]]\n",
            "[[ 3  5  6 13]\n",
            " [ 3  9 13 14]\n",
            " [ 6 12 13 14]]\n",
            "[[ 3  5  6 13]\n",
            " [ 3  9 13 14]\n",
            " [ 6 12 13 14]]\n",
            "[ 3  3  5  6  6  9 12 13 13 13 14 14]\n"
          ]
        }
      ]
    },
    {
      "cell_type": "code",
      "source": [
        "# argsort() -> 정렬 전에 인덱스를 반환\n",
        "print(np.sort(arr, axis = 0))\n",
        "print(np.argsort(arr, axis = 0))"
      ],
      "metadata": {
        "colab": {
          "base_uri": "https://localhost:8080/"
        },
        "id": "O_mBUulO2FVT",
        "outputId": "a5aa5c9e-5f47-4960-a99a-bbd9bf9eaae0"
      },
      "execution_count": 67,
      "outputs": [
        {
          "output_type": "stream",
          "name": "stdout",
          "text": [
            "[[ 3  3  6  5]\n",
            " [13  6  9 14]\n",
            " [13 12 13 14]]\n",
            "[[0 1 2 0]\n",
            " [1 0 1 1]\n",
            " [2 2 0 2]]\n"
          ]
        }
      ]
    },
    {
      "cell_type": "markdown",
      "source": [
        "# **Section 5. N차원 배열의 형태 변경**"
      ],
      "metadata": {
        "id": "RxcFfGwI2xz0"
      }
    },
    {
      "cell_type": "markdown",
      "source": [
        "## 5-1. 배열의 형태 변경1:reshape()"
      ],
      "metadata": {
        "id": "jgV3ljlE25k1"
      }
    },
    {
      "cell_type": "code",
      "source": [
        "arr = np.arange(12)\n",
        "print(arr, arr.ndim)\n",
        "\n",
        "arr = arr.reshape(3,4)\n",
        "print(arr, arr.ndim)\n",
        "\n",
        "arr = arr.reshape(2,3,2)\n",
        "print(arr, arr.ndim)\n",
        "\n",
        "arr = arr.reshape(2,2,1,3)\n",
        "print(arr, arr.ndim)"
      ],
      "metadata": {
        "colab": {
          "base_uri": "https://localhost:8080/"
        },
        "id": "rVwhmUy82ewZ",
        "outputId": "8f1aa0ee-c919-45db-8f60-e67110fa0291"
      },
      "execution_count": 80,
      "outputs": [
        {
          "output_type": "stream",
          "name": "stdout",
          "text": [
            "[ 0  1  2  3  4  5  6  7  8  9 10 11] 1\n",
            "[[ 0  1  2  3]\n",
            " [ 4  5  6  7]\n",
            " [ 8  9 10 11]] 2\n",
            "[[[ 0  1]\n",
            "  [ 2  3]\n",
            "  [ 4  5]]\n",
            "\n",
            " [[ 6  7]\n",
            "  [ 8  9]\n",
            "  [10 11]]] 3\n",
            "[[[[ 0  1  2]]\n",
            "\n",
            "  [[ 3  4  5]]]\n",
            "\n",
            "\n",
            " [[[ 6  7  8]]\n",
            "\n",
            "  [[ 9 10 11]]]] 4\n"
          ]
        }
      ]
    },
    {
      "cell_type": "markdown",
      "source": [
        "## 5-2. 배열의 형태 변경2:resize(),ravel()"
      ],
      "metadata": {
        "id": "IXnSKN2V4Mts"
      }
    },
    {
      "cell_type": "code",
      "source": [
        "arr = np.arange(12)\n",
        "print(arr)"
      ],
      "metadata": {
        "colab": {
          "base_uri": "https://localhost:8080/"
        },
        "id": "BQep8b9G3EDp",
        "outputId": "deafafd5-6288-4469-b34a-96e957737997"
      },
      "execution_count": 81,
      "outputs": [
        {
          "output_type": "stream",
          "name": "stdout",
          "text": [
            "[ 0  1  2  3  4  5  6  7  8  9 10 11]\n"
          ]
        }
      ]
    },
    {
      "cell_type": "code",
      "source": [
        "arr.resize(3,4)\n",
        "print(arr)\n",
        "\n",
        "arr = arr.ravel()\n",
        "print(arr)"
      ],
      "metadata": {
        "colab": {
          "base_uri": "https://localhost:8080/"
        },
        "id": "tZkq7Zlm4b6S",
        "outputId": "d24e08d1-8288-4f2d-bace-2263aa4d652e"
      },
      "execution_count": 82,
      "outputs": [
        {
          "output_type": "stream",
          "name": "stdout",
          "text": [
            "[[ 0  1  2  3]\n",
            " [ 4  5  6  7]\n",
            " [ 8  9 10 11]]\n",
            "[ 0  1  2  3  4  5  6  7  8  9 10 11]\n"
          ]
        }
      ]
    },
    {
      "cell_type": "code",
      "source": [
        "arr = np.arange(1, 13)\n",
        "print(arr)\n",
        "\n",
        "arr = arr.reshape(3, -1)\n",
        "print(arr)\n",
        "\n",
        "arr = arr.reshape(3, 2, -1)\n",
        "print(arr)"
      ],
      "metadata": {
        "colab": {
          "base_uri": "https://localhost:8080/"
        },
        "id": "nfdRdvH64e5n",
        "outputId": "09aca777-3f16-48a9-93b1-3872058a9c79"
      },
      "execution_count": 83,
      "outputs": [
        {
          "output_type": "stream",
          "name": "stdout",
          "text": [
            "[ 1  2  3  4  5  6  7  8  9 10 11 12]\n",
            "[[ 1  2  3  4]\n",
            " [ 5  6  7  8]\n",
            " [ 9 10 11 12]]\n",
            "[[[ 1  2]\n",
            "  [ 3  4]]\n",
            "\n",
            " [[ 5  6]\n",
            "  [ 7  8]]\n",
            "\n",
            " [[ 9 10]\n",
            "  [11 12]]]\n"
          ]
        }
      ]
    },
    {
      "cell_type": "markdown",
      "source": [
        "## 5-3. 배열의 형태 변경3:expand_dims(),squeeze()"
      ],
      "metadata": {
        "id": "FYMeJqlW494I"
      }
    },
    {
      "cell_type": "code",
      "source": [
        "# expand_dims()\n",
        "arr = np.array([1, 2])\n",
        "print(arr, arr.shape)\n",
        "arr = np.expand_dims(arr, axis=1)\n",
        "print(arr, arr.shape)"
      ],
      "metadata": {
        "colab": {
          "base_uri": "https://localhost:8080/"
        },
        "id": "C8hbC48C4wpI",
        "outputId": "7058a9b0-6300-4f44-85a2-267e6e94c03b"
      },
      "execution_count": 84,
      "outputs": [
        {
          "output_type": "stream",
          "name": "stdout",
          "text": [
            "[1 2] (2,)\n",
            "[[1]\n",
            " [2]] (2, 1)\n"
          ]
        }
      ]
    },
    {
      "cell_type": "code",
      "source": [
        "# squeeze()\n",
        "arr = np.array([[1, 2]])\n",
        "print(arr, arr.shape, arr.ndim)\n",
        "arr = np.squeeze(arr, axis = 0)\n",
        "print(arr, arr.shape, arr.ndim)"
      ],
      "metadata": {
        "colab": {
          "base_uri": "https://localhost:8080/"
        },
        "id": "sfWAcrzb5TA-",
        "outputId": "d0187758-cf85-409c-d0e5-b2c66c7df5f6"
      },
      "execution_count": 85,
      "outputs": [
        {
          "output_type": "stream",
          "name": "stdout",
          "text": [
            "[[1 2]] (1, 2) 2\n",
            "[1 2] (2,) 1\n"
          ]
        }
      ]
    },
    {
      "cell_type": "code",
      "source": [
        "arr = np.array([[[1],\n",
        "                 [2],\n",
        "                 [3]]])\n",
        "print(arr, arr.shape, arr.ndim)\n",
        "arr = np.squeeze(arr, axis = 0)\n",
        "print(arr, arr.shape, arr.ndim)"
      ],
      "metadata": {
        "colab": {
          "base_uri": "https://localhost:8080/"
        },
        "id": "-HRDjPM353K4",
        "outputId": "6e40c747-59fc-43c9-bb36-cde6a839931c"
      },
      "execution_count": 86,
      "outputs": [
        {
          "output_type": "stream",
          "name": "stdout",
          "text": [
            "[[[1]\n",
            "  [2]\n",
            "  [3]]] (1, 3, 1) 3\n",
            "[[1]\n",
            " [2]\n",
            " [3]] (3, 1) 2\n"
          ]
        }
      ]
    },
    {
      "cell_type": "code",
      "source": [
        "arr = np.array([[[1, 2, 3]]])\n",
        "print(arr, arr.shape, arr.ndim)\n",
        "arr = np.squeeze(arr, axis = 1)\n",
        "print(arr, arr.shape, arr.ndim)"
      ],
      "metadata": {
        "colab": {
          "base_uri": "https://localhost:8080/"
        },
        "id": "P6LSVDUk6onI",
        "outputId": "28d58a22-7e93-4ebf-98c6-095edbd4d29c"
      },
      "execution_count": 87,
      "outputs": [
        {
          "output_type": "stream",
          "name": "stdout",
          "text": [
            "[[[1 2 3]]] (1, 1, 3) 3\n",
            "[[1 2 3]] (1, 3) 2\n"
          ]
        }
      ]
    },
    {
      "cell_type": "markdown",
      "source": [
        "## 5-4. 전치행렬(Transpose)"
      ],
      "metadata": {
        "id": "3DY3NQ9w6_MS"
      }
    },
    {
      "cell_type": "code",
      "source": [
        "arr = np.array([[1, 2],\n",
        "                [3, 4]])\n",
        "print(arr.T)\n",
        "print(np.transpose(arr))"
      ],
      "metadata": {
        "colab": {
          "base_uri": "https://localhost:8080/"
        },
        "id": "8InJg8yt6yrl",
        "outputId": "d03f0d5d-6da7-453b-e0cc-93db3edadc10"
      },
      "execution_count": 88,
      "outputs": [
        {
          "output_type": "stream",
          "name": "stdout",
          "text": [
            "[[1 3]\n",
            " [2 4]]\n",
            "[[1 3]\n",
            " [2 4]]\n"
          ]
        }
      ]
    },
    {
      "cell_type": "code",
      "source": [
        "arr = np.array([[1, 2, 3],\n",
        "                [4, 5, 6],\n",
        "                [7, 8, 9]])\n",
        "print(arr.T)"
      ],
      "metadata": {
        "colab": {
          "base_uri": "https://localhost:8080/"
        },
        "id": "GnoLOyAA7c8S",
        "outputId": "7c986505-ce0f-4405-909e-4e000533ae97"
      },
      "execution_count": 89,
      "outputs": [
        {
          "output_type": "stream",
          "name": "stdout",
          "text": [
            "[[1 4 7]\n",
            " [2 5 8]\n",
            " [3 6 9]]\n"
          ]
        }
      ]
    },
    {
      "cell_type": "code",
      "source": [
        "arr = np.array([[1, 2],\n",
        "                [3, 4],\n",
        "                [5, 6]])\n",
        "print(arr.T)"
      ],
      "metadata": {
        "colab": {
          "base_uri": "https://localhost:8080/"
        },
        "id": "VCnSs7Y17wFh",
        "outputId": "b9563ae9-7650-4648-d416-eb239f32f359"
      },
      "execution_count": 90,
      "outputs": [
        {
          "output_type": "stream",
          "name": "stdout",
          "text": [
            "[[1 3 5]\n",
            " [2 4 6]]\n"
          ]
        }
      ]
    },
    {
      "cell_type": "code",
      "source": [
        "arr2 = np.full((3, 2), 2)\n",
        "print(arr.T.dot(arr2))"
      ],
      "metadata": {
        "colab": {
          "base_uri": "https://localhost:8080/"
        },
        "id": "WaS5WS_n7_Bn",
        "outputId": "5d49c616-927f-41ac-ac75-6499328027fb"
      },
      "execution_count": 91,
      "outputs": [
        {
          "output_type": "stream",
          "name": "stdout",
          "text": [
            "[[18 18]\n",
            " [24 24]]\n"
          ]
        }
      ]
    },
    {
      "cell_type": "markdown",
      "source": [
        "# **Section 6. N차원 배열의 병합**"
      ],
      "metadata": {
        "id": "NGiBzVXBxPoZ"
      }
    },
    {
      "cell_type": "markdown",
      "source": [
        "## 6-1. 배열에 원소 추가 및 삭제"
      ],
      "metadata": {
        "id": "-mFc4TQ6xY22"
      }
    },
    {
      "cell_type": "code",
      "source": [
        "# python list\n",
        "arr = [1, 2, 3, 4, 5, 6, 7, 8]\n",
        "arr.insert(2, 50)\n",
        "print(arr)\n",
        "\n",
        "# 1차원 배열\n",
        "arr = np.arange(1, 9)\n",
        "arr = np.insert(arr, 2, 50)\n",
        "print(arr)"
      ],
      "metadata": {
        "colab": {
          "base_uri": "https://localhost:8080/"
        },
        "id": "4AvrgGGTxlqG",
        "outputId": "f0415dbd-701c-42c7-9cc4-bd949dd2ec6b"
      },
      "execution_count": 92,
      "outputs": [
        {
          "output_type": "stream",
          "name": "stdout",
          "text": [
            "[1, 2, 50, 3, 4, 5, 6, 7, 8]\n",
            "[ 1  2 50  3  4  5  6  7  8]\n"
          ]
        }
      ]
    },
    {
      "cell_type": "code",
      "source": [
        "# 2차원 배열\n",
        "# axis 값 입력시 해당 axis를 기준으로 삽입\n",
        "# axis 값이 없을 경우 1차원 배열로 변경 후 삽입\n",
        "arr = np.arange(1, 13).reshape(3, 4)\n",
        "arr = np.insert(arr, 2, 50)\n",
        "print(arr)"
      ],
      "metadata": {
        "colab": {
          "base_uri": "https://localhost:8080/"
        },
        "id": "gYGG2KnbyW__",
        "outputId": "6e4e8d22-641b-4745-e2a4-3bdc421b4ddc"
      },
      "execution_count": 95,
      "outputs": [
        {
          "output_type": "stream",
          "name": "stdout",
          "text": [
            "[ 1  2 50  3  4  5  6  7  8  9 10 11 12]\n"
          ]
        }
      ]
    },
    {
      "cell_type": "code",
      "source": [
        "# delete()\n",
        "# axis 값 입력시 해당 axis를 기준으로 삽입\n",
        "# axis 값이 없을 경우 1차원 배열로 변경 후 삽입\n",
        "arr = np.arange(1, 13).reshape(3, 4)\n",
        "print(arr)\n",
        "\n",
        "arr = np.delete(arr, 2, axis = 0)\n",
        "print(arr)"
      ],
      "metadata": {
        "colab": {
          "base_uri": "https://localhost:8080/"
        },
        "id": "EQm1PAvGytBz",
        "outputId": "49ce616e-e141-4260-c816-c94b700ecf8f"
      },
      "execution_count": 97,
      "outputs": [
        {
          "output_type": "stream",
          "name": "stdout",
          "text": [
            "[[ 1  2  3  4]\n",
            " [ 5  6  7  8]\n",
            " [ 9 10 11 12]]\n",
            "[[1 2 3 4]\n",
            " [5 6 7 8]]\n"
          ]
        }
      ]
    },
    {
      "cell_type": "markdown",
      "source": [
        "## 6-2. 배열 간의 병합"
      ],
      "metadata": {
        "id": "5_wzPmW2zeTQ"
      }
    },
    {
      "cell_type": "code",
      "source": [
        "# append()\n",
        "# axis 값 입력시 해당 axis를 기준으로 병합\n",
        "# axis 값이 없을 경우 1차원 배열로 변경 후 병합\n",
        "arr1 = np.arange(1, 13).reshape(3, 4)\n",
        "arr2 = np.arange(13, 25).reshape(3, 4)\n",
        "\n",
        "print(arr1)\n",
        "print(arr2, end = '\\n\\n')\n",
        "\n",
        "# axis = 0\n",
        "arr3 = np.append(arr1, arr2, axis = 0)\n",
        "print(arr3, end = '\\n')"
      ],
      "metadata": {
        "colab": {
          "base_uri": "https://localhost:8080/"
        },
        "id": "SnE5ktdUzWRn",
        "outputId": "4b169d29-a818-47c6-cbef-74d1cc008fd8"
      },
      "execution_count": 99,
      "outputs": [
        {
          "output_type": "stream",
          "name": "stdout",
          "text": [
            "[[ 1  2  3  4]\n",
            " [ 5  6  7  8]\n",
            " [ 9 10 11 12]]\n",
            "[[13 14 15 16]\n",
            " [17 18 19 20]\n",
            " [21 22 23 24]]\n",
            "\n",
            "[[ 1  2  3  4]\n",
            " [ 5  6  7  8]\n",
            " [ 9 10 11 12]\n",
            " [13 14 15 16]\n",
            " [17 18 19 20]\n",
            " [21 22 23 24]]\n"
          ]
        }
      ]
    },
    {
      "cell_type": "code",
      "source": [
        "# vstack() -> axis = 0, hstack() -> axis = 1\n",
        "arr1 = np.arange(1, 7).reshape(2, 3)\n",
        "arr2 = np.arange(7, 13).reshape(2, 3)\n",
        "\n",
        "arr3 = np.vstack((arr1, arr2))\n",
        "print(arr3)\n",
        "\n",
        "arr3 = np.hstack((arr1, arr2))\n",
        "print(arr3)"
      ],
      "metadata": {
        "colab": {
          "base_uri": "https://localhost:8080/"
        },
        "id": "dAIWFbtJ0Kr9",
        "outputId": "df1852bf-c9f5-41ca-ad44-ea5bc0097122"
      },
      "execution_count": 103,
      "outputs": [
        {
          "output_type": "stream",
          "name": "stdout",
          "text": [
            "[[ 1  2  3]\n",
            " [ 4  5  6]\n",
            " [ 7  8  9]\n",
            " [10 11 12]]\n",
            "[[ 1  2  3  7  8  9]\n",
            " [ 4  5  6 10 11 12]]\n"
          ]
        }
      ]
    },
    {
      "cell_type": "code",
      "source": [
        "# concatenate()\n",
        "# axis 값 입력시 해당 axis를 기준으로 병합\n",
        "# axis 값이 없을 경우 1차원 배열로 변경 후 병합\n",
        "arr1 = np.arange(1, 7).reshape(2, 3)\n",
        "arr2 = np.arange(7, 13).reshape(2, 3)\n",
        "\n",
        "arr3 = np.concatenate([arr1, arr2], axis = 0)\n",
        "print(arr3)"
      ],
      "metadata": {
        "colab": {
          "base_uri": "https://localhost:8080/"
        },
        "id": "JGBPTj8H070K",
        "outputId": "7e09df48-4ec5-4124-9f3b-534bcc086681"
      },
      "execution_count": 106,
      "outputs": [
        {
          "output_type": "stream",
          "name": "stdout",
          "text": [
            "[[ 1  2  3]\n",
            " [ 4  5  6]\n",
            " [ 7  8  9]\n",
            " [10 11 12]]\n"
          ]
        }
      ]
    },
    {
      "cell_type": "markdown",
      "source": [
        "## 6-3. 배열 분할"
      ],
      "metadata": {
        "id": "FmmMI6gW1c3s"
      }
    },
    {
      "cell_type": "code",
      "source": [
        "# 2차원 배열\n",
        "arr = np.arange(1, 13).reshape(3, 4)\n",
        "print(arr)\n",
        "\n",
        "# vsplit() => axis = 0\n",
        "arr_vsplit = np.vsplit(arr, 3)\n",
        "print(arr_vsplit)\n",
        "\n",
        "# hsplit() => axis = 1\n",
        "arr_hsplit = np.hsplit(arr, 2)\n",
        "print(arr_hsplit)"
      ],
      "metadata": {
        "colab": {
          "base_uri": "https://localhost:8080/"
        },
        "id": "8a7WHp9B1iDd",
        "outputId": "721f97ea-2000-4a90-a345-752e650759b0"
      },
      "execution_count": 109,
      "outputs": [
        {
          "output_type": "stream",
          "name": "stdout",
          "text": [
            "[[ 1  2  3  4]\n",
            " [ 5  6  7  8]\n",
            " [ 9 10 11 12]]\n",
            "[array([[1, 2, 3, 4]]), array([[5, 6, 7, 8]]), array([[ 9, 10, 11, 12]])]\n",
            "[array([[ 1,  2],\n",
            "       [ 5,  6],\n",
            "       [ 9, 10]]), array([[ 3,  4],\n",
            "       [ 7,  8],\n",
            "       [11, 12]])]\n"
          ]
        }
      ]
    },
    {
      "cell_type": "code",
      "source": [
        "# 3차원 병합\n",
        "arr = np.random.randint(0, 10, (4, 6, 8))\n",
        "print(arr)"
      ],
      "metadata": {
        "colab": {
          "base_uri": "https://localhost:8080/"
        },
        "id": "AJztUD6-2ZaD",
        "outputId": "2a5d70d3-a61c-45a4-b700-db3acf35cc2b"
      },
      "execution_count": 110,
      "outputs": [
        {
          "output_type": "stream",
          "name": "stdout",
          "text": [
            "[[[9 1 9 4 2 6 7 8]\n",
            "  [8 9 2 0 6 7 8 1]\n",
            "  [7 1 4 0 8 5 4 7]\n",
            "  [8 8 2 6 2 8 8 6]\n",
            "  [6 5 6 0 0 6 9 1]\n",
            "  [8 9 1 2 8 9 9 5]]\n",
            "\n",
            " [[0 2 7 3 0 4 2 0]\n",
            "  [3 3 1 2 5 9 0 1]\n",
            "  [0 1 9 0 9 2 1 1]\n",
            "  [0 0 5 9 0 4 6 6]\n",
            "  [0 2 3 3 2 6 0 5]\n",
            "  [1 3 6 5 5 1 8 0]]\n",
            "\n",
            " [[5 9 8 5 7 8 5 8]\n",
            "  [9 9 1 5 9 1 4 7]\n",
            "  [7 7 9 7 6 0 3 9]\n",
            "  [4 4 6 8 4 9 2 1]\n",
            "  [1 6 3 4 5 4 0 2]\n",
            "  [8 0 7 6 5 8 2 2]]\n",
            "\n",
            " [[0 1 2 3 5 7 8 7]\n",
            "  [7 6 9 2 0 4 5 4]\n",
            "  [6 9 0 4 6 4 9 8]\n",
            "  [0 7 1 7 1 1 5 5]\n",
            "  [0 8 3 7 1 5 2 3]\n",
            "  [4 5 7 6 8 0 4 6]]]\n"
          ]
        }
      ]
    },
    {
      "cell_type": "code",
      "source": [
        "arr_vsplit = np.vsplit(arr, 2)\n",
        "print(arr_vsplit)"
      ],
      "metadata": {
        "colab": {
          "base_uri": "https://localhost:8080/"
        },
        "id": "bQtOHPxS2lwx",
        "outputId": "3fa76531-bfc9-4561-d71e-65ec705688ad"
      },
      "execution_count": 112,
      "outputs": [
        {
          "output_type": "stream",
          "name": "stdout",
          "text": [
            "[array([[[9, 1, 9, 4, 2, 6, 7, 8],\n",
            "        [8, 9, 2, 0, 6, 7, 8, 1],\n",
            "        [7, 1, 4, 0, 8, 5, 4, 7],\n",
            "        [8, 8, 2, 6, 2, 8, 8, 6],\n",
            "        [6, 5, 6, 0, 0, 6, 9, 1],\n",
            "        [8, 9, 1, 2, 8, 9, 9, 5]],\n",
            "\n",
            "       [[0, 2, 7, 3, 0, 4, 2, 0],\n",
            "        [3, 3, 1, 2, 5, 9, 0, 1],\n",
            "        [0, 1, 9, 0, 9, 2, 1, 1],\n",
            "        [0, 0, 5, 9, 0, 4, 6, 6],\n",
            "        [0, 2, 3, 3, 2, 6, 0, 5],\n",
            "        [1, 3, 6, 5, 5, 1, 8, 0]]]), array([[[5, 9, 8, 5, 7, 8, 5, 8],\n",
            "        [9, 9, 1, 5, 9, 1, 4, 7],\n",
            "        [7, 7, 9, 7, 6, 0, 3, 9],\n",
            "        [4, 4, 6, 8, 4, 9, 2, 1],\n",
            "        [1, 6, 3, 4, 5, 4, 0, 2],\n",
            "        [8, 0, 7, 6, 5, 8, 2, 2]],\n",
            "\n",
            "       [[0, 1, 2, 3, 5, 7, 8, 7],\n",
            "        [7, 6, 9, 2, 0, 4, 5, 4],\n",
            "        [6, 9, 0, 4, 6, 4, 9, 8],\n",
            "        [0, 7, 1, 7, 1, 1, 5, 5],\n",
            "        [0, 8, 3, 7, 1, 5, 2, 3],\n",
            "        [4, 5, 7, 6, 8, 0, 4, 6]]])]\n"
          ]
        }
      ]
    },
    {
      "cell_type": "code",
      "source": [
        "arr_hsplit = np.hsplit(arr, 2)\n",
        "print(arr_hsplit)"
      ],
      "metadata": {
        "colab": {
          "base_uri": "https://localhost:8080/"
        },
        "id": "Ewiltf5V25EU",
        "outputId": "45c6e0a3-45a2-4eb3-b850-f14d825b6c80"
      },
      "execution_count": 113,
      "outputs": [
        {
          "output_type": "stream",
          "name": "stdout",
          "text": [
            "[array([[[9, 1, 9, 4, 2, 6, 7, 8],\n",
            "        [8, 9, 2, 0, 6, 7, 8, 1],\n",
            "        [7, 1, 4, 0, 8, 5, 4, 7]],\n",
            "\n",
            "       [[0, 2, 7, 3, 0, 4, 2, 0],\n",
            "        [3, 3, 1, 2, 5, 9, 0, 1],\n",
            "        [0, 1, 9, 0, 9, 2, 1, 1]],\n",
            "\n",
            "       [[5, 9, 8, 5, 7, 8, 5, 8],\n",
            "        [9, 9, 1, 5, 9, 1, 4, 7],\n",
            "        [7, 7, 9, 7, 6, 0, 3, 9]],\n",
            "\n",
            "       [[0, 1, 2, 3, 5, 7, 8, 7],\n",
            "        [7, 6, 9, 2, 0, 4, 5, 4],\n",
            "        [6, 9, 0, 4, 6, 4, 9, 8]]]), array([[[8, 8, 2, 6, 2, 8, 8, 6],\n",
            "        [6, 5, 6, 0, 0, 6, 9, 1],\n",
            "        [8, 9, 1, 2, 8, 9, 9, 5]],\n",
            "\n",
            "       [[0, 0, 5, 9, 0, 4, 6, 6],\n",
            "        [0, 2, 3, 3, 2, 6, 0, 5],\n",
            "        [1, 3, 6, 5, 5, 1, 8, 0]],\n",
            "\n",
            "       [[4, 4, 6, 8, 4, 9, 2, 1],\n",
            "        [1, 6, 3, 4, 5, 4, 0, 2],\n",
            "        [8, 0, 7, 6, 5, 8, 2, 2]],\n",
            "\n",
            "       [[0, 7, 1, 7, 1, 1, 5, 5],\n",
            "        [0, 8, 3, 7, 1, 5, 2, 3],\n",
            "        [4, 5, 7, 6, 8, 0, 4, 6]]])]\n"
          ]
        }
      ]
    },
    {
      "cell_type": "markdown",
      "source": [
        "# **Section 7. Numpy 실습 예제**\n",
        "\n"
      ],
      "metadata": {
        "id": "F1Z_J72M3QGm"
      }
    },
    {
      "cell_type": "markdown",
      "source": [
        "## 7-1. 실습 예제 1 ~ 3"
      ],
      "metadata": {
        "id": "TV7FkI023lYc"
      }
    },
    {
      "cell_type": "markdown",
      "source": [
        "<예제 1> 원소가 모두 3인 (3,4,5) 형태의 numpy array를 출력하시오."
      ],
      "metadata": {
        "id": "xulbBSKDNPXC"
      }
    },
    {
      "cell_type": "code",
      "source": [
        "arr = np.full((3, 4, 5), 3)\n",
        "print(arr)"
      ],
      "metadata": {
        "colab": {
          "base_uri": "https://localhost:8080/"
        },
        "id": "_2CwCt2C3bcp",
        "outputId": "0092cdcf-a3e1-4e02-b696-d5d7b044038c"
      },
      "execution_count": 115,
      "outputs": [
        {
          "output_type": "stream",
          "name": "stdout",
          "text": [
            "[[[3 3 3 3 3]\n",
            "  [3 3 3 3 3]\n",
            "  [3 3 3 3 3]\n",
            "  [3 3 3 3 3]]\n",
            "\n",
            " [[3 3 3 3 3]\n",
            "  [3 3 3 3 3]\n",
            "  [3 3 3 3 3]\n",
            "  [3 3 3 3 3]]\n",
            "\n",
            " [[3 3 3 3 3]\n",
            "  [3 3 3 3 3]\n",
            "  [3 3 3 3 3]\n",
            "  [3 3 3 3 3]]]\n"
          ]
        }
      ]
    },
    {
      "cell_type": "markdown",
      "source": [
        "<예제 2> 정수 -50 ~ 50의 범위 안의 난수로 이루어진 (4,5) 형태의 numpy array를 출력하고 행을 기준으로 오름차순 정렬한 결과와 전체 배열을 1차원 배열로 변경하여 오름차순 정렬한 결과를 출력하시오."
      ],
      "metadata": {
        "id": "RRh5f3t1Nblo"
      }
    },
    {
      "cell_type": "code",
      "source": [
        "arr = np.random.randint(-50, 50, (4,5))\n",
        "print(arr)\n",
        "print(\"\\n\")\n",
        "\n",
        "print(np.sort(arr, axis = 0))\n",
        "print(\"\\n\")\n",
        "\n",
        "print(np.sort(np.ravel(arr)))\n",
        "print(np.sort(arr, axis = None))"
      ],
      "metadata": {
        "colab": {
          "base_uri": "https://localhost:8080/"
        },
        "id": "lcGTpn2qNfjv",
        "outputId": "6fa95739-1df3-4db4-96f8-ad35da8ab729"
      },
      "execution_count": 15,
      "outputs": [
        {
          "output_type": "stream",
          "name": "stdout",
          "text": [
            "[[ 47 -49 -44 -24  44]\n",
            " [-43  21 -25 -46 -26]\n",
            " [  6 -41  -7 -25 -25]\n",
            " [ -4   3 -28 -38  38]]\n",
            "\n",
            "\n",
            "[[-43 -49 -44 -46 -26]\n",
            " [ -4 -41 -28 -38 -25]\n",
            " [  6   3 -25 -25  38]\n",
            " [ 47  21  -7 -24  44]]\n",
            "\n",
            "\n",
            "[-49 -46 -44 -43 -41 -38 -28 -26 -25 -25 -25 -24  -7  -4   3   6  21  38\n",
            "  44  47]\n",
            "[-49 -46 -44 -43 -41 -38 -28 -26 -25 -25 -25 -24  -7  -4   3   6  21  38\n",
            "  44  47]\n"
          ]
        }
      ]
    },
    {
      "cell_type": "markdown",
      "source": [
        "<예제 3> 다음과 같이 파이썬 list가 존재한다. list 안에 있는 각 numpy.array의 원소들의 평균값과 표준편차, 중앙값을 순서대로 구하여 구한 순서대로 원소가 이루어진 새로운 list를 구성하고 출력하시오.\n",
        "\n",
        "      py_list = [np.full(3, 8),\n",
        "           np.array([33, -15, 26]),\n",
        "           np.linspace(17, 26, 3)]"
      ],
      "metadata": {
        "id": "jmHvldJ1O9qb"
      }
    },
    {
      "cell_type": "code",
      "source": [
        "py_list = [np.full(3, 8),\n",
        "           np.array([33, -15, 26]),\n",
        "           np.linspace(17, 26, 3)]\n",
        "\n",
        "py_list1 = []\n",
        "\n",
        "for i in range(len(py_list)):\n",
        "  py_list1.append(np.mean(py_list[i]))\n",
        "  py_list1.append(np.std(py_list[i]))\n",
        "  py_list1.append(np.median(py_list[i]))\n",
        "\n",
        "print(py_list1)"
      ],
      "metadata": {
        "colab": {
          "base_uri": "https://localhost:8080/"
        },
        "id": "d7gM1MzmPiwe",
        "outputId": "7669d6ee-88e1-4f5f-ffaa-da368afc6c20"
      },
      "execution_count": 19,
      "outputs": [
        {
          "output_type": "stream",
          "name": "stdout",
          "text": [
            "[8.0, 0.0, 8.0, 14.666666666666666, 21.171259344267224, 26.0, 21.5, 3.6742346141747673, 21.5]\n"
          ]
        }
      ]
    },
    {
      "cell_type": "markdown",
      "source": [
        "## 7-2. 실습 예제 4 ~ 6"
      ],
      "metadata": {
        "id": "jsu4zBNd3qil"
      }
    },
    {
      "cell_type": "markdown",
      "source": [
        "<예제 4> 다음과 같은 numpy.array가 존재한다. 이 배열을 행을 기준으로 3개의 배열로 분할하여 분할된 각 배열의 원소들을 제곱한 결과를 다시 원본 배열에 행을 기준으로 병합하시오.\n",
        "\n",
        "(단, 마지막 출력 결과는 원본 배열과 차원이 같아야 한다)\n",
        "\n",
        "      arr = np.arange(2, 20, 2).reshape((3, 3))"
      ],
      "metadata": {
        "id": "2Di09cS1ant4"
      }
    },
    {
      "cell_type": "code",
      "source": [
        "arr = np.arange(2, 20, 2).reshape((3, 3))\n",
        "\n",
        "arr_vsplit = np.vsplit(arr, 3)\n",
        "arr_vsplit = np.square(arr_vsplit)\n",
        "\n",
        "arr_vsplit = np.squeeze(arr_vsplit, axis = 1)\n",
        "\n",
        "arr = np.append(arr, arr_vsplit, axis = 0)\n",
        "\n",
        "print(arr)"
      ],
      "metadata": {
        "colab": {
          "base_uri": "https://localhost:8080/"
        },
        "id": "-K-w1HwCRtVE",
        "outputId": "93b818da-ff85-4ecf-d051-971910817956"
      },
      "execution_count": 31,
      "outputs": [
        {
          "output_type": "stream",
          "name": "stdout",
          "text": [
            "[[  2   4   6]\n",
            " [  8  10  12]\n",
            " [ 14  16  18]\n",
            " [  4  16  36]\n",
            " [ 64 100 144]\n",
            " [196 256 324]]\n"
          ]
        }
      ]
    },
    {
      "cell_type": "markdown",
      "source": [
        "<예제 5> 삼각함수의 특수각(0, 30, 60, 90)을 numpy.array로 생성한 후 특수각에 해당하는 sin, cos, tan 값을 각각 구하여 파이썬 list에 담은 다음 list에 들어있는 값들을 출력하시오\n",
        "\n",
        "(단, 값이 무한대라면 \"INF\" 문자열을 출력할 것)"
      ],
      "metadata": {
        "id": "nSu5m6qgiD2g"
      }
    },
    {
      "cell_type": "code",
      "source": [
        "rad = np.array([0, 30, 60, 90])\n",
        "rad = rad * np.pi / 180\n",
        "\n",
        "tri_list = []\n",
        "\n",
        "sin = np.sin(rad)\n",
        "cos = np.cos(rad)\n",
        "tan = np.tan(rad)\n",
        "\n",
        "tri_list.append(sin)\n",
        "tri_list.append(cos)\n",
        "tri_list.append(tan)\n",
        "\n",
        "for tri_val in tri_list:\n",
        "  for val in tri_val:\n",
        "    if val > 99999999999:\n",
        "      print(\"INF\")\n",
        "      continue\n",
        "    print(val)\n",
        "  print()"
      ],
      "metadata": {
        "colab": {
          "base_uri": "https://localhost:8080/"
        },
        "id": "KSnFmzVciBfn",
        "outputId": "71b4988a-26d4-4cea-fa43-665c23127738"
      },
      "execution_count": 47,
      "outputs": [
        {
          "output_type": "stream",
          "name": "stdout",
          "text": [
            "0.0\n",
            "0.49999999999999994\n",
            "0.8660254037844386\n",
            "1.0\n",
            "\n",
            "1.0\n",
            "0.8660254037844387\n",
            "0.5000000000000001\n",
            "6.123233995736766e-17\n",
            "\n",
            "0.0\n",
            "0.5773502691896257\n",
            "1.7320508075688767\n",
            "INF\n",
            "\n"
          ]
        }
      ]
    },
    {
      "cell_type": "markdown",
      "source": [
        "<예제 6> numpy.array를 이용하여 다음과 같은 패턴을 출력하시오\n",
        "\n",
        "(단, 출력 시 반복문을 사용하여 출력한다.)\n",
        "\n",
        "        0 1 0 1 0 1 0\n",
        "        1 0 1 0 1 0 1\n",
        "        0 1 0 1 0 1 0\n",
        "        1 0 1 0 1 0 1\n",
        "        0 1 0 1 0 1 0\n",
        "        1 0 1 0 1 0 1\n",
        "        0 1 0 1 0 1 0\n"
      ],
      "metadata": {
        "id": "6658hzUCnpho"
      }
    },
    {
      "cell_type": "code",
      "source": [
        "arr = np.arange(1, 50)\n",
        "\n",
        "for i in arr:\n",
        "  if i % 2 == 0:\n",
        "    print(1, end = ' ')\n",
        "  else:\n",
        "    print(0, end = ' ')\n",
        "\n",
        "  if i % 7 == 0:\n",
        "    print()"
      ],
      "metadata": {
        "colab": {
          "base_uri": "https://localhost:8080/"
        },
        "id": "2Ia3Q0dopcn9",
        "outputId": "d74cea96-dd62-4925-9987-c59a028d0d26"
      },
      "execution_count": 60,
      "outputs": [
        {
          "output_type": "stream",
          "name": "stdout",
          "text": [
            "0 1 0 1 0 1 0 \n",
            "1 0 1 0 1 0 1 \n",
            "0 1 0 1 0 1 0 \n",
            "1 0 1 0 1 0 1 \n",
            "0 1 0 1 0 1 0 \n",
            "1 0 1 0 1 0 1 \n",
            "0 1 0 1 0 1 0 \n"
          ]
        }
      ]
    },
    {
      "cell_type": "code",
      "source": [
        "arr = np.zeros((7, 7), dtype = int)\n",
        "\n",
        "arr[::2, 1::2] = 1\n",
        "arr[1::2, ::2] = 1\n",
        "\n",
        "for row in range(7):\n",
        "  for col in range(7):\n",
        "    print(arr[row, col], end = ' ')\n",
        "  print()\n"
      ],
      "metadata": {
        "colab": {
          "base_uri": "https://localhost:8080/"
        },
        "id": "lErsd_LA1_6F",
        "outputId": "102b30a4-ba55-4014-e92e-e4ed41cd6982"
      },
      "execution_count": 67,
      "outputs": [
        {
          "output_type": "stream",
          "name": "stdout",
          "text": [
            "0 1 0 1 0 1 0 \n",
            "1 0 1 0 1 0 1 \n",
            "0 1 0 1 0 1 0 \n",
            "1 0 1 0 1 0 1 \n",
            "0 1 0 1 0 1 0 \n",
            "1 0 1 0 1 0 1 \n",
            "0 1 0 1 0 1 0 \n"
          ]
        }
      ]
    },
    {
      "cell_type": "markdown",
      "source": [
        "## 7-3. 실습 예제 7 ~ 10"
      ],
      "metadata": {
        "id": "-Pmr07Dw3tVt"
      }
    },
    {
      "cell_type": "markdown",
      "source": [
        "<예제 7> 다음 두 행렬에 대하여 내적 연산을 수행한 결과값을 출력하시오.\n",
        "\n",
        "(단, 결과의 소수점 아래는 제거한다.)\n",
        "\n",
        "    arr1 = np.array([2.1, 3.5\n",
        "                     4.2, 2.7\n",
        "                     2.3, 1.9])\n",
        "    \n",
        "    arr2 = np.array([5, 2, 3\n",
        "                     1, 3, 5])"
      ],
      "metadata": {
        "id": "X1sS-b4J3X6C"
      }
    },
    {
      "cell_type": "code",
      "source": [
        "arr1 = np.array([[2.1, 3.5],\n",
        "                 [4.2, 2.7],\n",
        "                 [2.3, 1.9]])\n",
        "\n",
        "arr2 = np.array([[5, 2, 3],\n",
        "                 [1, 3, 5]])\n",
        "\n",
        "print(np.trunc(np.dot(arr1, arr2)))"
      ],
      "metadata": {
        "colab": {
          "base_uri": "https://localhost:8080/"
        },
        "id": "lL-lgdIn3XVt",
        "outputId": "2bac4aa3-592a-4dce-f867-4d64df0b7cbf"
      },
      "execution_count": 10,
      "outputs": [
        {
          "output_type": "stream",
          "name": "stdout",
          "text": [
            "[[14. 14. 23.]\n",
            " [23. 16. 26.]\n",
            " [13. 10. 16.]]\n"
          ]
        }
      ]
    },
    {
      "cell_type": "markdown",
      "source": [
        "<예제 8> 조건 연산자를 활용한 Boolean 인덱싱을 이용하여 다음 배열의 원소들 중 2와 5의 배열만 추출한 결과를 오름차순 정렬하여 (2,4) 행렬로 출력하시오.\n",
        "\n",
        "      [1, 2,  3,  4\n",
        "       5, 6,  7,  8\n",
        "       9, 10, 11, 12]"
      ],
      "metadata": {
        "id": "nAn1FoT2Lp74"
      }
    },
    {
      "cell_type": "code",
      "source": [
        "arr = np.arange(1, 13).reshape(3, 4)\n",
        "\n",
        "multi = np.sort(np.append(arr[arr % 2 == 0], arr[arr % 5 == 0])).reshape(2,4)\n",
        "\n",
        "print(multi)"
      ],
      "metadata": {
        "colab": {
          "base_uri": "https://localhost:8080/"
        },
        "id": "z_YmlMw0MGDQ",
        "outputId": "400b2af6-5aae-4c0d-96a0-dfc42b55fe10"
      },
      "execution_count": 23,
      "outputs": [
        {
          "output_type": "stream",
          "name": "stdout",
          "text": [
            "[[ 2  4  5  6]\n",
            " [ 8 10 10 12]]\n"
          ]
        }
      ]
    },
    {
      "cell_type": "markdown",
      "source": [
        "<예제 9> 10진수 100이상 150미만 사이에 존재하는 정수를 무작위로 추출하여 (3,10) 형태의 행렬로 만들고 행과 열을 전치한 결과를 출력하시오."
      ],
      "metadata": {
        "id": "WQ3sGKPvO-ge"
      }
    },
    {
      "cell_type": "code",
      "source": [
        "arr = np.random.randint(100, 150, (3,10))\n",
        "print(arr.T)"
      ],
      "metadata": {
        "colab": {
          "base_uri": "https://localhost:8080/"
        },
        "id": "SBPiCMjaO-Pr",
        "outputId": "001ddbb4-a281-4824-b30a-8097bfc87fbc"
      },
      "execution_count": 25,
      "outputs": [
        {
          "output_type": "stream",
          "name": "stdout",
          "text": [
            "[[118 118 105]\n",
            " [101 124 130]\n",
            " [126 135 136]\n",
            " [109 114 121]\n",
            " [106 134 107]\n",
            " [143 100 138]\n",
            " [130 136 128]\n",
            " [127 109 112]\n",
            " [116 126 102]\n",
            " [135 118 121]]\n"
          ]
        }
      ]
    },
    {
      "cell_type": "markdown",
      "source": [
        "<예제 10> 10진수 10 ~ 20 사이에 존재하는 실수형의 수를 무작위로 10000개 추출하여 100개의 구간에 그래프로 시각화하시오.\n",
        "\n",
        "(단, 무작위 실수 값은 균등한 비율로 추출해야 하며 그래프 시각화 도구는 pyplot 모듈을 사용할 것)"
      ],
      "metadata": {
        "id": "2gMkm8o4Phr7"
      }
    },
    {
      "cell_type": "code",
      "source": [
        "arr = np.random.rand(10000) * 10 + 10\n",
        "plt.hist(arr, bins = 100)\n",
        "plt.show()"
      ],
      "metadata": {
        "colab": {
          "base_uri": "https://localhost:8080/",
          "height": 430
        },
        "id": "dyMBG75xPfBN",
        "outputId": "3d7ae8c2-079c-455c-853d-fb32af7cc06e"
      },
      "execution_count": 33,
      "outputs": [
        {
          "output_type": "display_data",
          "data": {
            "text/plain": [
              "<Figure size 640x480 with 1 Axes>"
            ],
            "image/png": "[encoded data removed]"
          },
          "metadata": {}
        }
      ]
    }
  ]
}
